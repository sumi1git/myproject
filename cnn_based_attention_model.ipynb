{
  "cells": [
    {
      "cell_type": "markdown",
      "metadata": {
        "id": "view-in-github",
        "colab_type": "text"
      },
      "source": [
        "<a href=\"https://colab.research.google.com/github/sumi1git/myproject/blob/main/cnn_based_attention_model.ipynb\" target=\"_parent\"><img src=\"https://colab.research.google.com/assets/colab-badge.svg\" alt=\"Open In Colab\"/></a>"
      ]
    },
    {
      "cell_type": "code",
      "execution_count": null,
      "metadata": {
        "colab": {
          "base_uri": "https://localhost:8080/"
        },
        "id": "5x73b6wYLrs5",
        "outputId": "67f25d51-d31a-48e2-f90c-95c5c28c62c4"
      },
      "outputs": [
        {
          "output_type": "stream",
          "name": "stdout",
          "text": [
            "Mounted at /gdrive\n"
          ]
        }
      ],
      "source": [
        "from google.colab import drive\n",
        "#drive.mount('/content/gdrive')\n",
        "drive.mount('/gdrive')"
      ]
    },
    {
      "cell_type": "code",
      "execution_count": null,
      "metadata": {
        "id": "oIKS7zUyLkoO"
      },
      "outputs": [],
      "source": [
        "                                                                                                                                                                                        # This Python 3 environment comes with many helpful analytics libraries installed\n",
        "#several helpful packages to load\n",
        "\n",
        "import numpy as np # linear algebra\n",
        "import pandas as pd # data processing, CSV file I/O (e.g. pd.read_csv)\n",
        "\n",
        "# Input data files are available in the read-only \"../input/\" directory\n",
        "# For example, running this (by clicking run or pressing Shift+Enter) will list all files under the input directory\n",
        "\n",
        "import os\n"
      ]
    },
    {
      "cell_type": "markdown",
      "metadata": {
        "id": "6KAdSdF1LkoQ"
      },
      "source": [
        "****"
      ]
    },
    {
      "cell_type": "markdown",
      "metadata": {
        "id": "G3vdoTOdLkoR"
      },
      "source": [
        "****DATA CLeaning****"
      ]
    },
    {
      "cell_type": "code",
      "execution_count": null,
      "metadata": {
        "colab": {
          "base_uri": "https://localhost:8080/",
          "height": 340
        },
        "id": "x5MytaloLkoS",
        "outputId": "7314cc73-a086-4e67-f603-c87373def6ef"
      },
      "outputs": [
        {
          "output_type": "execute_result",
          "data": {
            "text/plain": [
              "       img_path  Visual_Sentiment  Textual_Sentiment  Overall_Sentiment  \\\n",
              "0  img00021.jpg                 0                  1                  0   \n",
              "1  img00024.jpg                 1                  0                  0   \n",
              "\n",
              "   Unnamed: 4 sentiment image_label text_label joint_label  \\\n",
              "0         NaN  negative    negative    neutral    negative   \n",
              "1         NaN  negative     neutral   negative    negative   \n",
              "\n",
              "                                         scene_res50  \\\n",
              "0  ['\"military uniform\",', '\"bulletproof vest\",',...   \n",
              "1  ['\"menu\",', '\"brass\",', '\"crossword\",', '\"scor...   \n",
              "\n",
              "                                         scene_vgg16  \\\n",
              "0  ['\"baseball player\",', '\"bulletproof vest\",', ...   \n",
              "1  ['\"scoreboard\",', '\"traffic sign\",', '\"menu\",'...   \n",
              "\n",
              "                                         scene_vgg19  \\\n",
              "0  ['\"bulletproof vest\",', '\"horizontal bar\",', '...   \n",
              "1  ['\"dust jacket\",', '\"brass\",', '\"menu\",', '\"sc...   \n",
              "\n",
              "                                                text  \\\n",
              "0  white power movement new book connect movement...   \n",
              "1  lhate lama youral hat usiw anyth work jour tor...   \n",
              "\n",
              "                                        object_names  \\\n",
              "0  ['eye', 'man', 'man', 'man', 'sign', 'sign', '...   \n",
              "1  ['floor', 'writing', 'writing', 'writing', 'wr...   \n",
              "\n",
              "                                        object_score  \\\n",
              "0  [0.5621907711029053, 0.5024511814117432, 0.489...   \n",
              "1  [0.5603692531585693, 0.4662087559700012, 0.462...   \n",
              "\n",
              "                                            att_name  \\\n",
              "0  ['black', 'sitting', 'sitting', 'sitting', 'wh...   \n",
              "1  ['wooden', 'white', 'white', 'white', 'white',...   \n",
              "\n",
              "                                           att_score joint_sentiment  \\\n",
              "0  [0.4743715524673462, 0.18493443727493286, 0.15...        negative   \n",
              "1  [0.304502934217453, 0.5460624694824219, 0.6122...        negative   \n",
              "\n",
              "                                           class_att  \\\n",
              "0  ['eye black', 'man sitting', 'man sitting', 'm...   \n",
              "1  ['floor wooden', 'writing white', 'writing whi...   \n",
              "\n",
              "                                                bbox  \n",
              "0  [[525.07763671875, 236.52786254882812, 609.050...  \n",
              "1  [[0.0, 721.5868530273438, 416.1690368652344, 9...  "
            ],
            "text/html": [
              "\n",
              "  <div id=\"df-f7b4d3c7-7e68-4f6b-9b03-2afa32d27815\" class=\"colab-df-container\">\n",
              "    <div>\n",
              "<style scoped>\n",
              "    .dataframe tbody tr th:only-of-type {\n",
              "        vertical-align: middle;\n",
              "    }\n",
              "\n",
              "    .dataframe tbody tr th {\n",
              "        vertical-align: top;\n",
              "    }\n",
              "\n",
              "    .dataframe thead th {\n",
              "        text-align: right;\n",
              "    }\n",
              "</style>\n",
              "<table border=\"1\" class=\"dataframe\">\n",
              "  <thead>\n",
              "    <tr style=\"text-align: right;\">\n",
              "      <th></th>\n",
              "      <th>img_path</th>\n",
              "      <th>Visual_Sentiment</th>\n",
              "      <th>Textual_Sentiment</th>\n",
              "      <th>Overall_Sentiment</th>\n",
              "      <th>Unnamed: 4</th>\n",
              "      <th>sentiment</th>\n",
              "      <th>image_label</th>\n",
              "      <th>text_label</th>\n",
              "      <th>joint_label</th>\n",
              "      <th>scene_res50</th>\n",
              "      <th>scene_vgg16</th>\n",
              "      <th>scene_vgg19</th>\n",
              "      <th>text</th>\n",
              "      <th>object_names</th>\n",
              "      <th>object_score</th>\n",
              "      <th>att_name</th>\n",
              "      <th>att_score</th>\n",
              "      <th>joint_sentiment</th>\n",
              "      <th>class_att</th>\n",
              "      <th>bbox</th>\n",
              "    </tr>\n",
              "  </thead>\n",
              "  <tbody>\n",
              "    <tr>\n",
              "      <th>0</th>\n",
              "      <td>img00021.jpg</td>\n",
              "      <td>0</td>\n",
              "      <td>1</td>\n",
              "      <td>0</td>\n",
              "      <td>NaN</td>\n",
              "      <td>negative</td>\n",
              "      <td>negative</td>\n",
              "      <td>neutral</td>\n",
              "      <td>negative</td>\n",
              "      <td>['\"military uniform\",', '\"bulletproof vest\",',...</td>\n",
              "      <td>['\"baseball player\",', '\"bulletproof vest\",', ...</td>\n",
              "      <td>['\"bulletproof vest\",', '\"horizontal bar\",', '...</td>\n",
              "      <td>white power movement new book connect movement...</td>\n",
              "      <td>['eye', 'man', 'man', 'man', 'sign', 'sign', '...</td>\n",
              "      <td>[0.5621907711029053, 0.5024511814117432, 0.489...</td>\n",
              "      <td>['black', 'sitting', 'sitting', 'sitting', 'wh...</td>\n",
              "      <td>[0.4743715524673462, 0.18493443727493286, 0.15...</td>\n",
              "      <td>negative</td>\n",
              "      <td>['eye black', 'man sitting', 'man sitting', 'm...</td>\n",
              "      <td>[[525.07763671875, 236.52786254882812, 609.050...</td>\n",
              "    </tr>\n",
              "    <tr>\n",
              "      <th>1</th>\n",
              "      <td>img00024.jpg</td>\n",
              "      <td>1</td>\n",
              "      <td>0</td>\n",
              "      <td>0</td>\n",
              "      <td>NaN</td>\n",
              "      <td>negative</td>\n",
              "      <td>neutral</td>\n",
              "      <td>negative</td>\n",
              "      <td>negative</td>\n",
              "      <td>['\"menu\",', '\"brass\",', '\"crossword\",', '\"scor...</td>\n",
              "      <td>['\"scoreboard\",', '\"traffic sign\",', '\"menu\",'...</td>\n",
              "      <td>['\"dust jacket\",', '\"brass\",', '\"menu\",', '\"sc...</td>\n",
              "      <td>lhate lama youral hat usiw anyth work jour tor...</td>\n",
              "      <td>['floor', 'writing', 'writing', 'writing', 'wr...</td>\n",
              "      <td>[0.5603692531585693, 0.4662087559700012, 0.462...</td>\n",
              "      <td>['wooden', 'white', 'white', 'white', 'white',...</td>\n",
              "      <td>[0.304502934217453, 0.5460624694824219, 0.6122...</td>\n",
              "      <td>negative</td>\n",
              "      <td>['floor wooden', 'writing white', 'writing whi...</td>\n",
              "      <td>[[0.0, 721.5868530273438, 416.1690368652344, 9...</td>\n",
              "    </tr>\n",
              "  </tbody>\n",
              "</table>\n",
              "</div>\n",
              "    <div class=\"colab-df-buttons\">\n",
              "\n",
              "  <div class=\"colab-df-container\">\n",
              "    <button class=\"colab-df-convert\" onclick=\"convertToInteractive('df-f7b4d3c7-7e68-4f6b-9b03-2afa32d27815')\"\n",
              "            title=\"Convert this dataframe to an interactive table.\"\n",
              "            style=\"display:none;\">\n",
              "\n",
              "  <svg xmlns=\"http://www.w3.org/2000/svg\" height=\"24px\" viewBox=\"0 -960 960 960\">\n",
              "    <path d=\"M120-120v-720h720v720H120Zm60-500h600v-160H180v160Zm220 220h160v-160H400v160Zm0 220h160v-160H400v160ZM180-400h160v-160H180v160Zm440 0h160v-160H620v160ZM180-180h160v-160H180v160Zm440 0h160v-160H620v160Z\"/>\n",
              "  </svg>\n",
              "    </button>\n",
              "\n",
              "  <style>\n",
              "    .colab-df-container {\n",
              "      display:flex;\n",
              "      gap: 12px;\n",
              "    }\n",
              "\n",
              "    .colab-df-convert {\n",
              "      background-color: #E8F0FE;\n",
              "      border: none;\n",
              "      border-radius: 50%;\n",
              "      cursor: pointer;\n",
              "      display: none;\n",
              "      fill: #1967D2;\n",
              "      height: 32px;\n",
              "      padding: 0 0 0 0;\n",
              "      width: 32px;\n",
              "    }\n",
              "\n",
              "    .colab-df-convert:hover {\n",
              "      background-color: #E2EBFA;\n",
              "      box-shadow: 0px 1px 2px rgba(60, 64, 67, 0.3), 0px 1px 3px 1px rgba(60, 64, 67, 0.15);\n",
              "      fill: #174EA6;\n",
              "    }\n",
              "\n",
              "    .colab-df-buttons div {\n",
              "      margin-bottom: 4px;\n",
              "    }\n",
              "\n",
              "    [theme=dark] .colab-df-convert {\n",
              "      background-color: #3B4455;\n",
              "      fill: #D2E3FC;\n",
              "    }\n",
              "\n",
              "    [theme=dark] .colab-df-convert:hover {\n",
              "      background-color: #434B5C;\n",
              "      box-shadow: 0px 1px 3px 1px rgba(0, 0, 0, 0.15);\n",
              "      filter: drop-shadow(0px 1px 2px rgba(0, 0, 0, 0.3));\n",
              "      fill: #FFFFFF;\n",
              "    }\n",
              "  </style>\n",
              "\n",
              "    <script>\n",
              "      const buttonEl =\n",
              "        document.querySelector('#df-f7b4d3c7-7e68-4f6b-9b03-2afa32d27815 button.colab-df-convert');\n",
              "      buttonEl.style.display =\n",
              "        google.colab.kernel.accessAllowed ? 'block' : 'none';\n",
              "\n",
              "      async function convertToInteractive(key) {\n",
              "        const element = document.querySelector('#df-f7b4d3c7-7e68-4f6b-9b03-2afa32d27815');\n",
              "        const dataTable =\n",
              "          await google.colab.kernel.invokeFunction('convertToInteractive',\n",
              "                                                    [key], {});\n",
              "        if (!dataTable) return;\n",
              "\n",
              "        const docLinkHtml = 'Like what you see? Visit the ' +\n",
              "          '<a target=\"_blank\" href=https://colab.research.google.com/notebooks/data_table.ipynb>data table notebook</a>'\n",
              "          + ' to learn more about interactive tables.';\n",
              "        element.innerHTML = '';\n",
              "        dataTable['output_type'] = 'display_data';\n",
              "        await google.colab.output.renderOutput(dataTable, element);\n",
              "        const docLink = document.createElement('div');\n",
              "        docLink.innerHTML = docLinkHtml;\n",
              "        element.appendChild(docLink);\n",
              "      }\n",
              "    </script>\n",
              "  </div>\n",
              "\n",
              "\n",
              "<div id=\"df-686f5249-389d-45f5-9ce3-0416510df615\">\n",
              "  <button class=\"colab-df-quickchart\" onclick=\"quickchart('df-686f5249-389d-45f5-9ce3-0416510df615')\"\n",
              "            title=\"Suggest charts\"\n",
              "            style=\"display:none;\">\n",
              "\n",
              "<svg xmlns=\"http://www.w3.org/2000/svg\" height=\"24px\"viewBox=\"0 0 24 24\"\n",
              "     width=\"24px\">\n",
              "    <g>\n",
              "        <path d=\"M19 3H5c-1.1 0-2 .9-2 2v14c0 1.1.9 2 2 2h14c1.1 0 2-.9 2-2V5c0-1.1-.9-2-2-2zM9 17H7v-7h2v7zm4 0h-2V7h2v10zm4 0h-2v-4h2v4z\"/>\n",
              "    </g>\n",
              "</svg>\n",
              "  </button>\n",
              "\n",
              "<style>\n",
              "  .colab-df-quickchart {\n",
              "      --bg-color: #E8F0FE;\n",
              "      --fill-color: #1967D2;\n",
              "      --hover-bg-color: #E2EBFA;\n",
              "      --hover-fill-color: #174EA6;\n",
              "      --disabled-fill-color: #AAA;\n",
              "      --disabled-bg-color: #DDD;\n",
              "  }\n",
              "\n",
              "  [theme=dark] .colab-df-quickchart {\n",
              "      --bg-color: #3B4455;\n",
              "      --fill-color: #D2E3FC;\n",
              "      --hover-bg-color: #434B5C;\n",
              "      --hover-fill-color: #FFFFFF;\n",
              "      --disabled-bg-color: #3B4455;\n",
              "      --disabled-fill-color: #666;\n",
              "  }\n",
              "\n",
              "  .colab-df-quickchart {\n",
              "    background-color: var(--bg-color);\n",
              "    border: none;\n",
              "    border-radius: 50%;\n",
              "    cursor: pointer;\n",
              "    display: none;\n",
              "    fill: var(--fill-color);\n",
              "    height: 32px;\n",
              "    padding: 0;\n",
              "    width: 32px;\n",
              "  }\n",
              "\n",
              "  .colab-df-quickchart:hover {\n",
              "    background-color: var(--hover-bg-color);\n",
              "    box-shadow: 0 1px 2px rgba(60, 64, 67, 0.3), 0 1px 3px 1px rgba(60, 64, 67, 0.15);\n",
              "    fill: var(--button-hover-fill-color);\n",
              "  }\n",
              "\n",
              "  .colab-df-quickchart-complete:disabled,\n",
              "  .colab-df-quickchart-complete:disabled:hover {\n",
              "    background-color: var(--disabled-bg-color);\n",
              "    fill: var(--disabled-fill-color);\n",
              "    box-shadow: none;\n",
              "  }\n",
              "\n",
              "  .colab-df-spinner {\n",
              "    border: 2px solid var(--fill-color);\n",
              "    border-color: transparent;\n",
              "    border-bottom-color: var(--fill-color);\n",
              "    animation:\n",
              "      spin 1s steps(1) infinite;\n",
              "  }\n",
              "\n",
              "  @keyframes spin {\n",
              "    0% {\n",
              "      border-color: transparent;\n",
              "      border-bottom-color: var(--fill-color);\n",
              "      border-left-color: var(--fill-color);\n",
              "    }\n",
              "    20% {\n",
              "      border-color: transparent;\n",
              "      border-left-color: var(--fill-color);\n",
              "      border-top-color: var(--fill-color);\n",
              "    }\n",
              "    30% {\n",
              "      border-color: transparent;\n",
              "      border-left-color: var(--fill-color);\n",
              "      border-top-color: var(--fill-color);\n",
              "      border-right-color: var(--fill-color);\n",
              "    }\n",
              "    40% {\n",
              "      border-color: transparent;\n",
              "      border-right-color: var(--fill-color);\n",
              "      border-top-color: var(--fill-color);\n",
              "    }\n",
              "    60% {\n",
              "      border-color: transparent;\n",
              "      border-right-color: var(--fill-color);\n",
              "    }\n",
              "    80% {\n",
              "      border-color: transparent;\n",
              "      border-right-color: var(--fill-color);\n",
              "      border-bottom-color: var(--fill-color);\n",
              "    }\n",
              "    90% {\n",
              "      border-color: transparent;\n",
              "      border-bottom-color: var(--fill-color);\n",
              "    }\n",
              "  }\n",
              "</style>\n",
              "\n",
              "  <script>\n",
              "    async function quickchart(key) {\n",
              "      const quickchartButtonEl =\n",
              "        document.querySelector('#' + key + ' button');\n",
              "      quickchartButtonEl.disabled = true;  // To prevent multiple clicks.\n",
              "      quickchartButtonEl.classList.add('colab-df-spinner');\n",
              "      try {\n",
              "        const charts = await google.colab.kernel.invokeFunction(\n",
              "            'suggestCharts', [key], {});\n",
              "      } catch (error) {\n",
              "        console.error('Error during call to suggestCharts:', error);\n",
              "      }\n",
              "      quickchartButtonEl.classList.remove('colab-df-spinner');\n",
              "      quickchartButtonEl.classList.add('colab-df-quickchart-complete');\n",
              "    }\n",
              "    (() => {\n",
              "      let quickchartButtonEl =\n",
              "        document.querySelector('#df-686f5249-389d-45f5-9ce3-0416510df615 button');\n",
              "      quickchartButtonEl.style.display =\n",
              "        google.colab.kernel.accessAllowed ? 'block' : 'none';\n",
              "    })();\n",
              "  </script>\n",
              "</div>\n",
              "    </div>\n",
              "  </div>\n"
            ]
          },
          "metadata": {},
          "execution_count": 4
        }
      ],
      "source": [
        "#load and read csv\n",
        "#df=pd.read_csv('/gdrive/MyDrive/sumana_nuig/mvsa_multiple/mvsa_multiple_attr_scene_clean.csv')\n",
        "#df=pd.read_csv('/gdrive/MyDrive/sumana_nuig/mvsa/mvsa_attr_info1_scene clean.csv')\n",
        "df1=pd.read_csv('/gdrive/MyDrive/sumana_nuig/simpson/simpson_scene_clean.csv')\n",
        "df2=pd.read_csv('/gdrive/MyDrive/sumana_nuig/simpson/simpson_attr_info.csv')\n",
        "df=pd.merge(df1,df2,on='img_path',how='inner')\n",
        "#df=df.dropna()\n",
        "df.rename(columns = {'visual_label':'image_label'}, inplace = True)\n",
        "#df=df.dropna()\n",
        "df[:2]"
      ]
    },
    {
      "cell_type": "code",
      "execution_count": null,
      "metadata": {
        "id": "MGoBBM-eLkoT"
      },
      "outputs": [],
      "source": [
        "#get batch of 64 we need 2844 sample\n",
        "#df=df.iloc[:4288:,]"
      ]
    },
    {
      "cell_type": "code",
      "execution_count": null,
      "metadata": {
        "colab": {
          "base_uri": "https://localhost:8080/"
        },
        "id": "RxMwLRULLkoT",
        "outputId": "b885a03c-672a-4382-d1bf-e53d047bcc2f"
      },
      "outputs": [
        {
          "data": {
            "text/plain": [
              "positive    11313\n",
              "neutral      4402\n",
              "negative     1298\n",
              "Name: joint_sentiment, dtype: int64"
            ]
          },
          "execution_count": 5,
          "metadata": {},
          "output_type": "execute_result"
        }
      ],
      "source": [
        "df.joint_sentiment.value_counts()"
      ]
    },
    {
      "cell_type": "markdown",
      "metadata": {
        "id": "-Y5xVRDKLkoU"
      },
      "source": [
        "**Balancing data in the dataframe**"
      ]
    },
    {
      "cell_type": "code",
      "execution_count": null,
      "metadata": {
        "colab": {
          "base_uri": "https://localhost:8080/"
        },
        "id": "J33y2l_YLkoU",
        "outputId": "40e944ee-6157-430d-a5de-781445c804ef"
      },
      "outputs": [
        {
          "name": "stdout",
          "output_type": "stream",
          "text": [
            "(5192, 15)\n",
            "(8804, 15)\n",
            "(25309, 15)\n"
          ]
        },
        {
          "data": {
            "text/plain": [
              "positive    11313\n",
              "neutral      8804\n",
              "negative     5192\n",
              "Name: joint_sentiment, dtype: int64"
            ]
          },
          "execution_count": 5,
          "metadata": {},
          "output_type": "execute_result"
        }
      ],
      "source": [
        "\n",
        "#Blance data for MVSA-Multiple\n",
        "# Downsample the data by randomly selecting 10% of the rows\n",
        "#downsampled_data = data.sample(frac=0.1)\n",
        "\n",
        "# Upsample the data by duplicating each row two times\n",
        "neg=df1[df1['joint_sentiment']=='negative']\n",
        "upsampled_neg = neg.reindex(neg.index.repeat(4))\n",
        "print(upsampled_neg.shape)\n",
        "nut=df1[df1['joint_sentiment']=='neutral']\n",
        "upsampled_nut = nut.reindex(nut.index.repeat(2))\n",
        "print(upsampled_nut.shape)\n",
        "#downsampled_nut = nut.sample(frac=0.2)\n",
        "#downsampled_nut=pd.concat([downsampled_nut,nut])\n",
        "#print(upsampled_nut.shape)\n",
        "pos=df1[df1['joint_sentiment']=='positive']\n",
        "#downsampled_pos = pos.sample(frac=0.5)\n",
        "#print(downsampled_pos.shape)\n",
        "#concat three sampling\n",
        "#df=pd.concat([downsampled_nut.iloc[:5000,:],upsampled_neg.iloc[:5000,:],downsampled_pos.iloc[:5000,:]])\n",
        "#df=pd.concat([downsampled_pos,upsampled_nut,upsampled_neg])\n",
        "df=pd.concat([pos,upsampled_nut,upsampled_neg])\n",
        "print(df.shape)\n",
        "df.joint_sentiment.value_counts()\n"
      ]
    },
    {
      "cell_type": "code",
      "execution_count": null,
      "metadata": {
        "id": "OYINxO-QLkoU"
      },
      "outputs": [],
      "source": [
        "\"\"\"\n",
        "#Blance data for MVSA-Single\n",
        "# Downsample the data by randomly selecting 10% of the rows\n",
        "#downsampled_data = data.sample(frac=0.1)\n",
        "\n",
        "# Upsample the data by duplicating each row two times\n",
        "neg=df1[df1['joint_sentiment']=='negative']\n",
        "upsampled_neg = neg.reindex(neg.index.repeat(2))\n",
        "upsampled_neg=upsampled_neg.iloc[:2593,:]\n",
        "#print(upsampled_neg.shape)\n",
        "nut=df1[df1['joint_sentiment']=='neutral']\n",
        "upsampled_nut = nut.reindex(nut.index.repeat(6))\n",
        "upsampled_nut=upsampled_nut.iloc[:2593,:]\n",
        "print(upsampled_nut.shape)\n",
        "pos=df1[df1['joint_sentiment']=='positive']\n",
        "upsampled_pos=pos.iloc[:2593,:]\n",
        "#concat three sampling\n",
        "df=pd.concat([upsampled_pos,upsampled_nut,upsampled_neg])\n",
        "#df=pd.concat([pos,upsampled_nut,upsampled_neg])\n",
        "df.joint_sentiment.value_counts()\n",
        "print(df.shape)\n",
        "\"\"\""
      ]
    },
    {
      "cell_type": "code",
      "execution_count": null,
      "metadata": {
        "id": "aNS-imQ9gKqF"
      },
      "outputs": [],
      "source": [
        "#remove duplicate pairs of words from class_att\n",
        "def drop_dupli(text):\n",
        "    #seen = set()\n",
        "    result = []\n",
        "    seen=[]\n",
        "    #c=0\n",
        "    for item in text.split():\n",
        "       # seen=[]\n",
        "        if item not in seen:\n",
        "            #seen.add(item)\n",
        "            seen.append(item)\n",
        "            result.append(item)\n",
        "    return \" \".join(result)\n",
        "df['class_att1'] = df['class_att'].apply(drop_dupli)\n",
        "#df['class_att1'] = df['class_att'].apply(lambda x: list(dict.fromkeys(x)))\n",
        "#df.class_att1\n",
        "#df['newame'] = df['Names'].apply(lambda x: list(dict.fromkeys(x)))\n",
        "#print (df)"
      ]
    },
    {
      "cell_type": "code",
      "execution_count": null,
      "metadata": {
        "id": "lIDvhvxKLkoV"
      },
      "outputs": [],
      "source": [
        "df.joint_sentiment.value_counts()"
      ]
    },
    {
      "cell_type": "code",
      "source": [
        "#For Simpson dataset\n",
        "df['ctext'] = df['text'].apply(lambda x: x[:] if (len(x.split())<20) else (\" \".join(x.split()[:20])))"
      ],
      "metadata": {
        "id": "WGxGUC-pzwWR"
      },
      "execution_count": null,
      "outputs": []
    },
    {
      "cell_type": "code",
      "execution_count": null,
      "metadata": {
        "id": "GT1A1duKLkoV",
        "colab": {
          "base_uri": "https://localhost:8080/",
          "height": 369
        },
        "outputId": "6a8271af-5191-4c90-8044-46df28ea221a"
      },
      "outputs": [
        {
          "output_type": "execute_result",
          "data": {
            "text/plain": [
              "       img_path  Visual_Sentiment  Textual_Sentiment  Overall_Sentiment  \\\n",
              "0  img00021.jpg                 0                  1                  0   \n",
              "1  img00024.jpg                 1                  0                  0   \n",
              "\n",
              "   Unnamed: 4 sentiment image_label text_label joint_label  \\\n",
              "0         NaN  negative    negative    neutral    negative   \n",
              "1         NaN  negative     neutral   negative    negative   \n",
              "\n",
              "                                         scene_res50  ...  \\\n",
              "0  \"military uniform\"     \"bulletproof vest\"     ...  ...   \n",
              "1  \"menu\"     \"brass\"     \"crossword\"     \"scoreb...  ...   \n",
              "\n",
              "                                            att_name  \\\n",
              "0  ['black', 'sitting', 'sitting', 'sitting', 'wh...   \n",
              "1  ['wooden', 'white', 'white', 'white', 'white',...   \n",
              "\n",
              "                                           att_score joint_sentiment  \\\n",
              "0  [0.4743715524673462, 0.18493443727493286, 0.15...        negative   \n",
              "1  [0.304502934217453, 0.5460624694824219, 0.6122...        negative   \n",
              "\n",
              "                                           class_att  \\\n",
              "0  ['eye black', 'man sitting', 'man sitting', 'm...   \n",
              "1  ['floor wooden', 'writing white', 'writing whi...   \n",
              "\n",
              "                                                bbox  \\\n",
              "0  [[525.07763671875, 236.52786254882812, 609.050...   \n",
              "1  [[0.0, 721.5868530273438, 416.1690368652344, 9...   \n",
              "\n",
              "                                               ctext  \\\n",
              "0  white power movement new book connect movement...   \n",
              "1  lhate lama youral hat usiw anyth work jour tor...   \n",
              "\n",
              "                                          class_att1  \\\n",
              "0  eye black    man sitting    man sitting    man...   \n",
              "1  floor wooden    writing white    writing white...   \n",
              "\n",
              "                                     class_att_res50  \\\n",
              "0  eye black    man sitting    man sitting    man...   \n",
              "1  floor wooden    writing white    writing white...   \n",
              "\n",
              "                                                cbts  \\\n",
              "0  white power movement new book connect movement...   \n",
              "1  lhate lama youral hat usiw anyth work jour tor...   \n",
              "\n",
              "                                               cbts1  \n",
              "0  eye black    man sitting    man sitting    man...  \n",
              "1  floor wooden    writing white    writing white...  \n",
              "\n",
              "[2 rows x 25 columns]"
            ],
            "text/html": [
              "\n",
              "  <div id=\"df-8564c8cb-bc82-406e-8ae0-6932c7750326\" class=\"colab-df-container\">\n",
              "    <div>\n",
              "<style scoped>\n",
              "    .dataframe tbody tr th:only-of-type {\n",
              "        vertical-align: middle;\n",
              "    }\n",
              "\n",
              "    .dataframe tbody tr th {\n",
              "        vertical-align: top;\n",
              "    }\n",
              "\n",
              "    .dataframe thead th {\n",
              "        text-align: right;\n",
              "    }\n",
              "</style>\n",
              "<table border=\"1\" class=\"dataframe\">\n",
              "  <thead>\n",
              "    <tr style=\"text-align: right;\">\n",
              "      <th></th>\n",
              "      <th>img_path</th>\n",
              "      <th>Visual_Sentiment</th>\n",
              "      <th>Textual_Sentiment</th>\n",
              "      <th>Overall_Sentiment</th>\n",
              "      <th>Unnamed: 4</th>\n",
              "      <th>sentiment</th>\n",
              "      <th>image_label</th>\n",
              "      <th>text_label</th>\n",
              "      <th>joint_label</th>\n",
              "      <th>scene_res50</th>\n",
              "      <th>...</th>\n",
              "      <th>att_name</th>\n",
              "      <th>att_score</th>\n",
              "      <th>joint_sentiment</th>\n",
              "      <th>class_att</th>\n",
              "      <th>bbox</th>\n",
              "      <th>ctext</th>\n",
              "      <th>class_att1</th>\n",
              "      <th>class_att_res50</th>\n",
              "      <th>cbts</th>\n",
              "      <th>cbts1</th>\n",
              "    </tr>\n",
              "  </thead>\n",
              "  <tbody>\n",
              "    <tr>\n",
              "      <th>0</th>\n",
              "      <td>img00021.jpg</td>\n",
              "      <td>0</td>\n",
              "      <td>1</td>\n",
              "      <td>0</td>\n",
              "      <td>NaN</td>\n",
              "      <td>negative</td>\n",
              "      <td>negative</td>\n",
              "      <td>neutral</td>\n",
              "      <td>negative</td>\n",
              "      <td>\"military uniform\"     \"bulletproof vest\"     ...</td>\n",
              "      <td>...</td>\n",
              "      <td>['black', 'sitting', 'sitting', 'sitting', 'wh...</td>\n",
              "      <td>[0.4743715524673462, 0.18493443727493286, 0.15...</td>\n",
              "      <td>negative</td>\n",
              "      <td>['eye black', 'man sitting', 'man sitting', 'm...</td>\n",
              "      <td>[[525.07763671875, 236.52786254882812, 609.050...</td>\n",
              "      <td>white power movement new book connect movement...</td>\n",
              "      <td>eye black    man sitting    man sitting    man...</td>\n",
              "      <td>eye black    man sitting    man sitting    man...</td>\n",
              "      <td>white power movement new book connect movement...</td>\n",
              "      <td>eye black    man sitting    man sitting    man...</td>\n",
              "    </tr>\n",
              "    <tr>\n",
              "      <th>1</th>\n",
              "      <td>img00024.jpg</td>\n",
              "      <td>1</td>\n",
              "      <td>0</td>\n",
              "      <td>0</td>\n",
              "      <td>NaN</td>\n",
              "      <td>negative</td>\n",
              "      <td>neutral</td>\n",
              "      <td>negative</td>\n",
              "      <td>negative</td>\n",
              "      <td>\"menu\"     \"brass\"     \"crossword\"     \"scoreb...</td>\n",
              "      <td>...</td>\n",
              "      <td>['wooden', 'white', 'white', 'white', 'white',...</td>\n",
              "      <td>[0.304502934217453, 0.5460624694824219, 0.6122...</td>\n",
              "      <td>negative</td>\n",
              "      <td>['floor wooden', 'writing white', 'writing whi...</td>\n",
              "      <td>[[0.0, 721.5868530273438, 416.1690368652344, 9...</td>\n",
              "      <td>lhate lama youral hat usiw anyth work jour tor...</td>\n",
              "      <td>floor wooden    writing white    writing white...</td>\n",
              "      <td>floor wooden    writing white    writing white...</td>\n",
              "      <td>lhate lama youral hat usiw anyth work jour tor...</td>\n",
              "      <td>floor wooden    writing white    writing white...</td>\n",
              "    </tr>\n",
              "  </tbody>\n",
              "</table>\n",
              "<p>2 rows × 25 columns</p>\n",
              "</div>\n",
              "    <div class=\"colab-df-buttons\">\n",
              "\n",
              "  <div class=\"colab-df-container\">\n",
              "    <button class=\"colab-df-convert\" onclick=\"convertToInteractive('df-8564c8cb-bc82-406e-8ae0-6932c7750326')\"\n",
              "            title=\"Convert this dataframe to an interactive table.\"\n",
              "            style=\"display:none;\">\n",
              "\n",
              "  <svg xmlns=\"http://www.w3.org/2000/svg\" height=\"24px\" viewBox=\"0 -960 960 960\">\n",
              "    <path d=\"M120-120v-720h720v720H120Zm60-500h600v-160H180v160Zm220 220h160v-160H400v160Zm0 220h160v-160H400v160ZM180-400h160v-160H180v160Zm440 0h160v-160H620v160ZM180-180h160v-160H180v160Zm440 0h160v-160H620v160Z\"/>\n",
              "  </svg>\n",
              "    </button>\n",
              "\n",
              "  <style>\n",
              "    .colab-df-container {\n",
              "      display:flex;\n",
              "      gap: 12px;\n",
              "    }\n",
              "\n",
              "    .colab-df-convert {\n",
              "      background-color: #E8F0FE;\n",
              "      border: none;\n",
              "      border-radius: 50%;\n",
              "      cursor: pointer;\n",
              "      display: none;\n",
              "      fill: #1967D2;\n",
              "      height: 32px;\n",
              "      padding: 0 0 0 0;\n",
              "      width: 32px;\n",
              "    }\n",
              "\n",
              "    .colab-df-convert:hover {\n",
              "      background-color: #E2EBFA;\n",
              "      box-shadow: 0px 1px 2px rgba(60, 64, 67, 0.3), 0px 1px 3px 1px rgba(60, 64, 67, 0.15);\n",
              "      fill: #174EA6;\n",
              "    }\n",
              "\n",
              "    .colab-df-buttons div {\n",
              "      margin-bottom: 4px;\n",
              "    }\n",
              "\n",
              "    [theme=dark] .colab-df-convert {\n",
              "      background-color: #3B4455;\n",
              "      fill: #D2E3FC;\n",
              "    }\n",
              "\n",
              "    [theme=dark] .colab-df-convert:hover {\n",
              "      background-color: #434B5C;\n",
              "      box-shadow: 0px 1px 3px 1px rgba(0, 0, 0, 0.15);\n",
              "      filter: drop-shadow(0px 1px 2px rgba(0, 0, 0, 0.3));\n",
              "      fill: #FFFFFF;\n",
              "    }\n",
              "  </style>\n",
              "\n",
              "    <script>\n",
              "      const buttonEl =\n",
              "        document.querySelector('#df-8564c8cb-bc82-406e-8ae0-6932c7750326 button.colab-df-convert');\n",
              "      buttonEl.style.display =\n",
              "        google.colab.kernel.accessAllowed ? 'block' : 'none';\n",
              "\n",
              "      async function convertToInteractive(key) {\n",
              "        const element = document.querySelector('#df-8564c8cb-bc82-406e-8ae0-6932c7750326');\n",
              "        const dataTable =\n",
              "          await google.colab.kernel.invokeFunction('convertToInteractive',\n",
              "                                                    [key], {});\n",
              "        if (!dataTable) return;\n",
              "\n",
              "        const docLinkHtml = 'Like what you see? Visit the ' +\n",
              "          '<a target=\"_blank\" href=https://colab.research.google.com/notebooks/data_table.ipynb>data table notebook</a>'\n",
              "          + ' to learn more about interactive tables.';\n",
              "        element.innerHTML = '';\n",
              "        dataTable['output_type'] = 'display_data';\n",
              "        await google.colab.output.renderOutput(dataTable, element);\n",
              "        const docLink = document.createElement('div');\n",
              "        docLink.innerHTML = docLinkHtml;\n",
              "        element.appendChild(docLink);\n",
              "      }\n",
              "    </script>\n",
              "  </div>\n",
              "\n",
              "\n",
              "<div id=\"df-873ae94e-511a-4f77-aecf-1c866a85f103\">\n",
              "  <button class=\"colab-df-quickchart\" onclick=\"quickchart('df-873ae94e-511a-4f77-aecf-1c866a85f103')\"\n",
              "            title=\"Suggest charts\"\n",
              "            style=\"display:none;\">\n",
              "\n",
              "<svg xmlns=\"http://www.w3.org/2000/svg\" height=\"24px\"viewBox=\"0 0 24 24\"\n",
              "     width=\"24px\">\n",
              "    <g>\n",
              "        <path d=\"M19 3H5c-1.1 0-2 .9-2 2v14c0 1.1.9 2 2 2h14c1.1 0 2-.9 2-2V5c0-1.1-.9-2-2-2zM9 17H7v-7h2v7zm4 0h-2V7h2v10zm4 0h-2v-4h2v4z\"/>\n",
              "    </g>\n",
              "</svg>\n",
              "  </button>\n",
              "\n",
              "<style>\n",
              "  .colab-df-quickchart {\n",
              "      --bg-color: #E8F0FE;\n",
              "      --fill-color: #1967D2;\n",
              "      --hover-bg-color: #E2EBFA;\n",
              "      --hover-fill-color: #174EA6;\n",
              "      --disabled-fill-color: #AAA;\n",
              "      --disabled-bg-color: #DDD;\n",
              "  }\n",
              "\n",
              "  [theme=dark] .colab-df-quickchart {\n",
              "      --bg-color: #3B4455;\n",
              "      --fill-color: #D2E3FC;\n",
              "      --hover-bg-color: #434B5C;\n",
              "      --hover-fill-color: #FFFFFF;\n",
              "      --disabled-bg-color: #3B4455;\n",
              "      --disabled-fill-color: #666;\n",
              "  }\n",
              "\n",
              "  .colab-df-quickchart {\n",
              "    background-color: var(--bg-color);\n",
              "    border: none;\n",
              "    border-radius: 50%;\n",
              "    cursor: pointer;\n",
              "    display: none;\n",
              "    fill: var(--fill-color);\n",
              "    height: 32px;\n",
              "    padding: 0;\n",
              "    width: 32px;\n",
              "  }\n",
              "\n",
              "  .colab-df-quickchart:hover {\n",
              "    background-color: var(--hover-bg-color);\n",
              "    box-shadow: 0 1px 2px rgba(60, 64, 67, 0.3), 0 1px 3px 1px rgba(60, 64, 67, 0.15);\n",
              "    fill: var(--button-hover-fill-color);\n",
              "  }\n",
              "\n",
              "  .colab-df-quickchart-complete:disabled,\n",
              "  .colab-df-quickchart-complete:disabled:hover {\n",
              "    background-color: var(--disabled-bg-color);\n",
              "    fill: var(--disabled-fill-color);\n",
              "    box-shadow: none;\n",
              "  }\n",
              "\n",
              "  .colab-df-spinner {\n",
              "    border: 2px solid var(--fill-color);\n",
              "    border-color: transparent;\n",
              "    border-bottom-color: var(--fill-color);\n",
              "    animation:\n",
              "      spin 1s steps(1) infinite;\n",
              "  }\n",
              "\n",
              "  @keyframes spin {\n",
              "    0% {\n",
              "      border-color: transparent;\n",
              "      border-bottom-color: var(--fill-color);\n",
              "      border-left-color: var(--fill-color);\n",
              "    }\n",
              "    20% {\n",
              "      border-color: transparent;\n",
              "      border-left-color: var(--fill-color);\n",
              "      border-top-color: var(--fill-color);\n",
              "    }\n",
              "    30% {\n",
              "      border-color: transparent;\n",
              "      border-left-color: var(--fill-color);\n",
              "      border-top-color: var(--fill-color);\n",
              "      border-right-color: var(--fill-color);\n",
              "    }\n",
              "    40% {\n",
              "      border-color: transparent;\n",
              "      border-right-color: var(--fill-color);\n",
              "      border-top-color: var(--fill-color);\n",
              "    }\n",
              "    60% {\n",
              "      border-color: transparent;\n",
              "      border-right-color: var(--fill-color);\n",
              "    }\n",
              "    80% {\n",
              "      border-color: transparent;\n",
              "      border-right-color: var(--fill-color);\n",
              "      border-bottom-color: var(--fill-color);\n",
              "    }\n",
              "    90% {\n",
              "      border-color: transparent;\n",
              "      border-bottom-color: var(--fill-color);\n",
              "    }\n",
              "  }\n",
              "</style>\n",
              "\n",
              "  <script>\n",
              "    async function quickchart(key) {\n",
              "      const quickchartButtonEl =\n",
              "        document.querySelector('#' + key + ' button');\n",
              "      quickchartButtonEl.disabled = true;  // To prevent multiple clicks.\n",
              "      quickchartButtonEl.classList.add('colab-df-spinner');\n",
              "      try {\n",
              "        const charts = await google.colab.kernel.invokeFunction(\n",
              "            'suggestCharts', [key], {});\n",
              "      } catch (error) {\n",
              "        console.error('Error during call to suggestCharts:', error);\n",
              "      }\n",
              "      quickchartButtonEl.classList.remove('colab-df-spinner');\n",
              "      quickchartButtonEl.classList.add('colab-df-quickchart-complete');\n",
              "    }\n",
              "    (() => {\n",
              "      let quickchartButtonEl =\n",
              "        document.querySelector('#df-873ae94e-511a-4f77-aecf-1c866a85f103 button');\n",
              "      quickchartButtonEl.style.display =\n",
              "        google.colab.kernel.accessAllowed ? 'block' : 'none';\n",
              "    })();\n",
              "  </script>\n",
              "</div>\n",
              "    </div>\n",
              "  </div>\n"
            ]
          },
          "metadata": {},
          "execution_count": 7
        }
      ],
      "source": [
        "# clean data\n",
        "import re\n",
        "df[\"class_att1\"] = df[\"class_att\"].apply(lambda x: re.sub(\"[\\[{','}\\]]\", ' ', str(x)).strip())\n",
        "df[\"scene_res50\"] = df[\"scene_res50\"].apply(lambda x: re.sub(\"[\\[{','}\\]]\", ' ', str(x)).strip())\n",
        "df[\"class_att_res50\"] = df[\"class_att\"].str.cat(df[\"scene_res50\"])\n",
        "df[\"class_att_res50\"] = df[\"class_att_res50\"].apply(lambda x: re.sub(\"[\\[{','}\\]]\", ' ', str(x)).strip())\n",
        "df[\"cbts\"] = df[\"ctext\"].str.cat(df[\"class_att\"])\n",
        "df[\"cbts1\"] = df[\"class_att_res50\"].str.cat(df[\"ctext\"])\n",
        "#df[\"class_att1\"] = df[\"class_att\"].apply(lambda x: re.sub(\"[\\[{','}\\]]\", ' ', str(x)).strip())\n",
        "df[:2]\n",
        "\n",
        "#df[\"class_att2\"] = df[\"class_att1\"].apply(lambda x: set(x))\n",
        "#print(\"max len of tweets\",max([len(x.split()) for x in df.class_att1]))#29\n",
        "#print(\"max len of tweets\",max([len(x.split()) for x in df.obj_name]))#29"
      ]
    },
    {
      "cell_type": "code",
      "execution_count": null,
      "metadata": {
        "colab": {
          "base_uri": "https://localhost:8080/",
          "height": 367
        },
        "id": "dlmsTvIlLkoV",
        "outputId": "7caa2f42-e218-47f2-ec85-f5396a7cbbd3"
      },
      "outputs": [
        {
          "data": {
            "text/html": [
              "\n",
              "  <div id=\"df-bc748fed-041d-4983-a822-23e912d3ee55\">\n",
              "    <div class=\"colab-df-container\">\n",
              "      <div>\n",
              "<style scoped>\n",
              "    .dataframe tbody tr th:only-of-type {\n",
              "        vertical-align: middle;\n",
              "    }\n",
              "\n",
              "    .dataframe tbody tr th {\n",
              "        vertical-align: top;\n",
              "    }\n",
              "\n",
              "    .dataframe thead th {\n",
              "        text-align: right;\n",
              "    }\n",
              "</style>\n",
              "<table border=\"1\" class=\"dataframe\">\n",
              "  <thead>\n",
              "    <tr style=\"text-align: right;\">\n",
              "      <th></th>\n",
              "      <th>ID</th>\n",
              "      <th>text_x</th>\n",
              "      <th>img_path</th>\n",
              "      <th>text_label</th>\n",
              "      <th>image_sentiment</th>\n",
              "      <th>joint_label</th>\n",
              "      <th>text_y</th>\n",
              "      <th>object_names</th>\n",
              "      <th>object_score</th>\n",
              "      <th>att_name</th>\n",
              "      <th>att_score</th>\n",
              "      <th>joint_sentiment</th>\n",
              "      <th>class_att</th>\n",
              "      <th>bbox</th>\n",
              "      <th>text</th>\n",
              "      <th>class_att1</th>\n",
              "      <th>cbt</th>\n",
              "    </tr>\n",
              "  </thead>\n",
              "  <tbody>\n",
              "    <tr>\n",
              "      <th>0</th>\n",
              "      <td>2499</td>\n",
              "      <td>Knocked doors with the venerable #TeamTrudeau ...</td>\n",
              "      <td>2499.jpg</td>\n",
              "      <td>positive</td>\n",
              "      <td>positive</td>\n",
              "      <td>positive</td>\n",
              "      <td>Knocked doors with the venerable #TeamTrudeau ...</td>\n",
              "      <td>['window', 'building', 'man', 'man', 'sign', '...</td>\n",
              "      <td>[0.8636385202407837, 0.8330612182617188, 0.830...</td>\n",
              "      <td>['white', 'white', 'standing', 'standing', 're...</td>\n",
              "      <td>[0.4545164406299591, 0.3220462203025818, 0.374...</td>\n",
              "      <td>positive</td>\n",
              "      <td>['window white', 'building white', 'man standi...</td>\n",
              "      <td>[[0.0, 189.970458984375, 69.93639373779297, 37...</td>\n",
              "      <td>knock door venerable teamtrudeau lpc candidate...</td>\n",
              "      <td>window white    building white    man standing...</td>\n",
              "      <td>knock door venerable teamtrudeau lpc candidate...</td>\n",
              "    </tr>\n",
              "    <tr>\n",
              "      <th>1</th>\n",
              "      <td>2500</td>\n",
              "      <td>Canvassing for @ElectKellyYEG #yegfed #elxn42</td>\n",
              "      <td>2500.jpg</td>\n",
              "      <td>neutral</td>\n",
              "      <td>positive</td>\n",
              "      <td>positive</td>\n",
              "      <td>Canvassing for @ElectKellyYEG #yegfed #elxn42</td>\n",
              "      <td>['door', 'door', 'door', 'boy', 'door', 'hair'...</td>\n",
              "      <td>[0.8792338371276855, 0.8491924405097961, 0.813...</td>\n",
              "      <td>['white', 'white', 'white', 'young', 'white', ...</td>\n",
              "      <td>[0.7257274985313416, 0.5963190197944641, 0.746...</td>\n",
              "      <td>positive</td>\n",
              "      <td>['door white', 'door white', 'door white', 'bo...</td>\n",
              "      <td>[[2.5472946166992188, 0.0, 227.929931640625, 4...</td>\n",
              "      <td>canvassing electkellyyeg yegfed elxn42</td>\n",
              "      <td>door white    door white    door white    boy ...</td>\n",
              "      <td>canvassing electkellyyeg yegfed elxn42door whi...</td>\n",
              "    </tr>\n",
              "  </tbody>\n",
              "</table>\n",
              "</div>\n",
              "      <button class=\"colab-df-convert\" onclick=\"convertToInteractive('df-bc748fed-041d-4983-a822-23e912d3ee55')\"\n",
              "              title=\"Convert this dataframe to an interactive table.\"\n",
              "              style=\"display:none;\">\n",
              "        \n",
              "  <svg xmlns=\"http://www.w3.org/2000/svg\" height=\"24px\"viewBox=\"0 0 24 24\"\n",
              "       width=\"24px\">\n",
              "    <path d=\"M0 0h24v24H0V0z\" fill=\"none\"/>\n",
              "    <path d=\"M18.56 5.44l.94 2.06.94-2.06 2.06-.94-2.06-.94-.94-2.06-.94 2.06-2.06.94zm-11 1L8.5 8.5l.94-2.06 2.06-.94-2.06-.94L8.5 2.5l-.94 2.06-2.06.94zm10 10l.94 2.06.94-2.06 2.06-.94-2.06-.94-.94-2.06-.94 2.06-2.06.94z\"/><path d=\"M17.41 7.96l-1.37-1.37c-.4-.4-.92-.59-1.43-.59-.52 0-1.04.2-1.43.59L10.3 9.45l-7.72 7.72c-.78.78-.78 2.05 0 2.83L4 21.41c.39.39.9.59 1.41.59.51 0 1.02-.2 1.41-.59l7.78-7.78 2.81-2.81c.8-.78.8-2.07 0-2.86zM5.41 20L4 18.59l7.72-7.72 1.47 1.35L5.41 20z\"/>\n",
              "  </svg>\n",
              "      </button>\n",
              "      \n",
              "  <style>\n",
              "    .colab-df-container {\n",
              "      display:flex;\n",
              "      flex-wrap:wrap;\n",
              "      gap: 12px;\n",
              "    }\n",
              "\n",
              "    .colab-df-convert {\n",
              "      background-color: #E8F0FE;\n",
              "      border: none;\n",
              "      border-radius: 50%;\n",
              "      cursor: pointer;\n",
              "      display: none;\n",
              "      fill: #1967D2;\n",
              "      height: 32px;\n",
              "      padding: 0 0 0 0;\n",
              "      width: 32px;\n",
              "    }\n",
              "\n",
              "    .colab-df-convert:hover {\n",
              "      background-color: #E2EBFA;\n",
              "      box-shadow: 0px 1px 2px rgba(60, 64, 67, 0.3), 0px 1px 3px 1px rgba(60, 64, 67, 0.15);\n",
              "      fill: #174EA6;\n",
              "    }\n",
              "\n",
              "    [theme=dark] .colab-df-convert {\n",
              "      background-color: #3B4455;\n",
              "      fill: #D2E3FC;\n",
              "    }\n",
              "\n",
              "    [theme=dark] .colab-df-convert:hover {\n",
              "      background-color: #434B5C;\n",
              "      box-shadow: 0px 1px 3px 1px rgba(0, 0, 0, 0.15);\n",
              "      filter: drop-shadow(0px 1px 2px rgba(0, 0, 0, 0.3));\n",
              "      fill: #FFFFFF;\n",
              "    }\n",
              "  </style>\n",
              "\n",
              "      <script>\n",
              "        const buttonEl =\n",
              "          document.querySelector('#df-bc748fed-041d-4983-a822-23e912d3ee55 button.colab-df-convert');\n",
              "        buttonEl.style.display =\n",
              "          google.colab.kernel.accessAllowed ? 'block' : 'none';\n",
              "\n",
              "        async function convertToInteractive(key) {\n",
              "          const element = document.querySelector('#df-bc748fed-041d-4983-a822-23e912d3ee55');\n",
              "          const dataTable =\n",
              "            await google.colab.kernel.invokeFunction('convertToInteractive',\n",
              "                                                     [key], {});\n",
              "          if (!dataTable) return;\n",
              "\n",
              "          const docLinkHtml = 'Like what you see? Visit the ' +\n",
              "            '<a target=\"_blank\" href=https://colab.research.google.com/notebooks/data_table.ipynb>data table notebook</a>'\n",
              "            + ' to learn more about interactive tables.';\n",
              "          element.innerHTML = '';\n",
              "          dataTable['output_type'] = 'display_data';\n",
              "          await google.colab.output.renderOutput(dataTable, element);\n",
              "          const docLink = document.createElement('div');\n",
              "          docLink.innerHTML = docLinkHtml;\n",
              "          element.appendChild(docLink);\n",
              "        }\n",
              "      </script>\n",
              "    </div>\n",
              "  </div>\n",
              "  "
            ],
            "text/plain": [
              "     ID                                             text_x  img_path  \\\n",
              "0  2499  Knocked doors with the venerable #TeamTrudeau ...  2499.jpg   \n",
              "1  2500      Canvassing for @ElectKellyYEG #yegfed #elxn42  2500.jpg   \n",
              "\n",
              "  text_label image_sentiment joint_label  \\\n",
              "0   positive        positive    positive   \n",
              "1    neutral        positive    positive   \n",
              "\n",
              "                                              text_y  \\\n",
              "0  Knocked doors with the venerable #TeamTrudeau ...   \n",
              "1      Canvassing for @ElectKellyYEG #yegfed #elxn42   \n",
              "\n",
              "                                        object_names  \\\n",
              "0  ['window', 'building', 'man', 'man', 'sign', '...   \n",
              "1  ['door', 'door', 'door', 'boy', 'door', 'hair'...   \n",
              "\n",
              "                                        object_score  \\\n",
              "0  [0.8636385202407837, 0.8330612182617188, 0.830...   \n",
              "1  [0.8792338371276855, 0.8491924405097961, 0.813...   \n",
              "\n",
              "                                            att_name  \\\n",
              "0  ['white', 'white', 'standing', 'standing', 're...   \n",
              "1  ['white', 'white', 'white', 'young', 'white', ...   \n",
              "\n",
              "                                           att_score joint_sentiment  \\\n",
              "0  [0.4545164406299591, 0.3220462203025818, 0.374...        positive   \n",
              "1  [0.7257274985313416, 0.5963190197944641, 0.746...        positive   \n",
              "\n",
              "                                           class_att  \\\n",
              "0  ['window white', 'building white', 'man standi...   \n",
              "1  ['door white', 'door white', 'door white', 'bo...   \n",
              "\n",
              "                                                bbox  \\\n",
              "0  [[0.0, 189.970458984375, 69.93639373779297, 37...   \n",
              "1  [[2.5472946166992188, 0.0, 227.929931640625, 4...   \n",
              "\n",
              "                                                text  \\\n",
              "0  knock door venerable teamtrudeau lpc candidate...   \n",
              "1             canvassing electkellyyeg yegfed elxn42   \n",
              "\n",
              "                                          class_att1  \\\n",
              "0  window white    building white    man standing...   \n",
              "1  door white    door white    door white    boy ...   \n",
              "\n",
              "                                                 cbt  \n",
              "0  knock door venerable teamtrudeau lpc candidate...  \n",
              "1  canvassing electkellyyeg yegfed elxn42door whi...  "
            ]
          },
          "execution_count": 5,
          "metadata": {},
          "output_type": "execute_result"
        }
      ],
      "source": [
        "#df1[\"object_attr_ctext\"]=df1[\"object_names\"].str.cat(df1[\"att_name\"])\n",
        "#df[\"object_attr_text\"]=df[\"class_att\"].str.cat(df[\"text\"])\n",
        "df[\"cbt\"]=df[\"text\"].str.cat(df[\"class_att1\"])\n",
        "df[:2]"
      ]
    },
    {
      "cell_type": "code",
      "execution_count": null,
      "metadata": {
        "colab": {
          "base_uri": "https://localhost:8080/"
        },
        "id": "a4xKtL_ULkoW",
        "outputId": "3beb2d37-0702-41ac-815a-25c917ba665c"
      },
      "outputs": [
        {
          "output_type": "stream",
          "name": "stdout",
          "text": [
            "(2264, 25) (566, 25)\n"
          ]
        }
      ],
      "source": [
        "#split train and test\n",
        "from sklearn.model_selection import train_test_split\n",
        "train_df, test_df = train_test_split(df, test_size=0.20)\n",
        "#train_df, test_df = train_test_split(df, test_size=0.10,random_state=42)\n",
        "#train_df, val_df = train_test_split(train_dff, test_size=0.1)\n",
        "print(train_df.shape,test_df.shape)"
      ]
    },
    {
      "cell_type": "code",
      "execution_count": null,
      "metadata": {
        "id": "RbM9HkXtLkoW"
      },
      "outputs": [],
      "source": [
        "#train_df[:2]"
      ]
    },
    {
      "cell_type": "code",
      "execution_count": null,
      "metadata": {
        "id": "Y0PDFc4vLkoW"
      },
      "outputs": [],
      "source": [
        "#y_train=pd.get_dummies(train_df.joint_sentiment)\n",
        "#y_test=pd.get_dummies(test_df.joint_sentiment)\n",
        "y_train=pd.get_dummies(train_df.image_label)\n",
        "y_test=pd.get_dummies(test_df.image_label)\n",
        "#y_val=pd.get_dummies(val_df.joint_sentiment)\n"
      ]
    },
    {
      "cell_type": "code",
      "execution_count": null,
      "metadata": {
        "id": "mX1Is-dPLkoW"
      },
      "outputs": [],
      "source": [
        "def get_label_code(text):\n",
        "    if text=='positive':\n",
        "        return 2\n",
        "    elif text=='neutral':\n",
        "        return 1\n",
        "    else :\n",
        "        return 0\n",
        "#test_df['jlabel']=test_df['joint_label'].apply(get_label_code)\n",
        "#test_df['jlabel']=test_df['joint_sentiment'].apply(get_label_code)\n",
        "#test_df['jlabel']=test_df['afc'].apply(get_label_code)\n",
        "test_df['ilabel']=test_df['image_label'].apply(get_label_code)\n",
        "#test_df['tlabel']=test_df['tsentiment'].apply(get_label_code)\n",
        "#test_df[:2]"
      ]
    },
    {
      "cell_type": "markdown",
      "metadata": {
        "id": "8MPGSmNULkoW"
      },
      "source": [
        "### Filtering all the warnings sign"
      ]
    },
    {
      "cell_type": "code",
      "execution_count": null,
      "metadata": {
        "id": "Qzr9UoHmLkoX"
      },
      "outputs": [],
      "source": [
        "import warnings\n",
        "warnings.filterwarnings('ignore')\n",
        "%config Completer.use_jedi = False # if autocompletion doesnot work in kaggle notebook | hit tab"
      ]
    },
    {
      "cell_type": "code",
      "execution_count": null,
      "metadata": {
        "colab": {
          "base_uri": "https://localhost:8080/"
        },
        "id": "RQxI_wTaLkoX",
        "outputId": "4150af9a-34ce-427e-f940-753575c83332"
      },
      "outputs": [
        {
          "output_type": "stream",
          "name": "stdout",
          "text": [
            "Collecting keras_preprocessing\n",
            "  Downloading Keras_Preprocessing-1.1.2-py2.py3-none-any.whl (42 kB)\n",
            "\u001b[?25l     \u001b[90m━━━━━━━━━━━━━━━━━━━━━━━━━━━━━━━━━━━━━━━━\u001b[0m \u001b[32m0.0/42.6 kB\u001b[0m \u001b[31m?\u001b[0m eta \u001b[36m-:--:--\u001b[0m\r\u001b[2K     \u001b[90m━━━━━━━━━━━━━━━━━━━━━━━━━━━━━━━━━━━━━━━━\u001b[0m \u001b[32m42.6/42.6 kB\u001b[0m \u001b[31m2.0 MB/s\u001b[0m eta \u001b[36m0:00:00\u001b[0m\n",
            "\u001b[?25hRequirement already satisfied: numpy>=1.9.1 in /usr/local/lib/python3.10/dist-packages (from keras_preprocessing) (1.25.2)\n",
            "Requirement already satisfied: six>=1.9.0 in /usr/local/lib/python3.10/dist-packages (from keras_preprocessing) (1.16.0)\n",
            "Installing collected packages: keras_preprocessing\n",
            "Successfully installed keras_preprocessing-1.1.2\n"
          ]
        }
      ],
      "source": [
        "!pip install keras_preprocessing"
      ]
    },
    {
      "cell_type": "code",
      "execution_count": null,
      "metadata": {
        "id": "X6gId877LkoX"
      },
      "outputs": [],
      "source": [
        "#import libraries\n",
        "import tensorflow as tf\n",
        "import matplotlib.pyplot as plt\n",
        "from tensorflow.keras.optimizers import Adam\n",
        "from keras_preprocessing.text import Tokenizer\n",
        "from sklearn.metrics import accuracy_score,precision_score,recall_score,f1_score\n",
        "from keras_preprocessing.sequence import pad_sequences\n",
        "from tensorflow.keras.layers import Conv1D, Conv2D,MaxPooling2D,Bidirectional, LSTM, Dense, Input, Flatten,Dropout,GlobalMaxPool1D,MaxPooling1D,Concatenate\n",
        "from tensorflow.keras.layers import SpatialDropout1D"
      ]
    },
    {
      "cell_type": "code",
      "execution_count": null,
      "metadata": {
        "colab": {
          "base_uri": "https://localhost:8080/"
        },
        "id": "Tx14W9yXLkoX",
        "outputId": "f8a77b9e-b927-4560-9bf5-96f22ffb1e71"
      },
      "outputs": [
        {
          "name": "stdout",
          "output_type": "stream",
          "text": [
            "max len of tweets 65\n",
            "max len of tweets 54\n"
          ]
        }
      ],
      "source": [
        "\n",
        "print(\"max len of tweets\",max([len(x.split()) for x in train_df.cbt]))\n",
        "print(\"max len of tweets\",max([len(x.split()) for x in train_df.class_att1]))"
      ]
    },
    {
      "cell_type": "markdown",
      "metadata": {
        "id": "wOvNgqLXLkoX"
      },
      "source": []
    },
    {
      "cell_type": "code",
      "execution_count": null,
      "metadata": {
        "id": "RS__ZUgQLkoX"
      },
      "outputs": [],
      "source": [
        "#import Glove\n",
        "GLOVE_EMB = '/gdrive/MyDrive/sumana_nuig/glove.6B.300d.txt'\n",
        "EMBEDDING_DIM = 300"
      ]
    },
    {
      "cell_type": "markdown",
      "metadata": {
        "id": "tmNjqt63LkoY"
      },
      "source": [
        "**Sentiment of Combined text: which is concatenation of image description and Caption Text with that image **"
      ]
    },
    {
      "cell_type": "code",
      "execution_count": null,
      "metadata": {
        "id": "awvZrXYfLkoY"
      },
      "outputs": [],
      "source": [
        "#Training and Test\n",
        "def load_tarin_test_dataset(train,test,col,str_len):\n",
        "    column=col\n",
        "    max_len=str_len\n",
        "    tokenizer = Tokenizer()\n",
        "    tokenizer.fit_on_texts( train[column])\n",
        "    #tokenizer.fit_on_texts(train_df.object_attr1_text)\n",
        "    #tokenizer.fit_on_texts(train_df.text)\n",
        "    #tokenizer1.fit_on_texts(test_data)\n",
        "\n",
        "    word_index = tokenizer.word_index\n",
        "    vocab_size = len(tokenizer.word_index) + 1\n",
        "    #print(\"Vocabulary Size :\", vocab_size)\n",
        "\n",
        "    #jx_train = pad_sequences(tokenizer.texts_to_sequences(train_df.text), maxlen = max_len)\n",
        "    x_train = pad_sequences(tokenizer.texts_to_sequences( train[column]), maxlen = max_len)\n",
        "    #x_val = pad_sequences(tokenizer.texts_to_sequences(val_df.class_att), maxlen = 32)\n",
        "    #jx_test = pad_sequences(tokenizer.texts_to_sequences(test_df.text), maxlen =max_len )\n",
        "    x_test = pad_sequences(tokenizer.texts_to_sequences( test[column]), maxlen =max_len )\n",
        "    #y_train, y_test = train_test_split(y, test_size=1-TRAIN_SIZE,random_state=7) # Splits Dataset into Training and Testing set\n",
        "    #y_train, y_test = train_test_split(df['POSITIVE'], test_size=1-TRAIN_SIZE,random_state=7)\n",
        "    embeddings_index = {}\n",
        "\n",
        "    f = open(GLOVE_EMB, encoding=\"utf8\")\n",
        "    for line in f :\n",
        "        values = line.split()\n",
        "        word = value = values[0]\n",
        "        coefs = np.asarray(values[1:], dtype='float32')\n",
        "        embeddings_index[word] = coefs\n",
        "    f.close()\n",
        "\n",
        "    print('Found %s word vectors.' %len(embeddings_index))\n",
        "    embedding_matrix = np.zeros((vocab_size, EMBEDDING_DIM))\n",
        "    print(embedding_matrix.shape)\n",
        "    for word, i in word_index.items():\n",
        "        embedding_vector = embeddings_index.get(word)\n",
        "        if embedding_vector is not None:\n",
        "            embedding_matrix[i] = embedding_vector\n",
        "\n",
        "    embedding_layer = tf.keras.layers.Embedding(vocab_size,\n",
        "                                          EMBEDDING_DIM,\n",
        "                                          weights=[embedding_matrix],\n",
        "                                          input_length=max_len,#MAX_SEQUENCE_LENGTH,\n",
        "                                          trainable=False)\n",
        "    return x_train,x_test,vocab_size,embedding_layer\n",
        "\n"
      ]
    },
    {
      "cell_type": "markdown",
      "metadata": {
        "id": "ZZqrm2p-LkoY"
      },
      "source": [
        "**Design CNN MOdel**"
      ]
    },
    {
      "cell_type": "code",
      "execution_count": null,
      "metadata": {
        "id": "RaT5xKrjLkoY"
      },
      "outputs": [],
      "source": [
        "\"\"\"\n",
        "#call train test dataset\n",
        "max_len=max([len(x.split()) for x in train_df.cbt])\n",
        "\n",
        "x_train,x_test,vocab_size,embedding_layer=load_tarin_test_dataset(train_df,test_df,'cbt',max_len)\n",
        "print(\"Vocabulary Size :\", vocab_size)\n",
        "print(\"Training X Shape:\",x_train.shape)\n",
        "print(\"Testing X Shape:\",x_test.shape)\n",
        "\n",
        "\n",
        "kernel_sizes = [5,4,3]\n",
        "num_filters = 100\n",
        "#jsequence_input = Input(shape=(maxlen,), dtype='int32')\n",
        "jsequence_input = Input(shape=(max_len,), dtype='int32')\n",
        "jembedding_sequences = embedding_layer(jsequence_input)\n",
        "x = SpatialDropout1D(0.2)(jembedding_sequences)\n",
        "conv_layers = []\n",
        "for kernel_size in kernel_sizes:\n",
        "    conv_layer = Conv1D(filters=num_filters, kernel_size=kernel_size, activation='relu')(x)#(jembedding_sequences)\n",
        "    pool_layer = MaxPooling1D(pool_size=max_len - kernel_size + 1)(conv_layer)\n",
        "    #pool_layer = MaxPooling1D()(conv_layer)\n",
        "    #pool_layer = tf.keras.layers.Reshape((1, -1))(pool_layer)\n",
        "    conv_layers.append(pool_layer)\n",
        "\n",
        "#Concatenate all convolutional layers\n",
        "concatenate_layer = tf.keras.layers.Concatenate()(conv_layers)\n",
        "flatten_layer = Flatten()(concatenate_layer)\n",
        "x = Dropout(0.5)(flatten_layer)#(x)\n",
        "#x = Conv1D(100, 4, padding='same',activation='relu')(x)\n",
        "#x = Conv1D(100, 3,activation='relu')(x)\n",
        "#x=Conv1D(64, 5,padding='same', kernel_initializer='he_uniform',activation='relu')(x)#(jembedding_sequences)#\n",
        "#x = Dense(100, activation='relu')(x)\n",
        "#x= GlobalMaxPool1D()(x)\n",
        "#x = Dropout(0.5)(x)\n",
        "\n",
        "#x=Flatten()(x)\n",
        "x = Dense(100, kernel_regularizer=tf.keras.regularizers.l2(0.01), activation='relu')(x)\n",
        "x = Dropout(0.5)(x)\n",
        "outputs = Dense(3, kernel_regularizer=tf.keras.regularizers.l2(0.01),activation='softmax')(x)\n",
        "#outputs = Dense(3,activation='softmax')(x)\n",
        "modelse= tf.keras.Model(jsequence_input, outputs)\n",
        "#Model Compile\n",
        "from tensorflow.keras.callbacks import ReduceLROnPlateau\n",
        "\n",
        "modelse.compile(optimizer=tf.keras.optimizers.Adam(learning_rate=0.001), loss='categorical_crossentropy',\n",
        "               metrics=['categorical_accuracy'])\n",
        "#modelse.compile(optimizer=optimizer, loss='categorical_crossentropy',\n",
        "             # metrics=metric)#['categorical_accuracy'])\n",
        "\n",
        "historyse = modelse.fit(x_train, y_train, epochs=10,batch_size=128, validation_split=0.1,validation_data=(x_test, y_test))\n",
        "\n",
        "s, (at, al) = plt.subplots(2,1)\n",
        "at.plot(historyse.history['categorical_accuracy'], c= 'b')\n",
        "at.plot(historyse.history['val_categorical_accuracy'], c='r')\n",
        "at.set_title('model accuracy')\n",
        "at.set_ylabel('accuracy')\n",
        "at.set_xlabel('epoch')\n",
        "at.legend(['CNN_train', 'CNN_val'], loc='upper left')\n",
        "\n",
        "al.plot(historyse.history['loss'], c='m')\n",
        "al.plot(historyse.history['val_loss'], c='c')\n",
        "al.set_title('model loss')\n",
        "al.set_ylabel('loss')\n",
        "al.set_xlabel('epoch')\n",
        "al.legend(['train', 'val'], loc = 'upper left')\n",
        "#<matplotlib.legend.Legend at 0x7f3739c12490>\n",
        "#ypred=modelse.predict(x_test)\n",
        "#ypred=np.around(ypred)\n",
        "predicted = modelse.predict(x_test)\n",
        "bscore=modelse.evaluate(x_test,y_test)\n",
        "print('Test Loss:', bscore[0])\n",
        "print('Test accuracy:', bscore[1])\n",
        "ypredicted = np.argmax(predicted,axis=1)\n",
        "#y_predicted = np.where(predicted>0.5,1,0)\n",
        "from sklearn.metrics import classification_report\n",
        "print(classification_report(test_df.jlabel,ypredicted))\n",
        "#from sklearn.metrics import accuracy_score,jaccard_score,pr\n",
        "\"\"\"\n"
      ]
    },
    {
      "cell_type": "code",
      "execution_count": null,
      "metadata": {
        "id": "dEW5YpUxLkoZ"
      },
      "outputs": [],
      "source": [
        "\n",
        "\"\"\"\n",
        "def cnn_model(str_length,embeding_layer):\n",
        "    max_len=str_length\n",
        "    embeding_layer=embeding_layer\n",
        "    #CNN for caption text\n",
        "    sequence_input = Input(shape=(max_len,), dtype='int32')\n",
        "    embedding_sequences = embedding_layer(sequence_input)\n",
        "    txt = SpatialDropout1D(0.1)(embedding_sequences)\n",
        "    txt=Conv1D(100, 4,activation='relu')(txt)#(tembedding_sequences)#(x)\n",
        "    #txt = Bidirectional(LSTM(32, dropout=0.2, recurrent_dropout=0.2))(txt)#(tembedding_sequences)\n",
        "    #ttxtb = Dense(256, activation='tanh')(txtb)\n",
        "    txt= GlobalMaxPool1D()(txt)\n",
        "    txt=Flatten()(txt)\n",
        "    txt = Dense(256, activation='tanh')(txt)\n",
        "    return sequence_input,txt\n",
        "\"\"\""
      ]
    },
    {
      "cell_type": "code",
      "execution_count": null,
      "metadata": {
        "id": "_PJ0EaXVLkoZ"
      },
      "outputs": [],
      "source": [
        "def cnn_model(num_filters,kernel_size,string_length,embeding_layer):\n",
        "    num_filters=num_filters\n",
        "    kernel_size=kernel_size\n",
        "    #jsequence_input = Input(shape=(maxlen,), dtype='int32')\n",
        "    sequence_input = Input(shape=(max_len,), dtype='int32')\n",
        "    embedding_sequences = embedding_layer(sequence_input)\n",
        "    x = SpatialDropout1D(0.2)(embedding_sequences)\n",
        "    conv_layers = []\n",
        "    for num_filters,kernel_size in zip(num_filters,kernel_size):\n",
        "        conv_layer = Conv1D(filters=num_filters, kernel_size=kernel_size, activation='relu')(x)#(jembedding_sequences)\n",
        "        pool_layer = MaxPooling1D(pool_size=max_len - kernel_size + 1)(conv_layer)\n",
        "        #pool_layer = MaxPooling1D()(conv_layer)\n",
        "        #pool_layer = tf.keras.layers.Reshape((1, -1))(pool_layer)\n",
        "        conv_layers.append(pool_layer)\n",
        "\n",
        "    #Concatenate all convolutional layers\n",
        "    concatenate_layer = tf.keras.layers.Concatenate()(conv_layers)\n",
        "    flatten_layer = Flatten()(concatenate_layer)\n",
        "    x = Dropout(0.5)(flatten_layer)#(x)\n",
        "    txt = Dense(256, activation='tanh')(x)\n",
        "\n",
        "    #x = Dense(100, kernel_regularizer=tf.keras.regularizers.l2(0.01), activation='relu')(x)\n",
        "    #x = Dropout(0.5)(x)\n",
        "    #outputs = Dense(3, kernel_regularizer=tf.keras.regularizers.l2(0.01),activation='softmax')(x)\n",
        "    #outputs = Dense(3,activation='softmax')(x)\n",
        "    #model= tf.keras.Model(jsequence_input, outputs)\n",
        "    #return model\n",
        "    return sequence_input,txt\n",
        "#modelse=cnn_model(num_filters,kernel_sizes,max_len,embedding_layer)"
      ]
    },
    {
      "cell_type": "markdown",
      "metadata": {
        "id": "ojFUEhNBLkoZ"
      },
      "source": [
        "**Extract Caption text features**"
      ]
    },
    {
      "cell_type": "code",
      "execution_count": null,
      "metadata": {
        "colab": {
          "base_uri": "https://localhost:8080/"
        },
        "id": "oLMZRjY9Lkoa",
        "outputId": "eff6d42a-4d4e-4789-9503-4a5a02fa37c2"
      },
      "outputs": [
        {
          "name": "stdout",
          "output_type": "stream",
          "text": [
            "Found 400000 word vectors.\n",
            "(29947, 300)\n",
            "Vocabulary Size : 29947\n",
            "Training X Shape: (15311, 19)\n",
            "Testing X Shape: (1702, 19)\n"
          ]
        }
      ],
      "source": [
        "#For Caprion text\n",
        "\n",
        "\n",
        "max_len=max([len(x.split()) for x in train_df.text])\n",
        "#tx_train,tx_test,vocab_size,embedding_layer=load_tarin_test_dataset(train_df,test_df,'text',max([len(x.split()) for x in train_df.text]))\n",
        "tx_train,tx_test,vocab_size,embedding_layer=load_tarin_test_dataset(train_df,test_df,'text',max_len)\n",
        "print(\"Vocabulary Size :\", vocab_size)\n",
        "print(\"Training X Shape:\",tx_train.shape)\n",
        "print(\"Testing X Shape:\",tx_test.shape)\n",
        "#call train text dataset\n",
        "kernel_sizes = [4,3,2]\n",
        "num_filters = [200,150,100]\n",
        "text_input,ttxt=cnn_model(num_filters,kernel_sizes,max_len,embedding_layer)"
      ]
    },
    {
      "cell_type": "markdown",
      "metadata": {
        "id": "Knp2oNAaLkoa"
      },
      "source": [
        "**Extract Class-attributes features **"
      ]
    },
    {
      "cell_type": "code",
      "execution_count": null,
      "metadata": {
        "colab": {
          "base_uri": "https://localhost:8080/"
        },
        "id": "Bts-MlrALkoa",
        "outputId": "a6cd9dc1-bd90-40ac-8b5a-950f6abce735"
      },
      "outputs": [
        {
          "output_type": "stream",
          "name": "stdout",
          "text": [
            "Found 400000 word vectors.\n",
            "(595, 300)\n",
            "Vocabulary Size : 595\n",
            "Training X Shape: (2264, 42)\n",
            "Testing X Shape: (566, 42)\n"
          ]
        }
      ],
      "source": [
        "#For class-attributes pairs\n",
        "\n",
        "#call train test dataset\n",
        "max_len=max([len(x.split()) for x in train_df.class_att1])\n",
        "#tx_train,tx_test,vocab_size,embedding_layer=load_tarin_test_dataset(train_df,test_df,'text',max([len(x.split()) for x in train_df.text]))\n",
        "ax_train,ax_test,vocab_size,embedding_layer=load_tarin_test_dataset(train_df,test_df,'class_att1',max_len)\n",
        "print(\"Vocabulary Size :\", vocab_size)\n",
        "print(\"Training X Shape:\",ax_train.shape)\n",
        "print(\"Testing X Shape:\",ax_test.shape)\n",
        "#call CNN model\n",
        "kernel_sizes = [4,3,2]\n",
        "num_filters = [32,16,8]\n",
        "atclass_input,tcl=cnn_model(num_filters,kernel_sizes,max_len,embedding_layer)\n"
      ]
    },
    {
      "cell_type": "code",
      "source": [
        "\n",
        "#call train test dataset\n",
        "max_len=max([len(x.split()) for x in train_df.scene_res50])\n",
        "#tx_train,tx_test,vocab_size,embedding_layer=load_tarin_test_dataset(train_df,test_df,'text',max([len(x.split()) for x in train_df.text]))\n",
        "sx_train,sx_test,vocab_size,embedding_layer=load_tarin_test_dataset(train_df,test_df,'scene_res50',max_len)\n",
        "print(\"Vocabulary Size :\", vocab_size)\n",
        "print(\"Training X Shape:\",sx_train.shape)\n",
        "print(\"Testing X Shape:\",sx_test.shape)\n",
        "#call CNN model\n",
        "kernel_sizes = [4,3,2]\n",
        "num_filters = [32,16,8]\n",
        "scene_input,scene=cnn_model(num_filters,kernel_sizes,max_len,embedding_layer)"
      ],
      "metadata": {
        "colab": {
          "base_uri": "https://localhost:8080/"
        },
        "id": "Is40vYhQ1kX4",
        "outputId": "fbf6a784-6a6a-43e8-efb7-056c5935aa7f"
      },
      "execution_count": null,
      "outputs": [
        {
          "output_type": "stream",
          "name": "stdout",
          "text": [
            "Found 400000 word vectors.\n",
            "(1017, 300)\n",
            "Vocabulary Size : 1017\n",
            "Training X Shape: (2264, 22)\n",
            "Testing X Shape: (566, 22)\n"
          ]
        }
      ]
    },
    {
      "cell_type": "code",
      "source": [
        "\n",
        "#call train test dataset\n",
        "max_len=max([len(x.split()) for x in train_df.class_att_res50])\n",
        "#tx_train,tx_test,vocab_size,embedding_layer=load_tarin_test_dataset(train_df,test_df,'text',max([len(x.split()) for x in train_df.text]))\n",
        "jx_train,jx_test,vocab_size,embedding_layer=load_tarin_test_dataset(train_df,test_df,'class_att_res50',max_len)\n",
        "print(\"Vocabulary Size :\", vocab_size)\n",
        "print(\"Training X Shape:\",jx_train.shape)\n",
        "print(\"Testing X Shape:\",jx_test.shape)\n",
        "#call CNN model\n",
        "kernel_sizes = [5,4,3]\n",
        "num_filters = [64,32,16]\n",
        "ca_scene_input,ca_scene=cnn_model(num_filters,kernel_sizes,max_len,embedding_layer)"
      ],
      "metadata": {
        "colab": {
          "base_uri": "https://localhost:8080/"
        },
        "id": "sdR74dXC1kyf",
        "outputId": "8866d8f2-174e-43a0-df94-4aa364dfed0a"
      },
      "execution_count": null,
      "outputs": [
        {
          "output_type": "stream",
          "name": "stdout",
          "text": [
            "Found 400000 word vectors.\n",
            "(1417, 300)\n",
            "Vocabulary Size : 1417\n",
            "Training X Shape: (2264, 62)\n",
            "Testing X Shape: (566, 62)\n"
          ]
        }
      ]
    },
    {
      "cell_type": "code",
      "source": [
        "rcl = tf.keras.layers.Reshape((1, -1))(tcl)\n",
        "rttxt = tf.keras.layers.Reshape((1, -1))(ca_scene)\n",
        "# Combine class-att and caption text pathways using attention mechanism\n",
        "attention1 = tf.keras.layers.AdditiveAttention()([rcl, rttxt])\n",
        "#attention1 = tf.keras.layers.GlobalMaxPool1D()(attention1)\n",
        "#frcl=Flatten()(rcl)\n",
        "frttxt=Flatten()(rttxt)\n",
        "fattention1=Flatten()(attention1)\n",
        "at1 =  tf.keras.layers.Concatenate()([frttxt, fattention1])\n",
        "at1 = Dense(256, activation='relu')(at1)"
      ],
      "metadata": {
        "id": "UqSE3Ol22G6Y"
      },
      "execution_count": null,
      "outputs": []
    },
    {
      "cell_type": "markdown",
      "source": [],
      "metadata": {
        "id": "4unx5NU56TK2"
      }
    },
    {
      "cell_type": "code",
      "source": [
        "fat1=Flatten()(at1)\n",
        "#fca_scene=Flatten()(ca_scene)\n",
        "fusion2 = tf.keras.layers.Concatenate()([fat1,tcl,scene,ca_scene])\n",
        "#fusion2 = tf.keras.layers.Concatenate()([tcl,scene,ca_scene])\n",
        "fusion2 = Dense(256,activation='relu')(fusion2)#(att_input_layer)\n",
        "fusion2 = Dropout(0.5)(fusion2)\n",
        "fusion2_out = Dense(3,activation='softmax')(fusion2)\n",
        "# Defining model input and output\n",
        "f2model = tf.keras.Model(inputs = [atclass_input,scene_input,ca_scene_input], outputs=fusion2_out)\n",
        "# Compile the model\n",
        "f2model.compile(\n",
        "    optimizer =tf.keras.optimizers.Adam(learning_rate=0.005),# optimizer,#image_input\n",
        "    loss = 'categorical_crossentropy',#loss\n",
        "    metrics =['accuracy'])\n",
        "# metric)#Max length 55 with ctext with class name with joint label\n",
        "f2history = f2model.fit(\n",
        "    x =[ax_train,sx_train,jx_train],\n",
        "    y = y_train,#to_categorical(train_df.tlabel),\n",
        "    #validation_data = ([vx_test,\n",
        "    #{'input_ids':tx_test['input_ids'],'attention_mask':tx_test['attention_mask']}],y_test #to_categorical(test_df.tlabel)\n",
        "   # ),\n",
        " validation_split = 0.1,\n",
        "  epochs=30,\n",
        "    batch_size=32\n",
        ")\n",
        "\n",
        "#text classification without english stop word and max word length 80\n",
        "f2predicted = f2model.predict([ax_test,sx_test,jx_test])\n",
        "#com_score=f2model.evaluate([ax_test,sx_test,jx_test],y_test)\n",
        "#print('Test Loss:', com_score[0])\n",
        "#print('Test accuracy:', com_score[1])\n",
        "#f2ypredicted = np.argmax(f2predicted,axis=1)\n",
        "#y_predicted = np.where(predicted>0.5,1,0)\n",
        "#from sklearn.metrics import classification_report\n",
        "#print(classification_report(test_df.ilabel,f2ypredicted))\n",
        "\n",
        "#accuracy vs loss function\n",
        "s, (at, al) = plt.subplots(2,1)\n",
        "at.plot(f2history.history['accuracy'], c= 'b')\n",
        "at.plot(f2history.history['val_accuracy'], c='r')\n",
        "at.set_title('model accuracy')\n",
        "at.set_ylabel('accuracy')\n",
        "at.set_xlabel('epoch')\n",
        "at.legend(['Res_bilstm_train', 'Res_bilstm_val'], loc='upper left')\n",
        "\n",
        "al.plot(f2history.history['loss'], c='m')\n",
        "al.plot(f2history.history['val_loss'], c='c')\n",
        "al.set_title('model loss')\n",
        "al.set_ylabel('loss')\n",
        "al.set_xlabel('epoch')\n",
        "al.legend(['train', 'val'], loc = 'upper left')\n",
        "from sklearn.metrics import classification_report\n",
        "ypredicted = np.argmax(f2predicted,axis=1)\n",
        "print(classification_report(test_df.ilabel,ypredicted,digits=4))\n",
        "from sklearn.metrics import balanced_accuracy_score\n",
        "from sklearn.metrics import accuracy_score,f1_score,precision_score,recall_score\n",
        "from sklearn.metrics import roc_auc_score\n",
        "from sklearn.metrics import confusion_matrix\n",
        "acc=accuracy_score(test_df.ilabel,ypredicted)\n",
        "bal_acc=balanced_accuracy_score(test_df.ilabel,ypredicted)\n",
        "recall=recall_score(test_df.ilabel,ypredicted,average='weighted')\n",
        "precision=precision_score(test_df.ilabel,ypredicted,average='weighted')\n",
        "f1=f1_score(test_df.ilabel,ypredicted,average='weighted')\n",
        "print(acc,bal_acc,recall,precision,f1)"
      ],
      "metadata": {
        "colab": {
          "base_uri": "https://localhost:8080/",
          "height": 1000
        },
        "id": "7h3tXVGK2HLh",
        "outputId": "1f6a21f8-046d-4350-ab6e-d3e1d8487ce4"
      },
      "execution_count": null,
      "outputs": [
        {
          "output_type": "stream",
          "name": "stdout",
          "text": [
            "Epoch 1/30\n",
            "64/64 [==============================] - 10s 24ms/step - loss: 0.5482 - accuracy: 0.8606 - val_loss: 2.1654 - val_accuracy: 0.6123\n",
            "Epoch 2/30\n",
            "64/64 [==============================] - 1s 15ms/step - loss: 0.2719 - accuracy: 0.8974 - val_loss: 1.8070 - val_accuracy: 0.6123\n",
            "Epoch 3/30\n",
            "64/64 [==============================] - 1s 12ms/step - loss: 0.2417 - accuracy: 0.9224 - val_loss: 1.6700 - val_accuracy: 0.6167\n",
            "Epoch 4/30\n",
            "64/64 [==============================] - 1s 10ms/step - loss: 0.2294 - accuracy: 0.9185 - val_loss: 1.8462 - val_accuracy: 0.5991\n",
            "Epoch 5/30\n",
            "64/64 [==============================] - 1s 11ms/step - loss: 0.2077 - accuracy: 0.9303 - val_loss: 2.6752 - val_accuracy: 0.6256\n",
            "Epoch 6/30\n",
            "64/64 [==============================] - 1s 12ms/step - loss: 0.2626 - accuracy: 0.9062 - val_loss: 2.2514 - val_accuracy: 0.5991\n",
            "Epoch 7/30\n",
            "64/64 [==============================] - 1s 12ms/step - loss: 0.2678 - accuracy: 0.9175 - val_loss: 2.4554 - val_accuracy: 0.6300\n",
            "Epoch 8/30\n",
            "64/64 [==============================] - 1s 11ms/step - loss: 0.2482 - accuracy: 0.9210 - val_loss: 2.6124 - val_accuracy: 0.6211\n",
            "Epoch 9/30\n",
            "64/64 [==============================] - 1s 10ms/step - loss: 0.2259 - accuracy: 0.9180 - val_loss: 3.6304 - val_accuracy: 0.6520\n",
            "Epoch 10/30\n",
            "64/64 [==============================] - 1s 11ms/step - loss: 0.2430 - accuracy: 0.9244 - val_loss: 2.2822 - val_accuracy: 0.6035\n",
            "Epoch 11/30\n",
            "64/64 [==============================] - 1s 14ms/step - loss: 0.2731 - accuracy: 0.9048 - val_loss: 2.2014 - val_accuracy: 0.6256\n",
            "Epoch 12/30\n",
            "64/64 [==============================] - 1s 14ms/step - loss: 0.2379 - accuracy: 0.9131 - val_loss: 2.5980 - val_accuracy: 0.6432\n",
            "Epoch 13/30\n",
            "64/64 [==============================] - 1s 15ms/step - loss: 0.2076 - accuracy: 0.9210 - val_loss: 2.4864 - val_accuracy: 0.6344\n",
            "Epoch 14/30\n",
            "64/64 [==============================] - 1s 10ms/step - loss: 0.2522 - accuracy: 0.9195 - val_loss: 1.8819 - val_accuracy: 0.6167\n",
            "Epoch 15/30\n",
            "64/64 [==============================] - 1s 11ms/step - loss: 0.2482 - accuracy: 0.9200 - val_loss: 2.2942 - val_accuracy: 0.6476\n",
            "Epoch 16/30\n",
            "64/64 [==============================] - 1s 10ms/step - loss: 0.2259 - accuracy: 0.9273 - val_loss: 1.9517 - val_accuracy: 0.6123\n",
            "Epoch 17/30\n",
            "64/64 [==============================] - 1s 10ms/step - loss: 0.2225 - accuracy: 0.9283 - val_loss: 2.1363 - val_accuracy: 0.6167\n",
            "Epoch 18/30\n",
            "64/64 [==============================] - 1s 10ms/step - loss: 0.2715 - accuracy: 0.9136 - val_loss: 1.9058 - val_accuracy: 0.5947\n",
            "Epoch 19/30\n",
            "64/64 [==============================] - 1s 10ms/step - loss: 0.2390 - accuracy: 0.9249 - val_loss: 2.3523 - val_accuracy: 0.6300\n",
            "Epoch 20/30\n",
            "64/64 [==============================] - 1s 10ms/step - loss: 0.2466 - accuracy: 0.9161 - val_loss: 2.0779 - val_accuracy: 0.6211\n",
            "Epoch 21/30\n",
            "64/64 [==============================] - 1s 10ms/step - loss: 0.2299 - accuracy: 0.9224 - val_loss: 2.5818 - val_accuracy: 0.6256\n",
            "Epoch 22/30\n",
            "64/64 [==============================] - 1s 10ms/step - loss: 0.2437 - accuracy: 0.9161 - val_loss: 2.9047 - val_accuracy: 0.6388\n",
            "Epoch 23/30\n",
            "64/64 [==============================] - 1s 10ms/step - loss: 0.2377 - accuracy: 0.9200 - val_loss: 2.2848 - val_accuracy: 0.6167\n",
            "Epoch 24/30\n",
            "64/64 [==============================] - 1s 9ms/step - loss: 0.2002 - accuracy: 0.9313 - val_loss: 2.4542 - val_accuracy: 0.6432\n",
            "Epoch 25/30\n",
            "64/64 [==============================] - 1s 10ms/step - loss: 0.1675 - accuracy: 0.9332 - val_loss: 2.8081 - val_accuracy: 0.6564\n",
            "Epoch 26/30\n",
            "64/64 [==============================] - 1s 10ms/step - loss: 0.2399 - accuracy: 0.9269 - val_loss: 2.4358 - val_accuracy: 0.6520\n",
            "Epoch 27/30\n",
            "64/64 [==============================] - 1s 10ms/step - loss: 0.2012 - accuracy: 0.9283 - val_loss: 2.0359 - val_accuracy: 0.6608\n",
            "Epoch 28/30\n",
            "64/64 [==============================] - 1s 10ms/step - loss: 0.2197 - accuracy: 0.9293 - val_loss: 2.5649 - val_accuracy: 0.6256\n",
            "Epoch 29/30\n",
            "64/64 [==============================] - 1s 12ms/step - loss: 0.2132 - accuracy: 0.9283 - val_loss: 2.0669 - val_accuracy: 0.6564\n",
            "Epoch 30/30\n",
            "64/64 [==============================] - 1s 23ms/step - loss: 0.1836 - accuracy: 0.9445 - val_loss: 2.4026 - val_accuracy: 0.6256\n",
            "18/18 [==============================] - 1s 8ms/step\n",
            "              precision    recall  f1-score   support\n",
            "\n",
            "           0     0.4333    0.2955    0.3514        88\n",
            "           1     0.7405    0.8665    0.7986       382\n",
            "           2     0.4237    0.2604    0.3226        96\n",
            "\n",
            "    accuracy                         0.6749       566\n",
            "   macro avg     0.5325    0.4741    0.4908       566\n",
            "weighted avg     0.6390    0.6749    0.6483       566\n",
            "\n",
            "0.6749116607773852 0.47412111957269026 0.6749116607773852 0.6390093787695654 0.6482927658771902\n"
          ]
        },
        {
          "output_type": "display_data",
          "data": {
            "text/plain": [
              "<Figure size 640x480 with 2 Axes>"
            ],
            "image/png": "[encoded data removed]"
          },
          "metadata": {}
        }
      ]
    },
    {
      "cell_type": "markdown",
      "metadata": {
        "id": "I7QPBrDzLkoa"
      },
      "source": []
    },
    {
      "cell_type": "code",
      "execution_count": null,
      "metadata": {
        "id": "asFwTmifLkoa"
      },
      "outputs": [],
      "source": [
        "\"\"\"\n",
        "#CNN for caption text\n",
        "tsequence_input = Input(shape=(max_len,), dtype='int32')\n",
        "tembedding_sequences = tembedding_layer(tsequence_input)\n",
        "txt = SpatialDropout1D(0.1)(tembedding_sequences)\n",
        "#txt=Conv1D(100, 4,padding='same',activation='relu')(txt)#(tembedding_sequences)#(x)\n",
        "txt = Bidirectional(LSTM(32, dropout=0.2, recurrent_dropout=0.2))(txt)#(tembedding_sequences)\n",
        "#ttxtb = Dense(256, activation='tanh')(txtb)\n",
        "ttxt = Dense(128, activation='tanh')(txt)\n",
        "#gtxt= GlobalMaxPool1D()(txt)\n",
        "dtxt = Dense(128, activation='relu')(txt)\n",
        "#cl = Conv1D(256, 5, activation='relu')(cl)\n",
        "outputs = Dense(3, kernel_regularizer=tf.keras.regularizers.l2(0.01),activation='softmax')(dtxt)\n",
        "#outputs = Dense(3,activation='softmax')(x)\n",
        "tmodel= tf.keras.Model(tsequence_input, outputs)\n",
        "#Model Compile\n",
        "from tensorflow.keras.callbacks import ReduceLROnPlateau\n",
        "\n",
        "tmodel.compile(optimizer=Adam(learning_rate=0.0001), loss='categorical_crossentropy',\n",
        "              metrics=['categorical_accuracy'])\n",
        "\"\"\""
      ]
    },
    {
      "cell_type": "markdown",
      "metadata": {
        "id": "DGeQKYTgLkoa"
      },
      "source": [
        "**Attention of class-attributes and caption text**"
      ]
    },
    {
      "cell_type": "code",
      "execution_count": null,
      "metadata": {
        "id": "BbwrJBRPLkob"
      },
      "outputs": [],
      "source": []
    },
    {
      "cell_type": "code",
      "execution_count": null,
      "metadata": {
        "id": "4kg8G8CALkob"
      },
      "outputs": [],
      "source": [
        "rcl = tf.keras.layers.Reshape((1, -1))(tcl)\n",
        "rttxt = tf.keras.layers.Reshape((1, -1))(ttxt)\n",
        "# Combine class-att and caption text pathways using attention mechanism\n",
        "attention1 = tf.keras.layers.AdditiveAttention()([rcl, rttxt])\n",
        "#attention1 = tf.keras.layers.GlobalMaxPool1D()(attention1)\n",
        "#frcl=Flatten()(rcl)\n",
        "frttxt=Flatten()(rttxt)\n",
        "fattention1=Flatten()(attention1)\n",
        "at1 =  tf.keras.layers.Concatenate()([frttxt, fattention1])\n",
        "at1 = Dense(256, activation='relu')(at1)\n",
        "#at1 = Dropout(0.5)(at1)\n",
        "#output = layers.Dense(num_classes, activation='softmax')(x)\n",
        "#at1_out = Dense(3,activation='softmax')(at1)#(con_out)\n",
        "#out = Dense(3,activation='softmax')(con_layer)\n",
        "\n",
        "# Defining model input and output\n",
        "#at1_model = tf.keras.Model(inputs = [jsequence_input,tsequence_input], outputs=at1_out)"
      ]
    },
    {
      "cell_type": "code",
      "execution_count": null,
      "metadata": {
        "id": "E6qNpS6YLkob"
      },
      "outputs": [],
      "source": [
        "#at1_model.summary()"
      ]
    },
    {
      "cell_type": "markdown",
      "metadata": {
        "id": "e47Aorv7Lkob"
      },
      "source": [
        "**Combined Text Features Extraction**"
      ]
    },
    {
      "cell_type": "markdown",
      "metadata": {
        "id": "D7N_6MuuLkob"
      },
      "source": [
        "**Visual Features Extraction**"
      ]
    },
    {
      "cell_type": "code",
      "execution_count": null,
      "metadata": {
        "colab": {
          "background_save": true,
          "base_uri": "https://localhost:8080/"
        },
        "id": "_TSFHNOMLkob",
        "outputId": "973cf4ed-1faa-4e29-d0c6-64b793acc592"
      },
      "outputs": [
        {
          "name": "stdout",
          "output_type": "stream",
          "text": [
            "(15311, 224, 224, 3)\n"
          ]
        }
      ],
      "source": [
        "import cv2\n",
        "\n",
        "#collect all images from original file of Simpson\n",
        "impath_list=train_df['img_path'].tolist()\n",
        "#sentiment=imdf['visual_label'].tolist()\n",
        "#path='../input/simpson-original-data/Dataset/Dataset/'\n",
        "path='/gdrive/MyDrive/sumana_nuig/mvsa_multiple/data/'\n",
        "#path='/gdrive/MyDrive/sumana_nuig/mvsa/data/'\n",
        "\n",
        "train_img_file=[]\n",
        "#sent=[]\n",
        "img_size=(224,224)\n",
        "#for file,s in zip(impath_list,sentiment):\n",
        "for file in impath_list:\n",
        "    #nfile=str(file)\n",
        "    #img=cv2.imread(path+nfile+'.jpg')\n",
        "    img=cv2.imread(path+file)\n",
        "    img=cv2.resize(img,img_size)\n",
        "    train_img_file.append(img)\n",
        "    #sent.append(s)\n",
        "#convert images into array\n",
        "#imgarx_train=np.array(train_img_file)\n",
        "vx_train=np.array(train_img_file)\n",
        "print(vx_train.shape)\n",
        "#dummies for labels\n",
        "#print(len(sent))\n",
        "#dff=pd.DataFrame()\n",
        "#dff['sentiment']=pd.DataFrame(sent)\n"
      ]
    },
    {
      "cell_type": "code",
      "execution_count": null,
      "metadata": {
        "id": "nYzILtFhLkoc"
      },
      "outputs": [],
      "source": [
        "#import cv2\n",
        "#collect all images from original file of Simpson\n",
        "impath_list=test_df['img_path'].tolist()\n",
        "#sentiment=imdf['visual_label'].tolist()\n",
        "#path='../input/simpson-original-data/Dataset/Dataset/'\n",
        "path='/gdrive/MyDrive/sumana_nuig/mvsa_multiple/data/'\n",
        "#path='/gdrive/MyDrive/sumana_nuig/mvsa/data/'\n",
        "\n",
        "test_img_file=[]\n",
        "#sent=[]\n",
        "img_size=(224,224)\n",
        "#for file,s in zip(impath_list,sentiment):\n",
        "for file in impath_list:\n",
        "    #nfile=str(file)\n",
        "    #img=cv2.imread(path+nfile+'.jpg')\n",
        "    img=cv2.imread(path+file)\n",
        "    img=cv2.resize(img,img_size)\n",
        "    test_img_file.append(img)\n",
        "    #sent.append(s)\n",
        "#convert images into array\n",
        "vx_test=np.array(test_img_file)\n",
        "print(vx_test.shape)"
      ]
    },
    {
      "cell_type": "code",
      "execution_count": null,
      "metadata": {
        "colab": {
          "base_uri": "https://localhost:8080/"
        },
        "id": "TL-e__q2lZxO",
        "outputId": "09e931e2-4424-4fe2-89ed-8d4eec04b77f"
      },
      "outputs": [
        {
          "name": "stdout",
          "output_type": "stream",
          "text": [
            "(15311, 224, 224, 3) (1702, 224, 224, 3)\n"
          ]
        }
      ],
      "source": [
        "data = np.load('/gdrive/MyDrive/sumana_nuig/mvsa/mvsa_multiple_vx_train_test.npz')\n",
        "\n",
        "\n",
        "# Access the variables inside the npz file\n",
        "\n",
        "vx_train = data['a']\n",
        "vx_test = data['b']\n",
        "print(vx_train.shape,vx_test.shape)"
      ]
    },
    {
      "cell_type": "code",
      "execution_count": null,
      "metadata": {
        "id": "tRwH7GopLkoc"
      },
      "outputs": [],
      "source": [
        "from tensorflow.keras.applications import VGG16,VGG19,ResNet50\n",
        "from tensorflow.keras.preprocessing.image import ImageDataGenerator\n",
        "from keras.layers import Input,Dense, Dropout, Flatten,BatchNormalization,concatenate,Bidirectional,LSTM\n",
        "from keras.layers import BatchNormalization\n",
        "import matplotlib.pyplot as plt"
      ]
    },
    {
      "cell_type": "code",
      "execution_count": null,
      "metadata": {
        "colab": {
          "base_uri": "https://localhost:8080/"
        },
        "id": "9-DfFQ7xLkoc",
        "outputId": "268648c4-320b-4064-957a-4dce480cfef4"
      },
      "outputs": [
        {
          "name": "stdout",
          "output_type": "stream",
          "text": [
            "Downloading data from https://storage.googleapis.com/tensorflow/keras-applications/resnet/resnet50_weights_tf_dim_ordering_tf_kernels_notop.h5\n",
            "94765736/94765736 [==============================] - 0s 0us/step\n"
          ]
        }
      ],
      "source": [
        "\n",
        "# Instantiate convolutional base mode for whole image\n",
        "image_input = Input(shape=(224, 224, 3), name='image')\n",
        "resnet = ResNet50(weights='imagenet',\n",
        "                  include_top=False,\n",
        "                  input_shape=(224, 224, 3))#(image_input)\n",
        "for layer in resnet.layers:\n",
        "    layer.trainable=False\n",
        "#res_layer = Dense(256, activation='tanh')(resnet)\n",
        "res_layer=Flatten()(resnet.output)\n",
        "res_layer = Dense(256, activation='tanh')(res_layer)\n",
        "res_layer1 = Dense(256, activation='relu')(res_layer)\n",
        "#res_layer = Dense(256, activation='relu')(resnet.output)\n",
        "#res_layer = Flatten()(resnet.output) #(vgg16)#\n",
        "#res_layer_32=Dense(32, activation='relu')(res_layer)\n",
        "img_model=Dropout(0.5)(res_layer1)\n",
        "vprediction = Dense(3, activation='softmax')(img_model)\n",
        "rmodel = tf.keras.Model(inputs=resnet.input, outputs=vprediction)\n",
        "#rmodel.summary()\n",
        "#img_model.summary()\n",
        "#rmodel.compile(loss='categorical_crossentropy',\n",
        "#                    optimizer=tf.keras.optimizers.Adam(learning_rate=0.0001),\n",
        " #                  metrics=metric)#['accuracy'])\n"
      ]
    },
    {
      "cell_type": "code",
      "execution_count": null,
      "metadata": {
        "id": "CnSWeyRELkoc"
      },
      "outputs": [],
      "source": [
        "\"\"\"\n",
        "# Define image pathway\n",
        "\n",
        "image_input = Input(shape=(224, 224, 3), name='image')\n",
        "x_image = Conv2D(32, (3, 3), activation='relu')(image_input)\n",
        "x_image = MaxPooling2D(pool_size=(2, 2))(x_image)\n",
        "x_image = Conv2D(64, (3, 3), activation='relu')(x_image)\n",
        "x_image = MaxPooling2D(pool_size=(2, 2))(x_image)\n",
        "x_image = Flatten()(x_image)\n",
        "res_layer = Dense(128, activation='relu')(x_image)\n",
        "\"\"\""
      ]
    },
    {
      "cell_type": "markdown",
      "metadata": {
        "id": "-3w4rKS6Lkoc"
      },
      "source": [
        "**Attention layer of  image and Class-att text**"
      ]
    },
    {
      "cell_type": "code",
      "execution_count": null,
      "metadata": {
        "id": "chTHDN23Lkod"
      },
      "outputs": [],
      "source": [
        "\n",
        "#new\n",
        "#when image and text data for cross attention\n",
        "#example\n",
        "import tensorflow as tf\n",
        "from tensorflow import keras\n",
        "from tensorflow.keras.layers import Input, Dense, Dropout, Dot, Softmax, Multiply, Concatenate, Conv2D, MaxPooling2D, Flatten\n",
        "\n",
        "def cross_attention(query, key, value):\n",
        "    # compute the attention scores between query and key\n",
        "    scores = Dot(axes=-1)([query, key])\n",
        "    scores = Softmax(axis=-1)(scores)\n",
        "\n",
        "    # apply the attention scores to the value sequence\n",
        "    context = Dot(axes=1)([scores, value])\n",
        "    context = tf.keras.layers.Reshape((1, -1))(context )\n",
        "    #context=Flatten()(context)\n",
        "    # concatenate the query and context vectors\n",
        "    output = Concatenate()([query, context])\n",
        "    return output\n",
        "\n",
        "\n"
      ]
    },
    {
      "cell_type": "code",
      "execution_count": null,
      "metadata": {
        "id": "zniQ7BMWLkod"
      },
      "outputs": [],
      "source": [
        "tcl = tf.keras.layers.Reshape((1, -1))(tcl)\n",
        "res_layer = tf.keras.layers.Reshape((1, -1))( res_layer)\n",
        "\n",
        "at2_context = cross_attention(tcl, res_layer, res_layer)\n",
        "at2_context=Flatten()(at2_context)\n",
        "at2 = Dense(256, activation='relu')(at2_context)"
      ]
    },
    {
      "cell_type": "code",
      "execution_count": null,
      "metadata": {
        "id": "hPVtYAZdLkod"
      },
      "outputs": [],
      "source": [
        "rat1 = tf.keras.layers.Reshape((1, -1))(at1)\n",
        "rat2 = tf.keras.layers.Reshape((1, -1))( at2)\n",
        "# apply cross-attention to the text input and the image features\n",
        "#context = cross_attention(text_input, flatten, flatten)\n",
        "context = cross_attention(rat1, rat2, rat2)\n",
        "context=Flatten()(context)\n",
        "at3 = Dense(256, activation='relu')(context)\n",
        "#at3 = Dropout(0.5)(context)\n",
        "#at3_out = Dense(3, activation='softmax')(at3)\n",
        "\n",
        "# create the model\n",
        "#at3_model = tf.keras.Model(inputs = [jsequence_input,tsequence_input,image_input], outputs=at3_out)\n",
        "#model = keras.models.Model(inputs=[image_input, text_input], outputs=output)\n",
        "#model.compile(optimizer='adam', loss='categorical_crossentropy', metrics=['accuracy'])\n"
      ]
    },
    {
      "cell_type": "code",
      "execution_count": null,
      "metadata": {
        "id": "Ro1kHW3vLkod"
      },
      "outputs": [],
      "source": [
        "\"\"\"\n",
        "# Ensure that the dimensions of the image and text outputs are compatible\n",
        "tcl = tf.keras.layers.Reshape((1, -1))(tcl)\n",
        "res_layer = tf.keras.layers.Reshape((1, -1))( res_layer)\n",
        "# Attention layer of  image and Class-att text\n",
        "\n",
        "attention2 = tf.keras.layers.AdditiveAttention()([tcl, res_layer])\n",
        "\n",
        "#gres_layer1 = tf.keras.layers.GlobalMaxPool2D()(res_layer1)\n",
        "#attention2 = tf.keras.layers.GlobalMaxPool2D()(attention2)\n",
        "# Concatenate image and attention pathway\n",
        "#x = layers.Concatenate(axis=-1)([x_image, attention])\n",
        "\n",
        "fres_layer=Flatten()(res_layer)\n",
        "fattention2=Flatten()(attention2)\n",
        "at2 =  tf.keras.layers.Concatenate()([fres_layer, fattention2])\n",
        "at2 = Dense(256, activation='relu')(at2)\n",
        "#output = layers.Dense(num_classes, activation='softmax')(x)\n",
        "at2_out = Dense(3,activation='softmax')(at2)#(con_out)\n",
        "#out = Dense(3,activation='softmax')(con_layer)\n",
        "\n",
        "# Defining model input and output\n",
        "#at2_model = tf.keras.Model(inputs = [jsequence_input,rmodel.input], outputs=at2_out)\n",
        "\"\"\""
      ]
    },
    {
      "cell_type": "code",
      "execution_count": null,
      "metadata": {
        "id": "YK0mwC6NLkod"
      },
      "outputs": [],
      "source": [
        "#at2_model.summary()"
      ]
    },
    {
      "cell_type": "code",
      "execution_count": null,
      "metadata": {
        "id": "jsKf4KBuLkod"
      },
      "outputs": [],
      "source": [
        "\"\"\"\n",
        "# metric)#Max length 55 with ctext with class name with joint label\n",
        "at2_model.compile(\n",
        "    optimizer =tf.keras.optimizers.Adam(learning_rate=0.0001),# optimizer,#image_input\n",
        "    loss = 'categorical_crossentropy',#loss\n",
        "    metrics =['accuracy'])\n",
        "com_history = at2_model.fit(\n",
        "    x =[jx_train,vx_train],\n",
        "    y = y_train,#to_categorical(train_df.tlabel),\n",
        "    #validation_data = ([vx_test,\n",
        "    #{'input_ids':tx_test['input_ids'],'attention_mask':tx_test['attention_mask']}],y_test #to_categorical(test_df.tlabel)\n",
        "   # ),\n",
        " validation_split = 0.1,\n",
        "  epochs=20,\n",
        "    batch_size=64\n",
        ")\n",
        "\n",
        "#text classification without english stop word and max word length 80\n",
        "cpredicted = at2_model.predict([jx_test,vx_test])\n",
        "com_score=at2_model.evaluate([jx_test,vx_test],y_test)\n",
        "print('Test Loss:', com_score[0])\n",
        "print('Test accuracy:', com_score[1])\n",
        "cypredicted = np.argmax(cpredicted,axis=1)\n",
        "#y_predicted = np.where(predicted>0.5,1,0)\n",
        "from sklearn.metrics import classification_report\n",
        "print(classification_report(test_df.jlabel,cypredicted))\n",
        "#accuracy vs loss function\n",
        "s, (at, al) = plt.subplots(2,1)\n",
        "at.plot(com_history.history['accuracy'], c= 'b')\n",
        "at.plot(com_history.history['val_accuracy'], c='r')\n",
        "at.set_title('model accuracy')\n",
        "at.set_ylabel('accuracy')\n",
        "at.set_xlabel('epoch')\n",
        "at.legend(['Res_bilstm_train', 'Res_bilstm_val'], loc='upper left')\n",
        "\n",
        "al.plot(com_history.history['loss'], c='m')\n",
        "al.plot(com_history.history['val_loss'], c='c')\n",
        "al.set_title('model loss')\n",
        "al.set_ylabel('loss')\n",
        "al.set_xlabel('epoch')\n",
        "al.legend(['train', 'val'], loc = 'upper left')\n",
        "\"\"\""
      ]
    },
    {
      "cell_type": "code",
      "execution_count": null,
      "metadata": {
        "id": "2lwsESE8Lkoe"
      },
      "outputs": [],
      "source": []
    },
    {
      "cell_type": "markdown",
      "metadata": {
        "id": "MnIpARkoLkoe"
      },
      "source": [
        "**Cross modal attention**"
      ]
    },
    {
      "cell_type": "markdown",
      "metadata": {
        "id": "0SA8knkRLkof"
      },
      "source": [
        "**Attention based image+text model**"
      ]
    },
    {
      "cell_type": "code",
      "execution_count": null,
      "metadata": {
        "id": "bvYQkAo_Lkof"
      },
      "outputs": [],
      "source": [
        "#at3_model.summary()"
      ]
    },
    {
      "cell_type": "code",
      "execution_count": null,
      "metadata": {
        "colab": {
          "background_save": true,
          "base_uri": "https://localhost:8080/"
        },
        "id": "nbql1S5zk4Gk",
        "outputId": "ec94fde2-3032-49d7-c020-ca18a439365b"
      },
      "outputs": [
        {
          "name": "stdout",
          "output_type": "stream",
          "text": [
            "Epoch 1/10\n",
            "108/108 [==============================] - 50s 400ms/step - loss: 1.2522 - accuracy: 0.5625 - val_loss: 0.8144 - val_accuracy: 0.5940\n",
            "Epoch 2/10\n",
            "108/108 [==============================] - 43s 398ms/step - loss: 0.8492 - accuracy: 0.5839 - val_loss: 0.8114 - val_accuracy: 0.6181\n",
            "Epoch 3/10\n",
            "108/108 [==============================] - 44s 404ms/step - loss: 0.8439 - accuracy: 0.5902 - val_loss: 0.8082 - val_accuracy: 0.5973\n",
            "Epoch 4/10\n",
            "108/108 [==============================] - 44s 407ms/step - loss: 0.8429 - accuracy: 0.5903 - val_loss: 0.8059 - val_accuracy: 0.6077\n",
            "Epoch 5/10\n",
            "108/108 [==============================] - 45s 416ms/step - loss: 0.8385 - accuracy: 0.5771 - val_loss: 0.8157 - val_accuracy: 0.5881\n",
            "Epoch 6/10\n",
            "108/108 [==============================] - 45s 417ms/step - loss: 0.8435 - accuracy: 0.5747 - val_loss: 0.8117 - val_accuracy: 0.5933\n",
            "Epoch 7/10\n",
            "108/108 [==============================] - 45s 420ms/step - loss: 0.8424 - accuracy: 0.5799 - val_loss: 0.8102 - val_accuracy: 0.5966\n",
            "Epoch 8/10\n",
            "108/108 [==============================] - 45s 419ms/step - loss: 0.8435 - accuracy: 0.5755 - val_loss: 0.8072 - val_accuracy: 0.5992\n",
            "Epoch 9/10\n",
            "108/108 [==============================] - 45s 418ms/step - loss: 0.8469 - accuracy: 0.5765 - val_loss: 0.8209 - val_accuracy: 0.5842\n",
            "Epoch 10/10\n",
            "108/108 [==============================] - 45s 420ms/step - loss: 0.8448 - accuracy: 0.5773 - val_loss: 0.8067 - val_accuracy: 0.6162\n",
            "54/54 [==============================] - 6s 93ms/step\n",
            "54/54 [==============================] - 5s 94ms/step - loss: 0.8415 - accuracy: 0.5817\n",
            "Test Loss: 0.8414889574050903\n",
            "Test accuracy: 0.5816686153411865\n",
            "              precision    recall  f1-score   support\n",
            "\n",
            "           0       0.00      0.00      0.00       112\n",
            "           1       0.56      0.41      0.47       719\n",
            "           2       0.59      0.80      0.68       871\n",
            "\n",
            "    accuracy                           0.58      1702\n",
            "   macro avg       0.38      0.40      0.38      1702\n",
            "weighted avg       0.54      0.58      0.55      1702\n",
            "\n"
          ]
        },
        {
          "name": "stderr",
          "output_type": "stream",
          "text": [
            "/usr/local/lib/python3.10/dist-packages/sklearn/metrics/_classification.py:1344: UndefinedMetricWarning: Precision and F-score are ill-defined and being set to 0.0 in labels with no predicted samples. Use `zero_division` parameter to control this behavior.\n",
            "  _warn_prf(average, modifier, msg_start, len(result))\n",
            "/usr/local/lib/python3.10/dist-packages/sklearn/metrics/_classification.py:1344: UndefinedMetricWarning: Precision and F-score are ill-defined and being set to 0.0 in labels with no predicted samples. Use `zero_division` parameter to control this behavior.\n",
            "  _warn_prf(average, modifier, msg_start, len(result))\n",
            "/usr/local/lib/python3.10/dist-packages/sklearn/metrics/_classification.py:1344: UndefinedMetricWarning: Precision and F-score are ill-defined and being set to 0.0 in labels with no predicted samples. Use `zero_division` parameter to control this behavior.\n",
            "  _warn_prf(average, modifier, msg_start, len(result))\n"
          ]
        },
        {
          "data": {
            "text/plain": [
              "<matplotlib.legend.Legend at 0x7f6b834cdb40>"
            ]
          },
          "execution_count": 30,
          "metadata": {},
          "output_type": "execute_result"
        },
        {
          "data": {
            "image/png": "[encoded data removed]",
            "text/plain": [
              "<Figure size 640x480 with 2 Axes>"
            ]
          },
          "metadata": {},
          "output_type": "display_data"
        }
      ],
      "source": [
        "at2 = Dense(256, activation='relu')(at2_context)\n",
        "fat2=Flatten()(at2)\n",
        "fres_layer=Flatten()(res_layer)\n",
        "fusion2 = tf.keras.layers.Concatenate()([fat2,fres_layer])\n",
        "fusion2 = Dense(256,activation='relu')(fusion2)#(att_input_layer)\n",
        "fusion2 = Dropout(0.5)(fusion2)\n",
        "fusion2_out = Dense(3,activation='softmax')(fusion2)\n",
        "# Defining model input and output\n",
        "f2model = tf.keras.Model(inputs = [atclass_input,resnet.input], outputs=fusion2_out)\n",
        "# Compile the model\n",
        "f2model.compile(\n",
        "    optimizer =tf.keras.optimizers.Adam(learning_rate=0.01),# optimizer,#image_input\n",
        "    loss = 'categorical_crossentropy',#loss\n",
        "    metrics =['accuracy'])\n",
        "# metric)#Max length 55 with ctext with class name with joint label\n",
        "f2history = f2model.fit(\n",
        "    x =[jx_train,vx_train],\n",
        "    y = y_train,#to_categorical(train_df.tlabel),\n",
        "    #validation_data = ([vx_test,\n",
        "    #{'input_ids':tx_test['input_ids'],'attention_mask':tx_test['attention_mask']}],y_test #to_categorical(test_df.tlabel)\n",
        "   # ),\n",
        " validation_split = 0.1,\n",
        "  epochs=10,\n",
        "    batch_size=128\n",
        ")\n",
        "\n",
        "#text classification without english stop word and max word length 80\n",
        "f2predicted = f2model.predict([jx_test,vx_test])\n",
        "com_score=f2model.evaluate([jx_test,vx_test],y_test)\n",
        "print('Test Loss:', com_score[0])\n",
        "print('Test accuracy:', com_score[1])\n",
        "f2ypredicted = np.argmax(f2predicted,axis=1)\n",
        "#y_predicted = np.where(predicted>0.5,1,0)\n",
        "from sklearn.metrics import classification_report\n",
        "print(classification_report(test_df.ilabel,f2ypredicted))\n",
        "\n",
        "#accuracy vs loss function\n",
        "s, (at, al) = plt.subplots(2,1)\n",
        "at.plot(f2history.history['accuracy'], c= 'b')\n",
        "at.plot(f2history.history['val_accuracy'], c='r')\n",
        "at.set_title('model accuracy')\n",
        "at.set_ylabel('accuracy')\n",
        "at.set_xlabel('epoch')\n",
        "at.legend(['Res_bilstm_train', 'Res_bilstm_val'], loc='upper left')\n",
        "\n",
        "al.plot(f2history.history['loss'], c='m')\n",
        "al.plot(f2history.history['val_loss'], c='c')\n",
        "al.set_title('model loss')\n",
        "al.set_ylabel('loss')\n",
        "al.set_xlabel('epoch')\n",
        "al.legend(['train', 'val'], loc = 'upper left')\n",
        "\n"
      ]
    },
    {
      "cell_type": "code",
      "execution_count": null,
      "metadata": {
        "id": "yrJgLaXlLkof"
      },
      "outputs": [],
      "source": [
        "#Fusion model with caption text\n",
        "#fat3=Flatten()(at3)\n",
        "fat2=Flatten()(at2)\n",
        "#fusion1 = Dense(256,activation='relu')(fat3)\n",
        "fres_layer=Flatten()(res_layer)\n",
        "ftxt=Flatten()(ttxt)\n",
        "#concatination fusion -1 with caption text,cross attention and image  global features\n",
        "fusion1 = tf.keras.layers.Concatenate()([ftxt,fat2,fres_layer])\n",
        "fusion1 = Dense(256,activation='relu')(fusion1)#(att_input_layer)\n",
        "fusion1 = Dropout(0.5)(fusion1)\n",
        "fusion1_out = Dense(3,activation='softmax')(fusion1)\n",
        "\n",
        "f1_model = tf.keras.Model(inputs = [atclass_input,text_input,resnet.input], outputs=fusion1_out)\n",
        "#com_atmodel = tf.keras.Model(inputs = [jsequence_input,tsequence_input,sequence_input,rmodel.input], outputs=conout)\n",
        "#com_model.summary()\n",
        "# Using Stochastic gradient descent with optimizer\n",
        "# Compile the model\n"
      ]
    },
    {
      "cell_type": "code",
      "execution_count": null,
      "metadata": {
        "id": "d1lpgGRpLkof"
      },
      "outputs": [],
      "source": [
        "#f1_model.summary()"
      ]
    },
    {
      "cell_type": "code",
      "execution_count": null,
      "metadata": {
        "colab": {
          "background_save": true,
          "base_uri": "https://localhost:8080/"
        },
        "id": "U1e-9H3WLkof",
        "outputId": "d0e6b47e-1bb2-4836-ecb0-38f62891ddda"
      },
      "outputs": [
        {
          "name": "stdout",
          "output_type": "stream",
          "text": [
            "Epoch 1/10\n",
            "  6/108 [>.............................] - ETA: 58:10 - loss: 1.6186 - accuracy: 0.5234  "
          ]
        }
      ],
      "source": [
        "\n",
        "f1_model.compile(\n",
        "    optimizer =tf.keras.optimizers.Adam(learning_rate=0.001),# optimizer,#image_input\n",
        "    loss = 'categorical_crossentropy',#loss\n",
        "    metrics =['accuracy'])\n",
        "with tf.device('/device:GPU:0'): #when GPU is used\n",
        "    com_history = f1_model.fit(\n",
        "        x =[jx_train,tx_train,vx_train],\n",
        "        y = y_train,#to_categorical(train_df.tlabel),\n",
        "        #validation_data = ([vx_test,\n",
        "        #{'input_ids':tx_test['input_ids'],'attention_mask':tx_test['attention_mask']}],y_test #to_categorical(test_df.tlabel)\n",
        "      # ),\n",
        "    validation_split = 0.1,\n",
        "      epochs=10,\n",
        "        batch_size=128\n",
        "    )\n",
        "\n",
        "    #text classification without english stop word and max word length 80\n",
        "    f1predicted = f1_model.predict([jx_test,tx_test,vx_test])\n",
        "    com_score=f1_model.evaluate([jx_test,tx_test,vx_test],y_test)\n",
        "    print('Test Loss:', com_score[0])\n",
        "    print('Test accuracy:', com_score[1])\n",
        "    f1ypredicted = np.argmax(f1predicted,axis=1)\n",
        "    #y_predicted = np.where(predicted>0.5,1,0)\n",
        "    from sklearn.metrics import classification_report\n",
        "    print(classification_report(test_df.jlabel,f1ypredicted))\n",
        "    #accuracy vs loss function\n",
        "    s, (at, al) = plt.subplots(2,1)\n",
        "    at.plot(com_history.history['accuracy'], c= 'b')\n",
        "    at.plot(com_history.history['val_accuracy'], c='r')\n",
        "    at.set_title('model accuracy')\n",
        "    at.set_ylabel('accuracy')\n",
        "    at.set_xlabel('epoch')\n",
        "    at.legend(['Res_cnn_train', 'Res_cnn_val'], loc='upper left')\n",
        "\n",
        "    al.plot(com_history.history['loss'], c='m')\n",
        "    al.plot(com_history.history['val_loss'], c='c')\n",
        "    al.set_title('model loss')\n",
        "    al.set_ylabel('loss')\n",
        "    al.set_xlabel('epoch')\n",
        "    al.legend(['train', 'val'], loc = 'upper left')\n",
        "\n"
      ]
    },
    {
      "cell_type": "markdown",
      "metadata": {
        "id": "RGSnYKjXLkog"
      },
      "source": []
    },
    {
      "cell_type": "code",
      "execution_count": null,
      "metadata": {
        "id": "BNXxEmUGLkog"
      },
      "outputs": [],
      "source": [
        "kernel_sizes = [4,3,2]\n",
        "num_filters = [200,150,100]\n",
        "max_len=max([len(x.split()) for x in train_df.cbt])\n",
        "x_train,x_test,vocab_size,embedding_layer=load_tarin_test_dataset(train_df,test_df,'cbt',max_len)\n",
        "print(\"Vocabulary Size :\", vocab_size)\n",
        "print(\"Training X Shape:\",x_train.shape)\n",
        "print(\"Testing X Shape:\",x_test.shape)\n",
        "cbt_input,tcbt=cnn_model(num_filters,kernel_sizes,max_len,embedding_layer)\n",
        "#cbt_input,tcbt=cnn_model(num_filters,kernel_sizes,max_len,embedding_layer)\n",
        "fcbt=Flatten()(tcbt)\n",
        "#Fusion-2 with combine -text\n",
        "#fusion2 = tf.keras.layers.Concatenate()([fcbt,fat3])\n",
        "fusion2 = tf.keras.layers.Concatenate()([fcbt,fat3,fres_layer])\n",
        "fusion2 = Dense(256,activation='relu')(fusion2)#(att_input_layer)\n",
        "fusion2 = Dropout(0.5)(fusion2)\n",
        "fusion2_out = Dense(3,activation='softmax')(fusion2)\n",
        "# Defining model input and output\n",
        "f2model = tf.keras.Model(inputs = [atclass_input,text_input,cbt_input,resnet.input], outputs=fusion2_out)\n",
        "# Compile the model\n",
        "f2model.compile(\n",
        "    optimizer =tf.keras.optimizers.Adam(learning_rate=0.01),# optimizer,#image_input\n",
        "    loss = 'categorical_crossentropy',#loss\n",
        "    metrics =['accuracy'])\n",
        "# metric)#Max length 55 with ctext with class name with joint label\n",
        "f2history = f2model.fit(\n",
        "    x =[jx_train,tx_train,x_train,vx_train],\n",
        "    y = y_train,#to_categorical(train_df.tlabel),\n",
        "    #validation_data = ([vx_test,\n",
        "    #{'input_ids':tx_test['input_ids'],'attention_mask':tx_test['attention_mask']}],y_test #to_categorical(test_df.tlabel)\n",
        "   # ),\n",
        " validation_split = 0.1,\n",
        "  epochs=10,\n",
        "    batch_size=128\n",
        ")\n",
        "\n",
        "#text classification without english stop word and max word length 80\n",
        "f2predicted = f2model.predict([jx_test,tx_test,x_test,vx_test])\n",
        "com_score=f2model.evaluate([jx_test,tx_test,x_test,vx_test],y_test)\n",
        "print('Test Loss:', com_score[0])\n",
        "print('Test accuracy:', com_score[1])\n",
        "f2ypredicted = np.argmax(f2predicted,axis=1)\n",
        "#y_predicted = np.where(predicted>0.5,1,0)\n",
        "from sklearn.metrics import classification_report\n",
        "print(classification_report(test_df.jlabel,f2ypredicted))\n",
        "#print(classification_report(test_df.jlabel,f2ypredicted,zero_division=1))\n",
        "#accuracy vs loss function\n",
        "s, (at, al) = plt.subplots(2,1)\n",
        "at.plot(f2history.history['accuracy'], c= 'b')\n",
        "at.plot(f2history.history['val_accuracy'], c='r')\n",
        "at.set_title('model accuracy')\n",
        "at.set_ylabel('accuracy')\n",
        "at.set_xlabel('epoch')\n",
        "at.legend(['Res_bilstm_train', 'Res_bilstm_val'], loc='upper left')\n",
        "\n",
        "al.plot(f2history.history['loss'], c='m')\n",
        "al.plot(f2history.history['val_loss'], c='c')\n",
        "al.set_title('model loss')\n",
        "al.set_ylabel('loss')\n",
        "al.set_xlabel('epoch')\n",
        "al.legend(['train', 'val'], loc = 'upper left')\n"
      ]
    },
    {
      "cell_type": "code",
      "execution_count": null,
      "metadata": {
        "id": "y8jBAwu5Lkog"
      },
      "outputs": [],
      "source": [
        "#svm model for final setiment analysis\n",
        "from sklearn import svm\n",
        "#from sklearn.model_selection import train_test_split\n",
        "\n",
        "# assuming X is the concatenated feature vector and y is the label for each data point\n",
        "X_train, X_test, y_train, y_test = train_test_split(train_combined_global_local_text_features, train_df.joint_sentiment, test_size=0.1, random_state=42)\n",
        "\n",
        "# create SVM classifier\n",
        "clf = svm.SVC(kernel='linear', C=1, probability=True)\n",
        "\n",
        "# train the classifier on the training data\n",
        "clf.fit(X_train, y_train)\n",
        "\n",
        "# evaluate the classifier on the test data\n",
        "print(accuracy)\n",
        "# evaluate the classifier on the test data\n",
        "accuracy = clf.score(X_test, y_test)\n",
        "predicted = clf.predict(X_test)\n",
        "\n",
        "#ypredicted = np.argmax(predicted,axis=1)\n",
        "#y_predicted = np.where(predicted>0.5,1,0)\n",
        "from sklearn.metrics import classification_report\n",
        "print(classification_report(y_test,predicted))\n"
      ]
    },
    {
      "cell_type": "code",
      "execution_count": null,
      "metadata": {
        "id": "DUh-jWIALkoh"
      },
      "outputs": [],
      "source": [
        "\"\"\"\n",
        "#Fusion model with combined text fetures\n",
        "#fat3=Flatten()(at3)\n",
        "#fres_layer=Flatten()(res_layer1)\n",
        "\n",
        "fcbt=Flatten()(dcbt)\n",
        "fusion2 = tf.keras.layers.Concatenate()([fcbt,fat3,fres_layer])\n",
        "fusion2 = Dense(128,activation='relu')(fusion2)#(att_input_layer)\n",
        "fusion2 = Dropout(0.5)(fusion2)\n",
        "fusion2_out = Dense(3,activation='softmax',name='f2')(fusion2)\n",
        "#out = Dense(3,activation='softmax')(con_layer)\n",
        "\n",
        "# Defining model input and output\n",
        "f2model = tf.keras.Model(inputs = [jsequence_input,tsequence_input,sequence_input,image_input], outputs=fusion2_out)\n",
        "#com_atmodel = tf.keras.Model(inputs = [jsequence_input,tsequence_input,sequence_input,rmodel.input], outputs=conout)\n",
        "#com_model.summary()\n",
        "# Using Stochastic gradient descent with optimizer\n",
        "# Compile the model\n",
        "f2model.compile(\n",
        "    optimizer =tf.keras.optimizers.Adam(learning_rate=0.0001),# optimizer,#image_input\n",
        "    loss = 'categorical_crossentropy',#loss\n",
        "    metrics =['accuracy'])\n",
        "# metric)#Max length 55 with ctext with class name with joint label\n",
        "f2history = f2model.fit(\n",
        "    x =[jx_train,tx_train,x_train,vx_train],\n",
        "    y = y_train,#to_categorical(train_df.tlabel),\n",
        "    #validation_data = ([vx_test,\n",
        "    #{'input_ids':tx_test['input_ids'],'attention_mask':tx_test['attention_mask']}],y_test #to_categorical(test_df.tlabel)\n",
        "   # ),\n",
        " validation_split = 0.1,\n",
        "  epochs=5,\n",
        "    batch_size=64\n",
        ")\n",
        "\n",
        "#text classification without english stop word and max word length 80\n",
        "f2predicted = f2model.predict([jx_test,tx_test,x_test,vx_test])\n",
        "com_score=f2model.evaluate([jx_test,tx_test,x_test,vx_test],y_test)\n",
        "print('Test Loss:', com_score[0])\n",
        "print('Test accuracy:', com_score[1])\n",
        "f2ypredicted = np.argmax(f2predicted,axis=1)\n",
        "#y_predicted = np.where(predicted>0.5,1,0)\n",
        "from sklearn.metrics import classification_report\n",
        "print(classification_report(test_df.jlabel,f2ypredicted,zero_division=1))\n",
        "#accuracy vs loss function\n",
        "s, (at, al) = plt.subplots(2,1)\n",
        "at.plot(f2history.history['accuracy'], c= 'b')\n",
        "at.plot(f2history.history['val_accuracy'], c='r')\n",
        "at.set_title('model accuracy')\n",
        "at.set_ylabel('accuracy')\n",
        "at.set_xlabel('epoch')\n",
        "at.legend(['Res_bilstm_train', 'Res_bilstm_val'], loc='upper left')\n",
        "\n",
        "al.plot(f2history.history['loss'], c='m')\n",
        "al.plot(f2history.history['val_loss'], c='c')\n",
        "al.set_title('model loss')\n",
        "al.set_ylabel('loss')\n",
        "al.set_xlabel('epoch')\n",
        "al.legend(['train', 'val'], loc = 'upper left')\n",
        "\"\"\"\n",
        "\n"
      ]
    },
    {
      "cell_type": "code",
      "execution_count": null,
      "metadata": {
        "id": "QGH2P-gcLkoh"
      },
      "outputs": [],
      "source": []
    },
    {
      "cell_type": "code",
      "execution_count": null,
      "metadata": {
        "id": "zLDghtUELkoh"
      },
      "outputs": [],
      "source": [
        "#MLP(V+C)\n",
        "#MLP(S+C)\n",
        "#F = λF1 + (1 − λ)F2\n",
        "#F=(1-0.2)*t_cl+(0.2*im_cl)\n",
        "#F=(1-0.2)*bert_cl+(0.2*img_cl)\n",
        "#con_layer=Flatten()(F)"
      ]
    },
    {
      "cell_type": "code",
      "execution_count": null,
      "metadata": {
        "id": "fqWv1gtOLkoh"
      },
      "outputs": [],
      "source": [
        "\"\"\"\n",
        "#rat3 = tf.keras.layers.Reshape((1, -1))(at3)\n",
        "#fat3=Flatten()(rat3)\n",
        "#ff2 = tf.keras.layers.Reshape((1, -1))(ff2)\n",
        "#rcbt=tf.keras.layers.Reshape((1, -1))(dcbt)\n",
        "#fcbt=Flatten()(rcbt)\n",
        "f1=tf.keras.layers.Concatenate()([fres_layer,fat3])\n",
        "f1 = Dense(256,activation='relu')(f1)\n",
        "ff1=Flatten()(f1)\n",
        "fat1=Flatten()(at1)\n",
        "f2=tf.keras.layers.Concatenate()([ftxt,fat1])\n",
        "#f2=tf.keras.layers.Concatenate()([fcbt,fat2])\n",
        "f2 = Dense(256,activation='relu')(f2)\n",
        "# Ensure that the dimensions of the image and text outputs are compatible\n",
        "ff2=Flatten()(f2)\n",
        "#ff1 = tf.keras.layers.Reshape((1, -1))(ff1)\n",
        "#ff2 = tf.keras.layers.Reshape((1, -1))(ff2)\n",
        "#ff1=Flatten()(at3)\n",
        "#ff2=Flatten()(dcbt)\n",
        "mf1=(0.1*ff1)\n",
        "mf2=(0.2*ff2)\n",
        "fusion3 = tf.keras.layers.Concatenate()([mf1,mf2])\n",
        "conout = Dense(256,activation='relu')(fusion3)#(att_input_layer)\n",
        "conout = Dropout(0.5)(conout)\n",
        "conout = Dense(3,activation='softmax')(conout)\n",
        "#out = Dense(3,activation='softmax')(con_layer)\n",
        "\n",
        "# Defining model input and output\n",
        "com_atmodel = tf.keras.Model(inputs = [atclass_input,text_input,resnet.input], outputs=conout)\n",
        "#com_atmodel = tf.keras.Model(inputs = [jsequence_input,tsequence_input,sequence_input,rmodel.input], outputs=conout)\n",
        "#com_model.summary()\n",
        "# Using Stochastic gradient descent with optimizer\n",
        "# Compile the model\n",
        "com_atmodel.compile(\n",
        "    optimizer =tf.keras.optimizers.Adam(learning_rate=0.001),# optimizer,#image_input\n",
        "    loss = 'categorical_crossentropy',#loss\n",
        "    metrics =['accuracy'])\n",
        "com_history = com_atmodel.fit(\n",
        "    x =[jx_train,tx_train,vx_train],\n",
        "    y = y_train,#to_categorical(train_df.tlabel),\n",
        "    #validation_data = ([vx_test,\n",
        "    #{'input_ids':tx_test['input_ids'],'attention_mask':tx_test['attention_mask']}],y_test #to_categorical(test_df.tlabel)\n",
        "   # ),\n",
        " validation_split = 0.1,\n",
        "  epochs=10,\n",
        "    batch_size=128\n",
        ")\n",
        "\n",
        "#text classification without english stop word and max word length 80\n",
        "cpredicted = com_atmodel.predict([jx_test,tx_test,vx_test])\n",
        "com_score=com_atmodel.evaluate([jx_test,tx_test,vx_test],y_test)\n",
        "print('Test Loss:', com_score[0])\n",
        "print('Test accuracy:', com_score[1])\n",
        "cypredicted = np.argmax(cpredicted,axis=1)\n",
        "#y_predicted = np.where(predicted>0.5,1,0)\n",
        "from sklearn.metrics import classification_report\n",
        "print(classification_report(test_df.jlabel,cypredicted,zero_division=1))\n",
        "#accuracy vs loss function\n",
        "s, (at, al) = plt.subplots(2,1)\n",
        "at.plot(com_history.history['accuracy'], c= 'b')\n",
        "at.plot(com_history.history['val_accuracy'], c='r')\n",
        "at.set_title('model accuracy')\n",
        "at.set_ylabel('accuracy')\n",
        "at.set_xlabel('epoch')\n",
        "at.legend(['Res_cnn_train', 'Res_cnn_val'], loc='upper left')\n",
        "\n",
        "al.plot(com_history.history['loss'], c='m')\n",
        "al.plot(com_history.history['val_loss'], c='c')\n",
        "al.set_title('model loss')\n",
        "al.set_ylabel('loss')\n",
        "al.set_xlabel('epoch')\n",
        "al.legend(['train', 'val'], loc = 'upper left')\n",
        "\"\"\""
      ]
    },
    {
      "cell_type": "code",
      "execution_count": null,
      "metadata": {
        "id": "yUIcpRd_Lkoi"
      },
      "outputs": [],
      "source": []
    },
    {
      "cell_type": "markdown",
      "metadata": {
        "id": "efoKWpH_Lkoi"
      },
      "source": [
        "**Image and caption text fusion model**"
      ]
    },
    {
      "cell_type": "code",
      "execution_count": null,
      "metadata": {
        "id": "Kx_bKqYhLkoi"
      },
      "outputs": [],
      "source": [
        "\n"
      ]
    },
    {
      "cell_type": "code",
      "execution_count": null,
      "metadata": {
        "id": "0kyySPTVLkoi"
      },
      "outputs": [],
      "source": []
    },
    {
      "cell_type": "markdown",
      "metadata": {
        "id": "ceDkl7ZXLkoi"
      },
      "source": [
        "**Mean of four multimodal data**"
      ]
    },
    {
      "cell_type": "code",
      "execution_count": null,
      "metadata": {
        "id": "s05gGIUoLkoi"
      },
      "outputs": [],
      "source": [
        "\"\"\"\n",
        "ff1=Flatten()(f1)\n",
        "ffusion1=Flatten()(fusion1)\n",
        "ffusion2=Flatten()(fusion2)\n",
        "mean=(ff1+ffusion1+ffusion2+ffusion3)/4\n",
        "conout = Dense(256,activation='relu')(mean)#(att_input_layer)\n",
        "conout = Dropout(0.5)(conout)\n",
        "conout = Dense(3,activation='softmax')(conout)\n",
        "#out = Dense(3,activation='softmax')(con_layer)\n",
        "\n",
        "# Defining model input and output\n",
        "com_atmodel = tf.keras.Model(inputs = [jsequence_input,tsequence_input,sequence_input,image_input], outputs=conout)\n",
        "#com_atmodel = tf.keras.Model(inputs = [jsequence_input,tsequence_input,sequence_input,rmodel.input], outputs=conout)\n",
        "#com_model.summary()\n",
        "# Using Stochastic gradient descent with optimizer\n",
        "# Compile the model\n",
        "com_atmodel.compile(\n",
        "    optimizer =tf.keras.optimizers.Adam(learning_rate=0.0001),# optimizer,#image_input\n",
        "    loss = 'categorical_crossentropy',#loss\n",
        "    metrics =['accuracy'])\n",
        "com_history = com_atmodel.fit(\n",
        "    x =[jx_train,tx_train,x_train,vx_train],\n",
        "    y = y_train,#to_categorical(train_df.tlabel),\n",
        "    #validation_data = ([vx_test,\n",
        "    #{'input_ids':tx_test['input_ids'],'attention_mask':tx_test['attention_mask']}],y_test #to_categorical(test_df.tlabel)\n",
        "   # ),\n",
        " validation_split = 0.1,\n",
        "  epochs=10,\n",
        "    batch_size=64\n",
        ")\n",
        "\n",
        "#text classification without english stop word and max word length 80\n",
        "cpredicted = com_atmodel.predict([jx_test,tx_test,x_test,vx_test])\n",
        "com_score=com_atmodel.evaluate([jx_test,tx_test,x_test,vx_test],y_test)\n",
        "print('Test Loss:', com_score[0])\n",
        "print('Test accuracy:', com_score[1])\n",
        "cypredicted = np.argmax(cpredicted,axis=1)\n",
        "#y_predicted = np.where(predicted>0.5,1,0)\n",
        "from sklearn.metrics import classification_report\n",
        "print(classification_report(test_df.jlabel,cypredicted,zero_division=1))\n",
        "#accuracy vs loss function\n",
        "s, (at, al) = plt.subplots(2,1)\n",
        "at.plot(com_history.history['accuracy'], c= 'b')\n",
        "at.plot(com_history.history['val_accuracy'], c='r')\n",
        "at.set_title('model accuracy')\n",
        "at.set_ylabel('accuracy')\n",
        "at.set_xlabel('epoch')\n",
        "at.legend(['Res_bilstm_train', 'Res_bilstm_val'], loc='upper left')\n",
        "\n",
        "al.plot(com_history.history['loss'], c='m')\n",
        "al.plot(com_history.history['val_loss'], c='c')\n",
        "al.set_title('model loss')\n",
        "al.set_ylabel('loss')\n",
        "al.set_xlabel('epoch')\n",
        "al.legend(['train', 'val'], loc = 'upper left')\n",
        "\"\"\""
      ]
    },
    {
      "cell_type": "markdown",
      "metadata": {
        "id": "B42WcyN-Lkoj"
      },
      "source": [
        "****ENDDD*******************************************************"
      ]
    },
    {
      "cell_type": "code",
      "execution_count": null,
      "metadata": {
        "id": "Bi9R0bHPLkoj"
      },
      "outputs": [],
      "source": []
    },
    {
      "cell_type": "code",
      "execution_count": null,
      "metadata": {
        "id": "GRR3hyYTLkoj"
      },
      "outputs": [],
      "source": []
    },
    {
      "cell_type": "code",
      "execution_count": null,
      "metadata": {
        "id": "eyRXnP1gLkoj"
      },
      "outputs": [],
      "source": [
        "#!pip install transformers"
      ]
    },
    {
      "cell_type": "markdown",
      "metadata": {
        "id": "l8z6mEzSLkoj"
      },
      "source": [
        "#### Loading Pretrained BERT Model"
      ]
    },
    {
      "cell_type": "code",
      "execution_count": null,
      "metadata": {
        "id": "9KQgYMSVLkoj"
      },
      "outputs": [],
      "source": [
        "#from transformers import AutoTokenizer,TFBertModel\n",
        "#btokenizer = AutoTokenizer.from_pretrained('bert-large-uncased')\n",
        "#bert = TFBertModel.from_pretrained('bert-large-uncased')"
      ]
    },
    {
      "cell_type": "code",
      "execution_count": null,
      "metadata": {
        "id": "EkXT0TUMLkoj"
      },
      "outputs": [],
      "source": [
        "#tokenizer('this is me abhishek and i am a very bad boy &*&*&&')"
      ]
    },
    {
      "cell_type": "markdown",
      "metadata": {
        "id": "cfaZcUUHLkok"
      },
      "source": [
        "#### Convert Our text data into BERT input format"
      ]
    },
    {
      "cell_type": "code",
      "execution_count": null,
      "metadata": {
        "id": "Xx3-KwKELkok"
      },
      "outputs": [],
      "source": [
        "#print(\"max len of tweets\",max([len(x.split()) for x in train_df.text_x]))\n",
        "#print(\"max len of tweets\",max([len(x.split()) for x in train_df.object_attr1_text]))\n",
        "#max_length = 40"
      ]
    },
    {
      "cell_type": "code",
      "execution_count": null,
      "metadata": {
        "id": "CuiMlj3JLkok"
      },
      "outputs": [],
      "source": []
    },
    {
      "cell_type": "markdown",
      "metadata": {
        "id": "CnrtMGw_Lkok"
      },
      "source": [
        "**Data processing for object class name**"
      ]
    },
    {
      "cell_type": "code",
      "execution_count": null,
      "metadata": {
        "id": "q5IqmeDlLkok"
      },
      "outputs": [],
      "source": [
        "'''\n",
        "tx_train = btokenizer(\n",
        "    text=train_df.text_cl_at1.tolist(),\n",
        "    #text=train_df.object_attr1_text.tolist(),\n",
        "    add_special_tokens=True,\n",
        "    max_length=70,\n",
        "    truncation=True,\n",
        "    padding=True,\n",
        "    return_tensors='tf',\n",
        "    return_token_type_ids = False,\n",
        "    return_attention_mask = True,\n",
        "    verbose = True)\n",
        "\n",
        "\n",
        "tx_test = btokenizer(\n",
        "    text=test_df.text_cl_at1.tolist(),\n",
        "    #text=test_df.object_attr1_text.tolist(),\n",
        "    add_special_tokens=True,\n",
        "    max_length=70,\n",
        "    truncation=True,\n",
        "    padding=True,\n",
        "    return_tensors='tf',\n",
        "    return_token_type_ids = False,\n",
        "    return_attention_mask = True,\n",
        "    verbose = True)\n",
        "print(tx_train['input_ids'].shape,tx_train['attention_mask'].shape,tx_test['input_ids'].shape)\n",
        "#print(tx_val['input_ids'].shape,tx_val['attention_mask'].shape)\n",
        "#jy_train=pd.get_dummies(train_df.joint_label)\n",
        "#jy_test=pd.get_dummies(test_df.joint_label)\n",
        "#print(jy_train.shape,jy_test.shape)\n",
        "'''"
      ]
    },
    {
      "cell_type": "markdown",
      "metadata": {
        "id": "7k3vOrBWLkok"
      },
      "source": [
        "**Train and test Data process for clean text**"
      ]
    },
    {
      "cell_type": "code",
      "execution_count": null,
      "metadata": {
        "id": "cJlq7dyELkol"
      },
      "outputs": [],
      "source": [
        "#### Building the model architecture"
      ]
    },
    {
      "cell_type": "code",
      "execution_count": null,
      "metadata": {
        "id": "1JURX0r3Lkol"
      },
      "outputs": [],
      "source": [
        "\"\"\"\n",
        "from tensorflow.keras.optimizers import Adam\n",
        "from tensorflow.keras.callbacks import EarlyStopping\n",
        "from tensorflow.keras.initializers import TruncatedNormal\n",
        "from tensorflow.keras.losses import CategoricalCrossentropy,BinaryCrossentropy\n",
        "from tensorflow.keras.metrics import CategoricalAccuracy,BinaryAccuracy\n",
        "from tensorflow.keras.utils import to_categorical\n",
        "from tensorflow.keras.utils import plot_model\n",
        "from tensorflow.keras.layers import Input,Dense, Dropout, Flatten,BatchNormalization,concatenate,Multiply\n",
        "from tensorflow.python.keras import regularizers\n",
        "\"\"\"\n"
      ]
    },
    {
      "cell_type": "code",
      "execution_count": null,
      "metadata": {
        "id": "zjb1SOH1Lkol"
      },
      "outputs": [],
      "source": [
        "\"\"\"\n",
        "max_len = 70\n",
        "import tensorflow as tf\n",
        "from tensorflow.keras.layers import Input, Dense\n",
        "\n",
        "input_ids = Input(shape=(max_len,), dtype=tf.int32, name=\"input_ids\")\n",
        "input_mask = Input(shape=(max_len,), dtype=tf.int32, name=\"attention_mask\")\n",
        "# embeddings = dbert_model(input_ids,attention_mask = input_mask)[0]\n",
        "\n",
        "\n",
        "embeddings = bert(input_ids,attention_mask = input_mask)[1] #(0 is the last hidden states,1 means pooler_output)\n",
        "# out = tf.keras.layers.GlobalMaxPool1D()(embeddings)\n",
        "#out = Dropout(0.1)(embeddings)\n",
        "tbert_text = Dense(128,activation = 'tanh')(embeddings)#(out)\n",
        "dbert_text = Dense(128,activation = 'relu')(embeddings)#(out)\n",
        "out = Dense(32, activation='relu')(dbert_text)#(out)\n",
        "#bout=Flatten()(embeddings)\n",
        "#out = Dense(128, activation='relu')(out)\n",
        "#out = Dropout(0.1)(out)\n",
        "#out = Dense(32, activation='relu')(out)\n",
        "out = Dropout(0.1)(out)\n",
        "#y = Dense(1,activation = 'sigmoid')(out)\n",
        "y = Dense(3,activation = 'softmax')(out)\n",
        "\n",
        "bmodel = tf.keras.Model(inputs=[input_ids, input_mask], outputs=y)\n",
        "bmodel.layers[2].trainable = True#False#\n",
        "# for training bert our lr must be so small'''\n",
        "\"\"\"\n"
      ]
    },
    {
      "cell_type": "code",
      "execution_count": null,
      "metadata": {
        "id": "2gJYKHOCLkol"
      },
      "outputs": [],
      "source": [
        "\"\"\"\n",
        "optimizer = Adam(\n",
        "    learning_rate=3e-06,#6e-06 # this learning rate is for bert model , taken from huggingface website\n",
        "    epsilon=1e-08,#1e-08\n",
        "    decay=1e-5,#,#1e-5\n",
        "    clipnorm=1.0)\n",
        "\n",
        "# Set loss and metrics\n",
        "loss = CategoricalCrossentropy(from_logits = True)\n",
        "#metric = CategoricalAccuracy('balanced_accuracy'),\n",
        "\n",
        "metric = [\n",
        "       tf.keras.metrics.CategoricalAccuracy(name='accuracy'),\n",
        "       tf.keras.metrics.Precision(name='precision'),\n",
        "       tf.keras.metrics.Recall(name='recall')\n",
        "]\n",
        "# Compile the model\n",
        "bmodel.compile(\n",
        "    optimizer = optimizer,\n",
        "    loss = loss,\n",
        "    metrics = metric)\n",
        "\"\"\""
      ]
    },
    {
      "cell_type": "code",
      "execution_count": null,
      "metadata": {
        "id": "jRWOxbMfLkol"
      },
      "outputs": [],
      "source": [
        "\"\"\"\n",
        "rat3 = tf.keras.layers.Reshape((1, -1))(at3)\n",
        "fat3=Flatten()(rat3)\n",
        "#ff2 = tf.keras.layers.Reshape((1, -1))(ff2)\n",
        "rcbt=tf.keras.layers.Reshape((1, -1))(dbert_text)\n",
        "fcbt=Flatten()(rcbt)\n",
        "f1=tf.keras.layers.Concatenate()([fres_layer,fat3])\n",
        "f1 = Dense(256,activation='relu')(f1)\n",
        "ff1=Flatten()(f1)\n",
        "f2=tf.keras.layers.Concatenate()([fcbt,fat3])\n",
        "ff = Dense(256,activation='relu')(f2)\n",
        "# Ensure that the dimensions of the image and text outputs are compatible\n",
        "ff2=Flatten()(f2)\n",
        "#ff1 = tf.keras.layers.Reshape((1, -1))(ff1)\n",
        "#ff2 = tf.keras.layers.Reshape((1, -1))(ff2)\n",
        "mf1=(0.2*ff1)\n",
        "mf2=(0.8)*ff2\n",
        "fusion = tf.keras.layers.Concatenate()([mf1,mf2])\n",
        "# = tf.keras.layers.Concatenate()([mf1,mf2])\n",
        "conout = Dense(256,activation='relu')(fusion)#(att_input_layer)\n",
        "#conout = Dropout(0.5)(conout)\n",
        "conout = Dense(3,activation='softmax')(conout)\n",
        "#out = Dense(3,activation='softmax')(con_layer)\n",
        "\n",
        "# Defining model input and output\n",
        "com_atmodel = tf.keras.Model(inputs = [jsequence_input,tsequence_input,image_input,bmodel.input], outputs=conout)\n",
        "#com_atmodel = tf.keras.Model(inputs = [jsequence_input,tsequence_input,sequence_input,rmodel.input], outputs=conout)\n",
        "#com_model.summary()\n",
        "# Using Stochastic gradient descent with optimizer\n",
        "# Compile the model\n",
        "com_atmodel.compile(\n",
        "    optimizer =tf.keras.optimizers.Adam(learning_rate=0.0001),# optimizer,#image_input\n",
        "    loss = 'categorical_crossentropy',#loss\n",
        "    metrics =['accuracy'])\n",
        "com_history = com_atmodel.fit(\n",
        "    x =[jx_train,tx_train,vx_train,{'input_ids':tx_train['input_ids'],'attention_mask':tx_train['attention_mask']}],\n",
        "    y = y_train,#to_categorical(train_df.tlabel),\n",
        "    #validation_data = ([vx_test,\n",
        "    #{'input_ids':tx_test['input_ids'],'attention_mask':tx_test['attention_mask']}],y_test #to_categorical(test_df.tlabel)\n",
        "   # ),\n",
        " validation_split = 0.1,\n",
        "  epochs=10,\n",
        "    batch_size=64\n",
        ")\n",
        "\n",
        "#text classification without english stop word and max word length 80\n",
        "cpredicted = com_atmodel.predict([jx_test,tx_test,vx_test,{'input_ids':tx_test['input_ids'],'attention_mask':tx_test['attention_mask']}])\n",
        "com_score=com_atmodel.evaluate([jx_test,tx_test,vx_test,{'input_ids':tx_test['input_ids'],'attention_mask':tx_test['attention_mask']}],y_test)\n",
        "print('Test Loss:', com_score[0])\n",
        "print('Test accuracy:', com_score[1])\n",
        "cypredicted = np.argmax(cpredicted,axis=1)\n",
        "#y_predicted = np.where(predicted>0.5,1,0)\n",
        "from sklearn.metrics import classification_report\n",
        "print(classification_report(test_df.jlabel,cypredicted,zero_division=1))\n",
        "#accuracy vs loss function\n",
        "s, (at, al) = plt.subplots(2,1)\n",
        "at.plot(com_history.history['accuracy'], c= 'b')\n",
        "at.plot(com_history.history['val_accuracy'], c='r')\n",
        "at.set_title('model accuracy')\n",
        "at.set_ylabel('accuracy')\n",
        "at.set_xlabel('epoch')\n",
        "at.legend(['Res_bilstm_train', 'Res_bilstm_val'], loc='upper left')\n",
        "\n",
        "al.plot(com_history.history['loss'], c='m')\n",
        "al.plot(com_history.history['val_loss'], c='c')\n",
        "al.set_title('model loss')\n",
        "al.set_ylabel('loss')\n",
        "al.set_xlabel('epoch')\n",
        "al.legend(['train', 'val'], loc = 'upper left')\n",
        "\"\"\""
      ]
    },
    {
      "cell_type": "markdown",
      "metadata": {
        "id": "tV4KFASsLkom"
      },
      "source": []
    },
    {
      "cell_type": "markdown",
      "metadata": {
        "id": "kUWgK1w2Lkom"
      },
      "source": []
    },
    {
      "cell_type": "code",
      "execution_count": null,
      "metadata": {
        "id": "X6flgXhfLkom"
      },
      "outputs": [],
      "source": [
        "#plot_model(bmodel, show_shapes = True)"
      ]
    },
    {
      "cell_type": "code",
      "execution_count": null,
      "metadata": {
        "id": "xeCe7swxLkom"
      },
      "outputs": [],
      "source": []
    },
    {
      "cell_type": "code",
      "execution_count": null,
      "metadata": {
        "id": "1TnMemERLkom"
      },
      "outputs": [],
      "source": []
    },
    {
      "cell_type": "code",
      "execution_count": null,
      "metadata": {
        "id": "YHNUGQiLLkon"
      },
      "outputs": [],
      "source": [
        "\"\"\"\n",
        "# Instantiate convolutional base mode for whole image\n",
        "\n",
        "image_input = Input(shape=(224, 224, 3), name='image16')\n",
        "vgg16 = VGG16(weights='imagenet',include_top=False,input_shape=(224, 224, 3))#(image_input)\n",
        "for layer in vgg16.layers:\n",
        "    layer.trainable=False\n",
        "\n",
        "#v16_layer = Flatten()(vgg16.output) #(vgg16)#\n",
        "v16_layer = Dense(256,activation = 'relu')(vgg16.output)#(out)\n",
        "#img_layer=Dense(4024, activation='relu')(vgg16.output)\n",
        "img_model=Dropout(0.5)(v16_layer)\n",
        "vprediction = Dense(3, activation='softmax')(img_model)\n",
        "wmodel = tf.keras.Model(inputs=vgg16.input, outputs=vprediction)\n",
        "#wmodel.summary()\n",
        "#img_model.summary()\n",
        "wmodel.compile(loss='categorical_crossentropy',\n",
        "                    optimizer=tf.keras.optimizers.Adam(learning_rate=0.0001),\n",
        "                    metrics=['accuracy'])#metric)#\n",
        "\"\"\"\n"
      ]
    },
    {
      "cell_type": "code",
      "execution_count": null,
      "metadata": {
        "id": "Hajmau-nLkon"
      },
      "outputs": [],
      "source": [
        "\"\"\"\n",
        "# Concatenating the last layer of two model global+bert\n",
        "v16_layer=Flatten()(v16_layer)\n",
        "bert_text=Flatten()(bert_text)\n",
        "con_layer = concatenate([v16_layer,bert_text])\n",
        "con_layer=Flatten()(con_layer)\n",
        "#con_layer=LSTM(128, return_sequences=True)(con_layer)\n",
        "#x = LSTM(512, return_sequences=False)(x)\n",
        "#con_out = Dense(2048,activation='relu')(con_layer)\n",
        "#con_out = Dropout(0.5)(con_out)\n",
        "#con_out = Dense(1024,activation='sigmoid')(con_out)\n",
        "con_out = Dropout(0.2)(con_layer)\n",
        "con_out = Dense(3,activation='softmax')(con_out)\n",
        "#out = Dense(3,activation='softmax')(con_layer)\n",
        "\n",
        "# Defining model input and output\n",
        "com_model = tf.keras.Model(inputs = [wmodel.input,model.input], outputs=con_out)\n",
        "#com_model.summary()\n",
        "# Using Stochastic gradient descent with optimizer\n",
        "# Compile the model\n",
        "com_model.compile(\n",
        "    optimizer = tf.keras.optimizers.Adam(learning_rate=1e-4),#optimizer,#\n",
        "    loss = 'categorical_crossentropy',#loss\n",
        "    metrics = metric)#Max length 55 with ctext with class name with joint label\n",
        "com_history = com_model.fit(\n",
        "    x =[vx_train,{'input_ids':tx_train['input_ids'],'attention_mask':tx_train['attention_mask']}],\n",
        "    y = y_train,#to_categorical(train_df.tlabel),\n",
        "    #validation_data = ([vx_test,\n",
        "    #{'input_ids':tx_test['input_ids'],'attention_mask':tx_test['attention_mask']}],jy_test #to_categorical(test_df.tlabel)\n",
        "    #),\n",
        "  validation_split = 0.1,\n",
        "  epochs=10,\n",
        "    batch_size=32\n",
        ")\n",
        "\n",
        "#text classification without english stop word and max word length 80\n",
        "cpredicted = com_model.predict([vx_test,{'input_ids':tx_test['input_ids'],'attention_mask':tx_test['attention_mask']}])\n",
        "com_score=com_model.evaluate([vx_test,{'input_ids':tx_test['input_ids'],'attention_mask':tx_test['attention_mask']}],y_test)\n",
        "print('Test Loss:', com_score[0])\n",
        "print('Test accuracy:', com_score[1])\n",
        "cypredicted = np.argmax(cpredicted,axis=1)\n",
        "#y_predicted = np.where(predicted>0.5,1,0)\n",
        "from sklearn.metrics import classification_report\n",
        "print(classification_report(test_df.jlabel,cypredicted))\n",
        "#accuracy vs loss function\n",
        "s, (at, al) = plt.subplots(2,1)\n",
        "at.plot(com_history.history['accuracy'], c= 'b')\n",
        "at.plot(com_history.history['val_accuracy'], c='r')\n",
        "at.set_title('model accuracy')\n",
        "at.set_ylabel('accuracy')\n",
        "at.set_xlabel('epoch')\n",
        "at.legend(['BERT_train', 'BERT_val'], loc='upper left')\n",
        "\n",
        "al.plot(com_history.history['loss'], c='m')\n",
        "al.plot(com_history.history['val_loss'], c='c')\n",
        "al.set_title('model loss')\n",
        "al.set_ylabel('loss')\n",
        "al.set_xlabel('epoch')\n",
        "al.legend(['train', 'val'], loc = 'upper left')\n",
        "\"\"\"\n"
      ]
    },
    {
      "cell_type": "code",
      "execution_count": null,
      "metadata": {
        "id": "67YpzDABLkon"
      },
      "outputs": [],
      "source": [
        "import tensorflow as tf\n",
        "gpus = tf.config.experimental.list_physical_devices('GPU')\n",
        "if gpus:\n",
        "    try:\n",
        "        for gpu in gpus:\n",
        "            tf.config.experimental.set_memory_growth(gpu, True)\n",
        "\n",
        "    except RuntimeError as e:\n",
        "        print(e)"
      ]
    },
    {
      "cell_type": "code",
      "execution_count": null,
      "metadata": {
        "id": "zi_5avKLLkoo"
      },
      "outputs": [],
      "source": []
    },
    {
      "cell_type": "code",
      "execution_count": null,
      "metadata": {
        "id": "EFU_ru7ELkoo"
      },
      "outputs": [],
      "source": [
        "\"\"\"\n",
        "con_layer = Dense(128,activation='relu')(con_layer)\n",
        "#con_layer = Dense(128,activation='relu')(F)#(con_layer)\n",
        "#con_layer=LSTM(128, return_sequences=True)(F)\n",
        "#x = LSTM(512, return_sequences=False)(x)\n",
        "#con_out = Dense(256,activation='relu')(con_layer)\n",
        "#con_out = Dropout(0.5)(con_out)\n",
        "#con_out = Dense(1024,activation='sigmoid')(con_out)\n",
        "con_out = Dropout(0.2)(con_layer)\n",
        "con_out = Dense(3, kernel_regularizer=tf.keras.regularizers.l2(0.01),activation='softmax')(con_out)\n",
        "#con_out = Dense(3, activation='softmax')(con_out)\n",
        "#out = Dense(3,activation='softmax')(con_layer)\n",
        "\n",
        "# Defining model input and output\n",
        "com_model = tf.keras.Model(inputs = [jsequence_input,rmodel.input,model.input], outputs=con_out)\n",
        "#com_model = tf.keras.Model(inputs = [modelse.jsequence_input,rmodel.input,model.input], outputs=con_out)\n",
        "#com_model = tf.keras.Model(inputs = [iclmodel.input,tclmodel.input], outputs=con_out)\n",
        "#com_model.summary()\n",
        "# Using Stochastic gradient descent with optimizer\n",
        "# Compile the model\n",
        "com_model.compile(\n",
        "    optimizer =tf.keras.optimizers.Adam(learning_rate=0.001),# optimizer,#\n",
        "    loss = 'categorical_crossentropy',#loss\n",
        "    metrics = metric)#Max length 55 with ctext with class name with joint label\n",
        "com_history = com_model.fit(\n",
        "    x =[jx_train,vx_train,{'input_ids':tx_train['input_ids'],'attention_mask':tx_train['attention_mask']}],\n",
        "    y = y_train,#to_categorical(train_df.tlabel),\n",
        "    #validation_data = ([vx_test,\n",
        "    #{'input_ids':tx_test['input_ids'],'attention_mask':tx_test['attention_mask']}],y_test #to_categorical(test_df.tlabel)\n",
        "   # ),\n",
        " validation_split = 0.1,\n",
        "  epochs=10,\n",
        "    batch_size=32\n",
        ")\n",
        "\n",
        "#text classification without english stop word and max word length 80\n",
        "cpredicted = com_model.predict([jx_test,vx_test,{'input_ids':tx_test['input_ids'],'attention_mask':tx_test['attention_mask']}])\n",
        "com_score=com_model.evaluate([jx_test,vx_test,{'input_ids':tx_test['input_ids'],'attention_mask':tx_test['attention_mask']}],y_test)\n",
        "print('Test Loss:', com_score[0])\n",
        "print('Test accuracy:', com_score[1])\n",
        "cypredicted = np.argmax(cpredicted,axis=1)\n",
        "#y_predicted = np.where(predicted>0.5,1,0)\n",
        "from sklearn.metrics import classification_report\n",
        "print(classification_report(test_df.jlabel,cypredicted))\n",
        "#accuracy vs loss function\n",
        "s, (at, al) = plt.subplots(2,1)\n",
        "at.plot(com_history.history['accuracy'], c= 'b')\n",
        "at.plot(com_history.history['val_accuracy'], c='r')\n",
        "at.set_title('model accuracy')\n",
        "at.set_ylabel('accuracy')\n",
        "at.set_xlabel('epoch')\n",
        "at.legend(['Res_BERT_train', 'Res_BERT_val'], loc='upper left')\n",
        "\n",
        "al.plot(com_history.history['loss'], c='m')\n",
        "al.plot(com_history.history['val_loss'], c='c')\n",
        "al.set_title('model loss')\n",
        "al.set_ylabel('loss')\n",
        "al.set_xlabel('epoch')\n",
        "al.legend(['train', 'val'], loc = 'upper left')\n",
        "\"\"\"\n"
      ]
    },
    {
      "cell_type": "code",
      "execution_count": null,
      "metadata": {
        "id": "iJz11Hy2Lkoo"
      },
      "outputs": [],
      "source": [
        "\"\"\"\n",
        "# Concatenating the last layer of two model global+bert\n",
        "res_layer=Flatten()(res_layer)\n",
        "bilstm=Flatten()(bilstm)\n",
        "con_layer = concatenate([res_layer,bilstm])\n",
        "#con_layer=Flatten()(con_layer)\n",
        "#con_layer=LSTM(128, return_sequences=True)(con_layer)\n",
        "#x = LSTM(512, return_sequences=False)(x)\n",
        "con_out = Dense(256,activation='relu')(con_layer)\n",
        "#con_out = Dropout(0.5)(con_out)\n",
        "#con_out = Dense(1024,activation='sigmoid')(con_out)\n",
        "con_out = Dropout(0.2)(con_layer)\n",
        "con_out = Dense(3,activation='softmax')(con_out)\n",
        "#out = Dense(3,activation='softmax')(con_layer)\n",
        "\n",
        "# Defining model input and output\n",
        "com_model = tf.keras.Model(inputs = [rmodel.input,modelse.input], outputs=con_out)\n",
        "#com_model.summary()\n",
        "# Using Stochastic gradient descent with optimizer\n",
        "# Compile the model\n",
        "com_model.compile(\n",
        "    optimizer =tf.keras.optimizers.Adam(learning_rate=0.0001),# optimizer,#\n",
        "    loss = 'categorical_crossentropy',#loss\n",
        "    metrics =['accuracy'])# metric)#Max length 55 with ctext with class name with joint label\n",
        "com_history = com_model.fit(\n",
        "    x =[vx_train,jx_train],\n",
        "    y = y_train,#to_categorical(train_df.tlabel),\n",
        "    #validation_data = ([vx_test,\n",
        "    #{'input_ids':tx_test['input_ids'],'attention_mask':tx_test['attention_mask']}],y_test #to_categorical(test_df.tlabel)\n",
        "   # ),\n",
        " validation_split = 0.1,\n",
        "  epochs=30,\n",
        "    batch_size=32\n",
        ")\n",
        "\n",
        "#text classification without english stop word and max word length 80\n",
        "cpredicted = com_model.predict([vx_test,jx_test])\n",
        "com_score=com_model.evaluate([vx_test,jx_test],y_test)\n",
        "print('Test Loss:', com_score[0])\n",
        "print('Test accuracy:', com_score[1])\n",
        "cypredicted = np.argmax(cpredicted,axis=1)\n",
        "#y_predicted = np.where(predicted>0.5,1,0)\n",
        "from sklearn.metrics import classification_report\n",
        "print(classification_report(test_df.jlabel,cypredicted))\n",
        "#accuracy vs loss function\n",
        "s, (at, al) = plt.subplots(2,1)\n",
        "at.plot(com_history.history['accuracy'], c= 'b')\n",
        "at.plot(com_history.history['val_accuracy'], c='r')\n",
        "at.set_title('model accuracy')\n",
        "at.set_ylabel('accuracy')\n",
        "at.set_xlabel('epoch')\n",
        "at.legend(['Res_bilstm_train', 'Res_bilstm_val'], loc='upper left')\n",
        "\n",
        "al.plot(com_history.history['loss'], c='m')\n",
        "al.plot(com_history.history['val_loss'], c='c')\n",
        "al.set_title('model loss')\n",
        "al.set_ylabel('loss')\n",
        "al.set_xlabel('epoch')\n",
        "al.legend(['train', 'val'], loc = 'upper left')\n",
        "\"\"\"\n",
        "\n"
      ]
    }
  ],
  "metadata": {
    "accelerator": "GPU",
    "colab": {
      "machine_shape": "hm",
      "provenance": [],
      "include_colab_link": true
    },
    "kernelspec": {
      "display_name": "Python 3",
      "name": "python3"
    },
    "language_info": {
      "codemirror_mode": {
        "name": "ipython",
        "version": 3
      },
      "file_extension": ".py",
      "mimetype": "text/x-python",
      "name": "python",
      "nbconvert_exporter": "python",
      "pygments_lexer": "ipython3",
      "version": "3.7.12"
    }
  },
  "nbformat": 4,
  "nbformat_minor": 0
}