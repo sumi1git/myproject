{
  "cells": [
    {
      "cell_type": "markdown",
      "metadata": {
        "id": "view-in-github",
        "colab_type": "text"
      },
      "source": [
        "<a href=\"https://colab.research.google.com/github/sumi1git/myproject/blob/main/mvsa_cross_attention_method.ipynb\" target=\"_parent\"><img src=\"https://colab.research.google.com/assets/colab-badge.svg\" alt=\"Open In Colab\"/></a>"
      ]
    },
    {
      "cell_type": "code",
      "source": [
        "import random\n"
      ],
      "metadata": {
        "id": "Auy1xa2j-hMD"
      },
      "execution_count": null,
      "outputs": []
    },
    {
      "cell_type": "code",
      "source": [
        "from datetime import datetime\n",
        "now=datetime.now()\n",
        "now=datetime.strftime(now,'%d-%m-%Y')\n",
        "print(now)"
      ],
      "metadata": {
        "colab": {
          "base_uri": "https://localhost:8080/"
        },
        "id": "XZfNM6LNsdrs",
        "outputId": "db3e7282-aacc-4882-8a00-951ac2b6f914"
      },
      "execution_count": null,
      "outputs": [
        {
          "output_type": "stream",
          "name": "stdout",
          "text": [
            "14-07-2023\n"
          ]
        }
      ]
    },
    {
      "cell_type": "code",
      "source": [
        "print(random.randrange(2,10,2))"
      ],
      "metadata": {
        "colab": {
          "base_uri": "https://localhost:8080/"
        },
        "id": "4YAKsHPY-hnM",
        "outputId": "b5b53c5f-debf-4594-8dbf-dd240af575f0"
      },
      "execution_count": null,
      "outputs": [
        {
          "output_type": "stream",
          "name": "stdout",
          "text": [
            "8\n"
          ]
        }
      ]
    },
    {
      "cell_type": "code",
      "execution_count": null,
      "metadata": {
        "colab": {
          "base_uri": "https://localhost:8080/"
        },
        "id": "GEYSUJSV2qKU",
        "outputId": "afd45b37-f4c1-456f-deb4-cc39229ce670"
      },
      "outputs": [
        {
          "output_type": "stream",
          "name": "stdout",
          "text": [
            "Mounted at /gdrive\n"
          ]
        }
      ],
      "source": [
        "from google.colab import drive\n",
        "#drive.mount('/content/gdrive')\n",
        "drive.mount('/gdrive')"
      ]
    },
    {
      "cell_type": "code",
      "execution_count": null,
      "metadata": {
        "id": "fgFPxlL52Zvs"
      },
      "outputs": [],
      "source": [
        "                                                                                                                                                                                        # This Python 3 environment comes with many helpful analytics libraries installed\n",
        "#import libraries\n",
        "import numpy as np # linear algebra\n",
        "import pandas as pd # data processing, CSV file I/O (e.g. pd.read_csv)\n",
        "\n",
        "# Input data files are available in the read-only \"../input/\" directory\n",
        "# For example, running this (by clicking run or pressing Shift+Enter) will list all files under the input directory\n",
        "\n",
        "import os\n",
        "import matplotlib.pyplot as plt\n"
      ]
    },
    {
      "cell_type": "code",
      "execution_count": null,
      "metadata": {
        "colab": {
          "base_uri": "https://localhost:8080/"
        },
        "id": "qHOItF0cypmL",
        "outputId": "c0b06dec-44ab-4ec7-90cc-319550f7d927"
      },
      "outputs": [
        {
          "output_type": "stream",
          "name": "stdout",
          "text": [
            "Thu Jun 29 14:53:37 2023       \n",
            "+-----------------------------------------------------------------------------+\n",
            "| NVIDIA-SMI 525.85.12    Driver Version: 525.85.12    CUDA Version: 12.0     |\n",
            "|-------------------------------+----------------------+----------------------+\n",
            "| GPU  Name        Persistence-M| Bus-Id        Disp.A | Volatile Uncorr. ECC |\n",
            "| Fan  Temp  Perf  Pwr:Usage/Cap|         Memory-Usage | GPU-Util  Compute M. |\n",
            "|                               |                      |               MIG M. |\n",
            "|===============================+======================+======================|\n",
            "|   0  Tesla T4            Off  | 00000000:00:04.0 Off |                    0 |\n",
            "| N/A   49C    P8    10W /  70W |      0MiB / 15360MiB |      0%      Default |\n",
            "|                               |                      |                  N/A |\n",
            "+-------------------------------+----------------------+----------------------+\n",
            "                                                                               \n",
            "+-----------------------------------------------------------------------------+\n",
            "| Processes:                                                                  |\n",
            "|  GPU   GI   CI        PID   Type   Process name                  GPU Memory |\n",
            "|        ID   ID                                                   Usage      |\n",
            "|=============================================================================|\n",
            "|  No running processes found                                                 |\n",
            "+-----------------------------------------------------------------------------+\n"
          ]
        }
      ],
      "source": [
        "gpu_info = !nvidia-smi\n",
        "gpu_info = '\\n'.join(gpu_info)\n",
        "if gpu_info.find('failed') >= 0:\n",
        "  print('Not connected to a GPU')\n",
        "else:\n",
        "  print(gpu_info)"
      ]
    },
    {
      "cell_type": "code",
      "execution_count": null,
      "metadata": {
        "colab": {
          "base_uri": "https://localhost:8080/"
        },
        "id": "5QanE58dysi8",
        "outputId": "d6d9bc94-7b5b-48a4-e5ef-65ee22633aa7"
      },
      "outputs": [
        {
          "output_type": "stream",
          "name": "stdout",
          "text": [
            "Your runtime has 27.3 gigabytes of available RAM\n",
            "\n",
            "You are using a high-RAM runtime!\n"
          ]
        }
      ],
      "source": [
        "from psutil import virtual_memory\n",
        "ram_gb = virtual_memory().total / 1e9\n",
        "print('Your runtime has {:.1f} gigabytes of available RAM\\n'.format(ram_gb))\n",
        "\n",
        "if ram_gb < 20:\n",
        "  print('Not using a high-RAM runtime')\n",
        "else:\n",
        "  print('You are using a high-RAM runtime!')"
      ]
    },
    {
      "cell_type": "code",
      "execution_count": null,
      "metadata": {
        "id": "rgEEUg7o2xZJ"
      },
      "outputs": [],
      "source": []
    },
    {
      "cell_type": "code",
      "execution_count": null,
      "metadata": {
        "colab": {
          "base_uri": "https://localhost:8080/",
          "height": 452
        },
        "id": "B_zXOgIdNeLo",
        "outputId": "17b2cb00-f668-4ab2-da10-17cc9e63f65a"
      },
      "outputs": [
        {
          "output_type": "execute_result",
          "data": {
            "text/plain": [
              "<matplotlib.image.AxesImage at 0x7e1681e840d0>"
            ]
          },
          "metadata": {},
          "execution_count": 4
        },
        {
          "output_type": "display_data",
          "data": {
            "text/plain": [
              "<Figure size 640x480 with 1 Axes>"
            ],
            "image/png": "[encoded data removed]"
          },
          "metadata": {}
        }
      ],
      "source": [
        "import cv2\n",
        "im=cv2.imread(\"/gdrive/MyDrive/sumana_nuig/mvsa/data/2490.jpg\")\n",
        "#G:\\My Drive\\sumana_nuig\\mvsa\\data\n",
        "#im_rgb = cv2.cvtColor(im, cv2.COLOR_BGR2RGB)\n",
        "#showarray(im_rgb)\n",
        "plt.imshow(im)\n",
        "\n"
      ]
    },
    {
      "cell_type": "code",
      "source": [
        "\n",
        "import torch\n",
        "import torchvision.models as models\n",
        "import torchvision.transforms as transforms\n",
        "from PIL import Image\n",
        "\n",
        "# Load the pre-trained ResNet model\n",
        "resnet = models.resnet50(pretrained=True)\n",
        "# Set the model to evaluation mode\n",
        "resnet.eval()\n",
        "\n",
        "# Load and preprocess the image\n",
        "image_path = '/gdrive/MyDrive/sumana_nuig/mvsa/data/2490.jpg'\n",
        "image = Image.open(image_path)\n",
        "preprocess = transforms.Compose([\n",
        "    transforms.Resize(256),\n",
        "    transforms.CenterCrop(224),\n",
        "    transforms.ToTensor(),\n",
        "    transforms.Normalize(mean=[0.485, 0.456, 0.406], std=[0.229, 0.224, 0.225])  # ImageNet normalization\n",
        "])\n",
        "input_image = preprocess(image).unsqueeze(0)\n",
        "\n",
        "# Forward pass through the model\n",
        "with torch.no_grad():\n",
        "    features = resnet(input_image)\n",
        "\n",
        "# Print the scene information\n",
        "#print(features)\n"
      ],
      "metadata": {
        "colab": {
          "base_uri": "https://localhost:8080/"
        },
        "id": "brK-4GAzzTo9",
        "outputId": "4907a105-5218-4ac7-88bc-b74d9b796428"
      },
      "execution_count": null,
      "outputs": [
        {
          "output_type": "stream",
          "name": "stderr",
          "text": [
            "/usr/local/lib/python3.10/dist-packages/torchvision/models/_utils.py:208: UserWarning: The parameter 'pretrained' is deprecated since 0.13 and may be removed in the future, please use 'weights' instead.\n",
            "  warnings.warn(\n",
            "/usr/local/lib/python3.10/dist-packages/torchvision/models/_utils.py:223: UserWarning: Arguments other than a weight enum or `None` for 'weights' are deprecated since 0.13 and may be removed in the future. The current behavior is equivalent to passing `weights=ResNet50_Weights.IMAGENET1K_V1`. You can also use `weights=ResNet50_Weights.DEFAULT` to get the most up-to-date weights.\n",
            "  warnings.warn(msg)\n"
          ]
        }
      ]
    },
    {
      "cell_type": "code",
      "source": [
        "print(features.shape)"
      ],
      "metadata": {
        "colab": {
          "base_uri": "https://localhost:8080/"
        },
        "id": "Em5VkVH1Hn0q",
        "outputId": "6d150104-e12a-46b3-fe91-24a757a11909"
      },
      "execution_count": null,
      "outputs": [
        {
          "output_type": "stream",
          "name": "stdout",
          "text": [
            "torch.Size([1, 1000])\n"
          ]
        }
      ]
    },
    {
      "cell_type": "code",
      "source": [
        "import torch\n",
        "import torchvision.models as models\n",
        "import torchvision.transforms as transforms\n",
        "from PIL import Image\n",
        "from torchvision import utils\n",
        "\n",
        "# Load the pre-trained VGG16 model\n",
        "#vgg16 = models.inception_v3(pretrained=True)\n",
        "#vgg16 = models.googlenet(pretrained=True)\n",
        "vgg16 = models.alexnet(pretrained=True)\n",
        "#vgg16 = models.Xception(pretrained=True)\n",
        "# Set the model to evaluation mode\n",
        "vgg16.eval()\n",
        "\n",
        "# Load and preprocess the image\n",
        "image_path = '/gdrive/MyDrive/sumana_nuig/mvsa/data/2490.jpg'\n",
        "image = Image.open(image_path)\n",
        "preprocess = transforms.Compose([\n",
        "    transforms.Resize(256),\n",
        "    transforms.CenterCrop(224),\n",
        "    transforms.ToTensor(),\n",
        "    transforms.Normalize(mean=[0.485, 0.456, 0.406], std=[0.229, 0.224, 0.225])  # ImageNet normalization\n",
        "])\n",
        "input_image = preprocess(image).unsqueeze(0)\n",
        "\n",
        "# Forward pass through the model\n",
        "with torch.no_grad():\n",
        "    outputs = vgg16(input_image)\n",
        "\n",
        "# Load the ImageNet class labels\n",
        "with open('/gdrive/MyDrive/sumana_nuig/imagenet_classes.txt', 'r') as f:\n",
        "    classes = [line.strip() for line in f.readlines()]\n",
        "\n",
        "# Get the top 10 predictions and their corresponding labels\n",
        "_, indices = torch.topk(outputs, 10)\n",
        "predictions = [classes[idx] for idx in indices.squeeze().tolist()]\n",
        "\n",
        "# Print the top 10 predictions/tags\n",
        "print(predictions)\n"
      ],
      "metadata": {
        "colab": {
          "base_uri": "https://localhost:8080/"
        },
        "id": "PUbZnlWUIVls",
        "outputId": "93f7678a-4704-46e8-ab9a-021a9aca4c84"
      },
      "execution_count": null,
      "outputs": [
        {
          "output_type": "stream",
          "name": "stderr",
          "text": [
            "/usr/local/lib/python3.10/dist-packages/torchvision/models/_utils.py:208: UserWarning: The parameter 'pretrained' is deprecated since 0.13 and may be removed in the future, please use 'weights' instead.\n",
            "  warnings.warn(\n",
            "/usr/local/lib/python3.10/dist-packages/torchvision/models/_utils.py:223: UserWarning: Arguments other than a weight enum or `None` for 'weights' are deprecated since 0.13 and may be removed in the future. The current behavior is equivalent to passing `weights=AlexNet_Weights.IMAGENET1K_V1`. You can also use `weights=AlexNet_Weights.DEFAULT` to get the most up-to-date weights.\n",
            "  warnings.warn(msg)\n"
          ]
        },
        {
          "output_type": "stream",
          "name": "stdout",
          "text": [
            "['\"neck brace\",', '\"seat belt\",', '\"square academic cap\",', '\"feather boa\",', '\"scarf\",', '\"hair spray\",', '\"Band-Aid\",', '\"wool\",', '\"academic gown\",', '\"bow tie\",']\n"
          ]
        }
      ]
    },
    {
      "cell_type": "code",
      "source": [
        "vgg16=['\"wig\",', '\"seat belt\",', '\"bow tie\",', '\"scarf\",', '\"sweatshirt\",', '\"neck brace\",', '\"academic gown\",', '\"suit\",', '\"square academic cap\",', '\"sunglasses\",']\n",
        "vgg19=['\"seat belt\",', '\"wig\",', '\"sweatshirt\",', '\"lab coat\",', '\"neck brace\",', '\"bow tie\",', '\"square academic cap\",', '\"scarf\",', '\"academic gown\",', '\"stethoscope\",']\n",
        "resnet50=['\"seat belt\",', '\"Band-Aid\",', '\"lab coat\",', '\"wig\",', '\"syringe\",', '\"square academic cap\",', '\"bolo tie\",', '\"academic gown\",', '\"stethoscope\",', '\"scarf\",']\n",
        "googlenet=['\"square academic cap\",', '\"academic gown\",', '\"neck brace\",', '\"seat belt\",', '\"wig\",', '\"sweatshirt\",', '\"scarf\",', '\"fur coat\",', '\"suit\",', '\"bow tie\",']\n",
        "inception_v3=['\"neck brace\",', '\"Band-Aid\",', '\"hair spray\",', '\"minibus\",', '\"sunscreen\",', '\"bridegroom\",', '\"seat belt\",', '\"wool\",', '\"academic gown\",', '\"lipstick\",']\n",
        "alexnet=['\"neck brace\",', '\"seat belt\",', '\"square academic cap\",', '\"feather boa\",', '\"scarf\",', '\"hair spray\",', '\"Band-Aid\",', '\"wool\",', '\"academic gown\",', '\"bow tie\",']\n",
        "Class_attributes=['hair dark', 'nose white', 'nose small', 'man smiling', 'eyes brown', 'eyebrow dark', 'eye brown', 'eye brown', 'eye brown', 'hair brown', 'man smiling', 'face brown', 'window white', 'face smiling', 'hair brown', 'lips pink', 'collar black', 'hair smiling', 'eyes brown', 'shirt blue']\n",
        "text=[ teamofaliabhatt unseen aliaa08 with fans]\n",
        "Sentiment=text-neutral,image-positive"
      ],
      "metadata": {
        "id": "lV8hUrmSTIZd"
      },
      "execution_count": null,
      "outputs": []
    },
    {
      "cell_type": "code",
      "source": [
        "\n",
        "!pip install CLIP"
      ],
      "metadata": {
        "colab": {
          "base_uri": "https://localhost:8080/"
        },
        "id": "ZPiNOb310huB",
        "outputId": "6915aafd-fd5c-41b6-f1aa-b0b9161a71ea"
      },
      "execution_count": null,
      "outputs": [
        {
          "output_type": "stream",
          "name": "stdout",
          "text": [
            "Collecting CLIP\n",
            "  Downloading clip-0.2.0.tar.gz (5.5 kB)\n",
            "  Preparing metadata (setup.py) ... \u001b[?25l\u001b[?25hdone\n",
            "Building wheels for collected packages: CLIP\n",
            "  Building wheel for CLIP (setup.py) ... \u001b[?25l\u001b[?25hdone\n",
            "  Created wheel for CLIP: filename=clip-0.2.0-py3-none-any.whl size=6990 sha256=2ec5b710320657c44a2c4dcfae60ffb225a359a30e71db2fc1c02acd520823dd\n",
            "  Stored in directory: /root/.cache/pip/wheels/7f/5c/e6/2c0fdb453a3569188864b17e9676bea8b3b7e160c037117869\n",
            "Successfully built CLIP\n",
            "Installing collected packages: CLIP\n",
            "Successfully installed CLIP-0.2.0\n"
          ]
        }
      ]
    },
    {
      "cell_type": "code",
      "source": [
        "import torch\n",
        "import CLIP\n",
        "from PIL import Image\n",
        "\n",
        "# Load the CLIP model\n",
        "device = \"cuda\" if torch.cuda.is_available() else \"cpu\"\n",
        "model, preprocess = clip.load(\"ViT-B/32\", device=device)\n",
        "\n",
        "# Preprocess the image\n",
        "def preprocess_image(im):\n",
        "    image = Image.open(im)\n",
        "    image = image.convert(\"RGB\")\n",
        "    image = image.resize((224, 224))\n",
        "    image = preprocess(image).unsqueeze(0).to(device)\n",
        "    return image\n",
        "\n",
        "# Analyze sentiment of an image\n",
        "def analyze_sentiment(im):\n",
        "    image = preprocess_image(im)\n",
        "\n",
        "    # Example text prompt for sentiment analysis\n",
        "    text = clip.tokenize([\"a happy image\"]).to(device)\n",
        "\n",
        "    with torch.no_grad():\n",
        "        image_features = model.encode_image(image)\n",
        "        text_features = model.encode_text(text)\n",
        "\n",
        "        # Calculate sentiment scores\n",
        "        similarity = (100.0 * image_features @ text_features.T).softmax(dim=-1)[0]\n",
        "        sentiment_scores = {\n",
        "            \"Positive\": round(similarity[1].item(), 2),\n",
        "            \"Negative\": round(similarity[0].item(), 2)\n",
        "        }\n",
        "\n",
        "        return sentiment_scores\n",
        "\n",
        "# Example usage\n",
        "image_path = \"path/to/your/image.jpg\"\n",
        "sentiment_scores = analyze_sentiment(image_path)\n",
        "print(sentiment_scores)\n"
      ],
      "metadata": {
        "colab": {
          "base_uri": "https://localhost:8080/",
          "height": 390
        },
        "id": "wUDVQzhgzm79",
        "outputId": "b21cb2da-63b1-438a-c2d3-4c3ae8f3a417"
      },
      "execution_count": null,
      "outputs": [
        {
          "output_type": "error",
          "ename": "ModuleNotFoundError",
          "evalue": "ignored",
          "traceback": [
            "\u001b[0;31m---------------------------------------------------------------------------\u001b[0m",
            "\u001b[0;31mModuleNotFoundError\u001b[0m                       Traceback (most recent call last)",
            "\u001b[0;32m<ipython-input-7-06f3556a34d4>\u001b[0m in \u001b[0;36m<cell line: 2>\u001b[0;34m()\u001b[0m\n\u001b[1;32m      1\u001b[0m \u001b[0;32mimport\u001b[0m \u001b[0mtorch\u001b[0m\u001b[0;34m\u001b[0m\u001b[0;34m\u001b[0m\u001b[0m\n\u001b[0;32m----> 2\u001b[0;31m \u001b[0;32mimport\u001b[0m \u001b[0mCLIP\u001b[0m\u001b[0;34m\u001b[0m\u001b[0;34m\u001b[0m\u001b[0m\n\u001b[0m\u001b[1;32m      3\u001b[0m \u001b[0;32mfrom\u001b[0m \u001b[0mPIL\u001b[0m \u001b[0;32mimport\u001b[0m \u001b[0mImage\u001b[0m\u001b[0;34m\u001b[0m\u001b[0;34m\u001b[0m\u001b[0m\n\u001b[1;32m      4\u001b[0m \u001b[0;34m\u001b[0m\u001b[0m\n\u001b[1;32m      5\u001b[0m \u001b[0;31m# Load the CLIP model\u001b[0m\u001b[0;34m\u001b[0m\u001b[0;34m\u001b[0m\u001b[0m\n",
            "\u001b[0;31mModuleNotFoundError\u001b[0m: No module named 'CLIP'",
            "",
            "\u001b[0;31m---------------------------------------------------------------------------\u001b[0;32m\nNOTE: If your import is failing due to a missing package, you can\nmanually install dependencies using either !pip or !apt.\n\nTo view examples of installing some common dependencies, click the\n\"Open Examples\" button below.\n\u001b[0;31m---------------------------------------------------------------------------\u001b[0m\n"
          ],
          "errorDetails": {
            "actions": [
              {
                "action": "open_url",
                "actionText": "Open Examples",
                "url": "/notebooks/snippets/importing_libraries.ipynb"
              }
            ]
          }
        }
      ]
    },
    {
      "cell_type": "code",
      "execution_count": null,
      "metadata": {
        "id": "mahVqkcG2Zvw"
      },
      "outputs": [],
      "source": [
        "import cv2\n",
        "import numpy as np\n",
        "from sklearn.svm import SVC\n",
        "from sklearn.model_selection import train_test_split\n",
        "from sklearn.metrics import accuracy_score\n",
        "\n",
        "# Load pre-trained facial embedding model\n",
        "face_cascade = cv2.CascadeClassifier('path_to_haar_cascade.xml')\n",
        "\n",
        "# Extract facial embeddings from images\n",
        "def extract_facial_embeddings(image_path):\n",
        "    image = cv2.imread(image_path)\n",
        "    gray = cv2.cvtColor(image, cv2.COLOR_BGR2GRAY)\n",
        "    faces = face_cascade.detectMultiScale(gray, scaleFactor=1.1, minNeighbors=5, minSize=(30, 30))\n",
        "\n",
        "    # Iterate over detected faces and extract facial features\n",
        "    for (x, y, w, h) in faces:\n",
        "        face_roi = gray[y:y+h, x:x+w]\n",
        "        # Perform facial feature extraction and obtain embeddings\n",
        "        # Store the facial embeddings for each image\n",
        "\n",
        "    # Return the facial embeddings\n",
        "    return facial_embeddings\n",
        "\n",
        "# Load global image features\n",
        "global_features = np.load('global_features.npy')\n",
        "\n",
        "# Load caption text features\n",
        "caption_features = np.load('caption_features.npy')\n",
        "\n",
        "# Load image paths and corresponding labels\n",
        "image_paths = ['image1.jpg', 'image2.jpg', 'image3.jpg']\n",
        "labels = ['positive', 'negative', 'neutral']\n",
        "\n",
        "# Initialize arrays to store features and labels\n",
        "features = []\n",
        "all_labels = []\n",
        "\n",
        "# Iterate over image paths\n",
        "for i, image_path in enumerate(image_paths):\n",
        "    # Extract facial embeddings\n",
        "    facial_embeddings = extract_facial_embeddings(image_path)\n",
        "\n",
        "    # Concatenate global image features, caption text features, and facial embeddings\n",
        "    combined_features = np.concatenate((global_features[i], caption_features[i], facial_embeddings))\n",
        "\n",
        "    # Append the combined features and corresponding label\n",
        "    features.append(combined_features)\n",
        "    all_labels.append(labels[i])\n",
        "\n",
        "# Convert features and labels to numpy arrays\n",
        "features = np.array(features)\n",
        "labels = np.array(all_labels)\n",
        "\n",
        "# Split the data into training and testing sets\n",
        "X_train, X_test, y_train, y_test = train_test_split(features, labels, test_size=0.2, random_state=42)\n",
        "\n",
        "# Initialize the SVM classifier\n",
        "svm_classifier = SVC()\n",
        "\n",
        "# Train the SVM classifier\n",
        "svm_classifier.fit(X_train, y_train)\n",
        "\n",
        "# Predict the labels for test data\n",
        "predictions = svm_classifier.predict(X_test)\n",
        "\n",
        "# Calculate accuracy\n",
        "accuracy = accuracy_score(y_test, predictions)\n",
        "print(\"Accuracy:\", accuracy)\n"
      ]
    },
    {
      "cell_type": "markdown",
      "metadata": {
        "id": "xhvrpI4D2Zvw"
      },
      "source": []
    },
    {
      "cell_type": "markdown",
      "metadata": {
        "id": "gGUIDg-c2Zvy"
      },
      "source": [
        "****"
      ]
    },
    {
      "cell_type": "code",
      "execution_count": null,
      "metadata": {
        "colab": {
          "base_uri": "https://localhost:8080/"
        },
        "id": "s93iLx4I2Zvz",
        "outputId": "120e1b92-1e08-400f-c32c-053a97d9147d"
      },
      "outputs": [
        {
          "output_type": "execute_result",
          "data": {
            "text/plain": [
              "(17013, 15)"
            ]
          },
          "metadata": {},
          "execution_count": 48
        }
      ],
      "source": [
        "#load csv files\n",
        "#ddf=pd.read_csv('/kaggle/input/mvsa-multiple-attcsv/mvsa_multiple_attr.csv')\n",
        "#df=pd.read_csv('/kaggle/input/simpson-attrbutes/simpson_attr_info.csv')\n",
        "#df=pd.read_csv('/gdrive/MyDrive/sumana_nuig/mvsa_multiple/msva-multiple_jointlabel.csv')\n",
        "df=pd.read_csv('/gdrive/MyDrive/sumana_nuig/mvsa_multiple/mvsa_multiple_attr_clean.csv')\n",
        "#df=pd.read_csv('/gdrive/MyDrive/sumana_nuig/mvsa/mvsa_attr_info1.csv')\n",
        "df=df.dropna()\n",
        "\n",
        "#df1=df1.iloc[:100:,]\n",
        "df.shape\n",
        "#df[:2]"
      ]
    },
    {
      "cell_type": "markdown",
      "metadata": {
        "id": "HQqLvXIB2Zvz"
      },
      "source": [
        "****DATA CLeaning****"
      ]
    },
    {
      "cell_type": "code",
      "source": [
        "df[:2]"
      ],
      "metadata": {
        "colab": {
          "base_uri": "https://localhost:8080/",
          "height": 367
        },
        "id": "GV_x5TAQpatW",
        "outputId": "3ad41c84-1f54-4a11-c52e-f5a335f4e23d"
      },
      "execution_count": null,
      "outputs": [
        {
          "output_type": "execute_result",
          "data": {
            "text/plain": [
              "     ID                                             text_x  img_path  \\\n",
              "0  2499  Knocked doors with the venerable #TeamTrudeau ...  2499.jpg   \n",
              "1  2500      Canvassing for @ElectKellyYEG #yegfed #elxn42  2500.jpg   \n",
              "\n",
              "  text_label image_label joint_label  \\\n",
              "0   positive    positive    positive   \n",
              "1    neutral    positive    positive   \n",
              "\n",
              "                                              text_y  \\\n",
              "0  Knocked doors with the venerable #TeamTrudeau ...   \n",
              "1      Canvassing for @ElectKellyYEG #yegfed #elxn42   \n",
              "\n",
              "                                        object_names  \\\n",
              "0  ['window', 'building', 'man', 'man', 'sign', '...   \n",
              "1  ['door', 'door', 'door', 'boy', 'door', 'hair'...   \n",
              "\n",
              "                                        object_score  \\\n",
              "0  [0.8636385202407837, 0.8330612182617188, 0.830...   \n",
              "1  [0.8792338371276855, 0.8491924405097961, 0.813...   \n",
              "\n",
              "                                            att_name  \\\n",
              "0  ['white', 'white', 'standing', 'standing', 're...   \n",
              "1  ['white', 'white', 'white', 'young', 'white', ...   \n",
              "\n",
              "                                           att_score joint_sentiment  \\\n",
              "0  [0.4545164406299591, 0.3220462203025818, 0.374...        positive   \n",
              "1  [0.7257274985313416, 0.5963190197944641, 0.746...        positive   \n",
              "\n",
              "                                           class_att  \\\n",
              "0  ['window white', 'building white', 'man standi...   \n",
              "1  ['door white', 'door white', 'door white', 'bo...   \n",
              "\n",
              "                                                bbox  \\\n",
              "0  [[0.0, 189.970458984375, 69.93639373779297, 37...   \n",
              "1  [[2.5472946166992188, 0.0, 227.929931640625, 4...   \n",
              "\n",
              "                                                text  \n",
              "0  knock door venerable teamtrudeau lpc candidate...  \n",
              "1             canvassing electkellyyeg yegfed elxn42  "
            ],
            "text/html": [
              "\n",
              "  <div id=\"df-47b40698-ac4e-469d-b912-afc1c7f75d07\">\n",
              "    <div class=\"colab-df-container\">\n",
              "      <div>\n",
              "<style scoped>\n",
              "    .dataframe tbody tr th:only-of-type {\n",
              "        vertical-align: middle;\n",
              "    }\n",
              "\n",
              "    .dataframe tbody tr th {\n",
              "        vertical-align: top;\n",
              "    }\n",
              "\n",
              "    .dataframe thead th {\n",
              "        text-align: right;\n",
              "    }\n",
              "</style>\n",
              "<table border=\"1\" class=\"dataframe\">\n",
              "  <thead>\n",
              "    <tr style=\"text-align: right;\">\n",
              "      <th></th>\n",
              "      <th>ID</th>\n",
              "      <th>text_x</th>\n",
              "      <th>img_path</th>\n",
              "      <th>text_label</th>\n",
              "      <th>image_label</th>\n",
              "      <th>joint_label</th>\n",
              "      <th>text_y</th>\n",
              "      <th>object_names</th>\n",
              "      <th>object_score</th>\n",
              "      <th>att_name</th>\n",
              "      <th>att_score</th>\n",
              "      <th>joint_sentiment</th>\n",
              "      <th>class_att</th>\n",
              "      <th>bbox</th>\n",
              "      <th>text</th>\n",
              "    </tr>\n",
              "  </thead>\n",
              "  <tbody>\n",
              "    <tr>\n",
              "      <th>0</th>\n",
              "      <td>2499</td>\n",
              "      <td>Knocked doors with the venerable #TeamTrudeau ...</td>\n",
              "      <td>2499.jpg</td>\n",
              "      <td>positive</td>\n",
              "      <td>positive</td>\n",
              "      <td>positive</td>\n",
              "      <td>Knocked doors with the venerable #TeamTrudeau ...</td>\n",
              "      <td>['window', 'building', 'man', 'man', 'sign', '...</td>\n",
              "      <td>[0.8636385202407837, 0.8330612182617188, 0.830...</td>\n",
              "      <td>['white', 'white', 'standing', 'standing', 're...</td>\n",
              "      <td>[0.4545164406299591, 0.3220462203025818, 0.374...</td>\n",
              "      <td>positive</td>\n",
              "      <td>['window white', 'building white', 'man standi...</td>\n",
              "      <td>[[0.0, 189.970458984375, 69.93639373779297, 37...</td>\n",
              "      <td>knock door venerable teamtrudeau lpc candidate...</td>\n",
              "    </tr>\n",
              "    <tr>\n",
              "      <th>1</th>\n",
              "      <td>2500</td>\n",
              "      <td>Canvassing for @ElectKellyYEG #yegfed #elxn42</td>\n",
              "      <td>2500.jpg</td>\n",
              "      <td>neutral</td>\n",
              "      <td>positive</td>\n",
              "      <td>positive</td>\n",
              "      <td>Canvassing for @ElectKellyYEG #yegfed #elxn42</td>\n",
              "      <td>['door', 'door', 'door', 'boy', 'door', 'hair'...</td>\n",
              "      <td>[0.8792338371276855, 0.8491924405097961, 0.813...</td>\n",
              "      <td>['white', 'white', 'white', 'young', 'white', ...</td>\n",
              "      <td>[0.7257274985313416, 0.5963190197944641, 0.746...</td>\n",
              "      <td>positive</td>\n",
              "      <td>['door white', 'door white', 'door white', 'bo...</td>\n",
              "      <td>[[2.5472946166992188, 0.0, 227.929931640625, 4...</td>\n",
              "      <td>canvassing electkellyyeg yegfed elxn42</td>\n",
              "    </tr>\n",
              "  </tbody>\n",
              "</table>\n",
              "</div>\n",
              "      <button class=\"colab-df-convert\" onclick=\"convertToInteractive('df-47b40698-ac4e-469d-b912-afc1c7f75d07')\"\n",
              "              title=\"Convert this dataframe to an interactive table.\"\n",
              "              style=\"display:none;\">\n",
              "        \n",
              "  <svg xmlns=\"http://www.w3.org/2000/svg\" height=\"24px\"viewBox=\"0 0 24 24\"\n",
              "       width=\"24px\">\n",
              "    <path d=\"M0 0h24v24H0V0z\" fill=\"none\"/>\n",
              "    <path d=\"M18.56 5.44l.94 2.06.94-2.06 2.06-.94-2.06-.94-.94-2.06-.94 2.06-2.06.94zm-11 1L8.5 8.5l.94-2.06 2.06-.94-2.06-.94L8.5 2.5l-.94 2.06-2.06.94zm10 10l.94 2.06.94-2.06 2.06-.94-2.06-.94-.94-2.06-.94 2.06-2.06.94z\"/><path d=\"M17.41 7.96l-1.37-1.37c-.4-.4-.92-.59-1.43-.59-.52 0-1.04.2-1.43.59L10.3 9.45l-7.72 7.72c-.78.78-.78 2.05 0 2.83L4 21.41c.39.39.9.59 1.41.59.51 0 1.02-.2 1.41-.59l7.78-7.78 2.81-2.81c.8-.78.8-2.07 0-2.86zM5.41 20L4 18.59l7.72-7.72 1.47 1.35L5.41 20z\"/>\n",
              "  </svg>\n",
              "      </button>\n",
              "      \n",
              "  <style>\n",
              "    .colab-df-container {\n",
              "      display:flex;\n",
              "      flex-wrap:wrap;\n",
              "      gap: 12px;\n",
              "    }\n",
              "\n",
              "    .colab-df-convert {\n",
              "      background-color: #E8F0FE;\n",
              "      border: none;\n",
              "      border-radius: 50%;\n",
              "      cursor: pointer;\n",
              "      display: none;\n",
              "      fill: #1967D2;\n",
              "      height: 32px;\n",
              "      padding: 0 0 0 0;\n",
              "      width: 32px;\n",
              "    }\n",
              "\n",
              "    .colab-df-convert:hover {\n",
              "      background-color: #E2EBFA;\n",
              "      box-shadow: 0px 1px 2px rgba(60, 64, 67, 0.3), 0px 1px 3px 1px rgba(60, 64, 67, 0.15);\n",
              "      fill: #174EA6;\n",
              "    }\n",
              "\n",
              "    [theme=dark] .colab-df-convert {\n",
              "      background-color: #3B4455;\n",
              "      fill: #D2E3FC;\n",
              "    }\n",
              "\n",
              "    [theme=dark] .colab-df-convert:hover {\n",
              "      background-color: #434B5C;\n",
              "      box-shadow: 0px 1px 3px 1px rgba(0, 0, 0, 0.15);\n",
              "      filter: drop-shadow(0px 1px 2px rgba(0, 0, 0, 0.3));\n",
              "      fill: #FFFFFF;\n",
              "    }\n",
              "  </style>\n",
              "\n",
              "      <script>\n",
              "        const buttonEl =\n",
              "          document.querySelector('#df-47b40698-ac4e-469d-b912-afc1c7f75d07 button.colab-df-convert');\n",
              "        buttonEl.style.display =\n",
              "          google.colab.kernel.accessAllowed ? 'block' : 'none';\n",
              "\n",
              "        async function convertToInteractive(key) {\n",
              "          const element = document.querySelector('#df-47b40698-ac4e-469d-b912-afc1c7f75d07');\n",
              "          const dataTable =\n",
              "            await google.colab.kernel.invokeFunction('convertToInteractive',\n",
              "                                                     [key], {});\n",
              "          if (!dataTable) return;\n",
              "\n",
              "          const docLinkHtml = 'Like what you see? Visit the ' +\n",
              "            '<a target=\"_blank\" href=https://colab.research.google.com/notebooks/data_table.ipynb>data table notebook</a>'\n",
              "            + ' to learn more about interactive tables.';\n",
              "          element.innerHTML = '';\n",
              "          dataTable['output_type'] = 'display_data';\n",
              "          await google.colab.output.renderOutput(dataTable, element);\n",
              "          const docLink = document.createElement('div');\n",
              "          docLink.innerHTML = docLinkHtml;\n",
              "          element.appendChild(docLink);\n",
              "        }\n",
              "      </script>\n",
              "    </div>\n",
              "  </div>\n",
              "  "
            ]
          },
          "metadata": {},
          "execution_count": 6
        }
      ]
    },
    {
      "cell_type": "code",
      "execution_count": null,
      "metadata": {
        "colab": {
          "base_uri": "https://localhost:8080/"
        },
        "id": "U-Dq_vHDcSWM",
        "outputId": "0ccaad78-5506-4aa4-8f10-2b8cc773884b"
      },
      "outputs": [
        {
          "data": {
            "text/plain": [
              "positive    11313\n",
              "neutral      4402\n",
              "negative     1298\n",
              "Name: joint_sentiment, dtype: int64"
            ]
          },
          "execution_count": 134,
          "metadata": {},
          "output_type": "execute_result"
        }
      ],
      "source": [
        "df.joint_sentiment.value_counts()"
      ]
    },
    {
      "cell_type": "code",
      "execution_count": null,
      "metadata": {
        "id": "HvWs7sLO2Zv0"
      },
      "outputs": [],
      "source": [
        "\"\"\"\n",
        "#Blance data for MVSA-Multiple\n",
        "# Downsample the data by randomly selecting 10% of the rows\n",
        "#downsampled_data = data.sample(frac=0.1)\n",
        "\n",
        "# Upsample the data by duplicating each row two times\n",
        "neg=df1[df1['joint_sentiment']=='negative']\n",
        "upsampled_neg = neg.reindex(neg.index.repeat(4))\n",
        "print(upsampled_neg.shape)\n",
        "nut=df1[df1['joint_sentiment']=='neutral']\n",
        "#upsampled_nut = nut.reindex(nut.index.repeat(2))\n",
        "#print(upsampled_nut.shape)\n",
        "downsampled_nut = nut.sample(frac=0.2)\n",
        "downsampled_nut=pd.concat([downsampled_nut,nut])\n",
        "print(downsampled_nut.shape)\n",
        "pos=df1[df1['joint_sentiment']=='positive']\n",
        "downsampled_pos = pos.sample(frac=0.5)\n",
        "print(downsampled_pos.shape)\n",
        "#concat three sampling\n",
        "df=pd.concat([downsampled_nut.iloc[:5000,:],upsampled_neg.iloc[:5000,:],downsampled_pos.iloc[:5000,:]])\n",
        "#df=pd.concat([downsampled_pos,upsampled_nut,upsampled_neg])\n",
        "#df=pd.concat([downsampled_pos,downsampled_nut,upsampled_neg])\n",
        "print(df.shape)\n",
        "df.joint_sentiment.value_counts()\n",
        "\"\"\""
      ]
    },
    {
      "cell_type": "code",
      "execution_count": null,
      "metadata": {
        "id": "Jm7wc0uC2Zv0"
      },
      "outputs": [],
      "source": []
    },
    {
      "cell_type": "code",
      "execution_count": null,
      "metadata": {
        "id": "S_9TEc9O2Zv1"
      },
      "outputs": [],
      "source": [
        "\"\"\"\n",
        "from imblearn.over_sampling import RandomOverSampler\n",
        "from collections import Counter\n",
        "\n",
        "ros = RandomOverSampler()\n",
        "X_ros, y_ros = ros.fit_resample(X, y)\n",
        "\n",
        "print('Original dataset shape:', Counter(y))\n",
        "print('Resampled dataset shape:', Counter(y_ros))\n",
        "\"\"\"\n"
      ]
    },
    {
      "cell_type": "code",
      "execution_count": null,
      "metadata": {
        "id": "u5zmPeu92Zv1"
      },
      "outputs": [],
      "source": [
        "#get batch of 64 we need 2844 sample\n",
        "#df=df.iloc[:4288:,]"
      ]
    },
    {
      "cell_type": "code",
      "execution_count": null,
      "metadata": {
        "id": "g5xkJeX12Zv2"
      },
      "outputs": [],
      "source": [
        "\n",
        "#remove duplicate pairs of words from class_att\n",
        "def drop_dupli(text):\n",
        "    #seen = set()\n",
        "    result = []\n",
        "    seen=[]\n",
        "    #c=0\n",
        "    for item in text.split():\n",
        "       # seen=[]\n",
        "        if item not in seen:\n",
        "            #seen.add(item)\n",
        "            seen.append(item)\n",
        "            result.append(item)\n",
        "    return \" \".join(result)\n",
        "df['class_att1'] = df['class_att'].apply(drop_dupli)\n",
        "#df['class_att1'] = df['class_att'].apply(lambda x: list(dict.fromkeys(x)))\n",
        "#df.class_att1\n",
        "#df['newame'] = df['Names'].apply(lambda x: list(dict.fromkeys(x)))\n",
        "#print (df)\n"
      ]
    },
    {
      "cell_type": "code",
      "execution_count": null,
      "metadata": {
        "id": "psSFhLMJ2Zv2"
      },
      "outputs": [],
      "source": [
        "\"\"\"\n",
        "#Blance data for Simpson\n",
        "# Downsample the data by randomly selecting 10% of the rows\n",
        "#downsampled_data = data.sample(frac=0.1)\n",
        "\n",
        "# Upsample the data by duplicating each row two times\n",
        "neg=df1[df1['joint_sentiment']=='negative']\n",
        "upsampled_neg = neg.reindex(neg.index.repeat(2))\n",
        "print(upsampled_neg.shape)\n",
        "nut=df1[df1['joint_sentiment']=='neutral']\n",
        "#upsampled_nut = nut.reindex(nut.index.repeat(2))\n",
        "#print(upsampled_nut.shape)\n",
        "#downsampled_nut = nut.sample(frac=0.2)\n",
        "#downsampled_nut=pd.concat([downsampled_nut,nut])\n",
        "#print(downsampled_nut.shape)\n",
        "pos=df1[df1['joint_sentiment']=='positive']\n",
        "#downsampled_pos = pos.sample(frac=0.5)\n",
        "#print(downsampled_pos.shape)\n",
        "#concat three sampling\n",
        "df=pd.concat([nut,upsampled_neg.iloc[:1016,:],pos])\n",
        "#df=pd.concat([downsampled_pos,upsampled_nut,upsampled_neg])\n",
        "#df=pd.concat([downsampled_pos,downsampled_nut,upsampled_neg])\n",
        "print(df.shape)\n",
        "df.joint_sentiment.value_counts()\n",
        "\"\"\""
      ]
    },
    {
      "cell_type": "markdown",
      "metadata": {
        "id": "LWJ32YNw2Zv3"
      },
      "source": [
        "**Balancing data in the dataframe**"
      ]
    },
    {
      "cell_type": "code",
      "execution_count": null,
      "metadata": {
        "id": "xY-8piHO2Zv3"
      },
      "outputs": [],
      "source": []
    },
    {
      "cell_type": "code",
      "execution_count": null,
      "metadata": {
        "id": "80egTE7j2Zv3"
      },
      "outputs": [],
      "source": [
        "\"\"\"\n",
        "#Blance data for MVSA-Single\n",
        "# Downsample the data by randomly selecting 10% of the rows\n",
        "#downsampled_data = data.sample(frac=0.1)\n",
        "\n",
        "# Upsample the data by duplicating each row two times\n",
        "neg=df1[df1['joint_sentiment']=='negative']\n",
        "upsampled_neg = neg.reindex(neg.index.repeat(2))\n",
        "upsampled_neg=upsampled_neg.iloc[:2593,:]\n",
        "#print(upsampled_neg.shape)\n",
        "nut=df1[df1['joint_sentiment']=='neutral']\n",
        "upsampled_nut = nut.reindex(nut.index.repeat(6))\n",
        "upsampled_nut=upsampled_nut.iloc[:2593,:]\n",
        "print(upsampled_nut.shape)\n",
        "pos=df1[df1['joint_sentiment']=='positive']\n",
        "upsampled_pos=pos.iloc[:2593,:]\n",
        "#concat three sampling\n",
        "df=pd.concat([upsampled_pos,upsampled_nut,upsampled_neg])\n",
        "#df=pd.concat([pos,upsampled_nut,upsampled_neg])\n",
        "df.joint_sentiment.value_counts()\n",
        "print(df.shape)\n",
        "\"\"\""
      ]
    },
    {
      "cell_type": "code",
      "execution_count": null,
      "metadata": {
        "colab": {
          "base_uri": "https://localhost:8080/",
          "height": 295
        },
        "id": "Pk_P0vdUnLoB",
        "outputId": "fd896f3f-feb0-4024-cfa3-c5ce98bf5138"
      },
      "outputs": [
        {
          "data": {
            "text/html": [
              "\n",
              "  <div id=\"df-2501c03a-884c-475e-bf3e-a31f4fc24c5b\">\n",
              "    <div class=\"colab-df-container\">\n",
              "      <div>\n",
              "<style scoped>\n",
              "    .dataframe tbody tr th:only-of-type {\n",
              "        vertical-align: middle;\n",
              "    }\n",
              "\n",
              "    .dataframe tbody tr th {\n",
              "        vertical-align: top;\n",
              "    }\n",
              "\n",
              "    .dataframe thead th {\n",
              "        text-align: right;\n",
              "    }\n",
              "</style>\n",
              "<table border=\"1\" class=\"dataframe\">\n",
              "  <thead>\n",
              "    <tr style=\"text-align: right;\">\n",
              "      <th></th>\n",
              "      <th>img_path</th>\n",
              "      <th>text</th>\n",
              "      <th>object_names</th>\n",
              "      <th>object_score</th>\n",
              "      <th>att_name</th>\n",
              "      <th>att_score</th>\n",
              "      <th>joint_sentiment</th>\n",
              "      <th>class_att</th>\n",
              "      <th>bbox</th>\n",
              "    </tr>\n",
              "  </thead>\n",
              "  <tbody>\n",
              "    <tr>\n",
              "      <th>22</th>\n",
              "      <td>24.jpg</td>\n",
              "      <td>looking forward to disgraced by ayad akhtar mo...</td>\n",
              "      <td>['man', 'suit', 'sign', 'hair', 'man', 'man', ...</td>\n",
              "      <td>[0.7883239984512329, 0.7631262540817261, 0.724...</td>\n",
              "      <td>['white', 'gray', 'white', 'short', 'black', '...</td>\n",
              "      <td>[0.152995303273201, 0.39513760805130005, 0.339...</td>\n",
              "      <td>neutral</td>\n",
              "      <td>['man white', 'suit gray', 'sign white', 'hair...</td>\n",
              "      <td>[[168.68898010253906, 108.79108428955078, 568....</td>\n",
              "    </tr>\n",
              "    <tr>\n",
              "      <th>23</th>\n",
              "      <td>25.jpg</td>\n",
              "      <td>rt curiosityhouse author carolynjmorris reads ...</td>\n",
              "      <td>['woman', 'hair', 'hair', 'girl', 'table', 'gi...</td>\n",
              "      <td>[0.7949923276901245, 0.7783167362213135, 0.719...</td>\n",
              "      <td>['sitting', 'dark', 'brown', 'little', 'green'...</td>\n",
              "      <td>[0.23358863592147827, 0.2890821099281311, 0.38...</td>\n",
              "      <td>neutral</td>\n",
              "      <td>['woman sitting', 'hair dark', 'hair brown', '...</td>\n",
              "      <td>[[165.5518341064453, 8.726630210876465, 439.41...</td>\n",
              "    </tr>\n",
              "  </tbody>\n",
              "</table>\n",
              "</div>\n",
              "      <button class=\"colab-df-convert\" onclick=\"convertToInteractive('df-2501c03a-884c-475e-bf3e-a31f4fc24c5b')\"\n",
              "              title=\"Convert this dataframe to an interactive table.\"\n",
              "              style=\"display:none;\">\n",
              "        \n",
              "  <svg xmlns=\"http://www.w3.org/2000/svg\" height=\"24px\"viewBox=\"0 0 24 24\"\n",
              "       width=\"24px\">\n",
              "    <path d=\"M0 0h24v24H0V0z\" fill=\"none\"/>\n",
              "    <path d=\"M18.56 5.44l.94 2.06.94-2.06 2.06-.94-2.06-.94-.94-2.06-.94 2.06-2.06.94zm-11 1L8.5 8.5l.94-2.06 2.06-.94-2.06-.94L8.5 2.5l-.94 2.06-2.06.94zm10 10l.94 2.06.94-2.06 2.06-.94-2.06-.94-.94-2.06-.94 2.06-2.06.94z\"/><path d=\"M17.41 7.96l-1.37-1.37c-.4-.4-.92-.59-1.43-.59-.52 0-1.04.2-1.43.59L10.3 9.45l-7.72 7.72c-.78.78-.78 2.05 0 2.83L4 21.41c.39.39.9.59 1.41.59.51 0 1.02-.2 1.41-.59l7.78-7.78 2.81-2.81c.8-.78.8-2.07 0-2.86zM5.41 20L4 18.59l7.72-7.72 1.47 1.35L5.41 20z\"/>\n",
              "  </svg>\n",
              "      </button>\n",
              "      \n",
              "  <style>\n",
              "    .colab-df-container {\n",
              "      display:flex;\n",
              "      flex-wrap:wrap;\n",
              "      gap: 12px;\n",
              "    }\n",
              "\n",
              "    .colab-df-convert {\n",
              "      background-color: #E8F0FE;\n",
              "      border: none;\n",
              "      border-radius: 50%;\n",
              "      cursor: pointer;\n",
              "      display: none;\n",
              "      fill: #1967D2;\n",
              "      height: 32px;\n",
              "      padding: 0 0 0 0;\n",
              "      width: 32px;\n",
              "    }\n",
              "\n",
              "    .colab-df-convert:hover {\n",
              "      background-color: #E2EBFA;\n",
              "      box-shadow: 0px 1px 2px rgba(60, 64, 67, 0.3), 0px 1px 3px 1px rgba(60, 64, 67, 0.15);\n",
              "      fill: #174EA6;\n",
              "    }\n",
              "\n",
              "    [theme=dark] .colab-df-convert {\n",
              "      background-color: #3B4455;\n",
              "      fill: #D2E3FC;\n",
              "    }\n",
              "\n",
              "    [theme=dark] .colab-df-convert:hover {\n",
              "      background-color: #434B5C;\n",
              "      box-shadow: 0px 1px 3px 1px rgba(0, 0, 0, 0.15);\n",
              "      filter: drop-shadow(0px 1px 2px rgba(0, 0, 0, 0.3));\n",
              "      fill: #FFFFFF;\n",
              "    }\n",
              "  </style>\n",
              "\n",
              "      <script>\n",
              "        const buttonEl =\n",
              "          document.querySelector('#df-2501c03a-884c-475e-bf3e-a31f4fc24c5b button.colab-df-convert');\n",
              "        buttonEl.style.display =\n",
              "          google.colab.kernel.accessAllowed ? 'block' : 'none';\n",
              "\n",
              "        async function convertToInteractive(key) {\n",
              "          const element = document.querySelector('#df-2501c03a-884c-475e-bf3e-a31f4fc24c5b');\n",
              "          const dataTable =\n",
              "            await google.colab.kernel.invokeFunction('convertToInteractive',\n",
              "                                                     [key], {});\n",
              "          if (!dataTable) return;\n",
              "\n",
              "          const docLinkHtml = 'Like what you see? Visit the ' +\n",
              "            '<a target=\"_blank\" href=https://colab.research.google.com/notebooks/data_table.ipynb>data table notebook</a>'\n",
              "            + ' to learn more about interactive tables.';\n",
              "          element.innerHTML = '';\n",
              "          dataTable['output_type'] = 'display_data';\n",
              "          await google.colab.output.renderOutput(dataTable, element);\n",
              "          const docLink = document.createElement('div');\n",
              "          docLink.innerHTML = docLinkHtml;\n",
              "          element.appendChild(docLink);\n",
              "        }\n",
              "      </script>\n",
              "    </div>\n",
              "  </div>\n",
              "  "
            ],
            "text/plain": [
              "   img_path                                               text  \\\n",
              "22   24.jpg  looking forward to disgraced by ayad akhtar mo...   \n",
              "23   25.jpg  rt curiosityhouse author carolynjmorris reads ...   \n",
              "\n",
              "                                         object_names  \\\n",
              "22  ['man', 'suit', 'sign', 'hair', 'man', 'man', ...   \n",
              "23  ['woman', 'hair', 'hair', 'girl', 'table', 'gi...   \n",
              "\n",
              "                                         object_score  \\\n",
              "22  [0.7883239984512329, 0.7631262540817261, 0.724...   \n",
              "23  [0.7949923276901245, 0.7783167362213135, 0.719...   \n",
              "\n",
              "                                             att_name  \\\n",
              "22  ['white', 'gray', 'white', 'short', 'black', '...   \n",
              "23  ['sitting', 'dark', 'brown', 'little', 'green'...   \n",
              "\n",
              "                                            att_score joint_sentiment  \\\n",
              "22  [0.152995303273201, 0.39513760805130005, 0.339...         neutral   \n",
              "23  [0.23358863592147827, 0.2890821099281311, 0.38...         neutral   \n",
              "\n",
              "                                            class_att  \\\n",
              "22  ['man white', 'suit gray', 'sign white', 'hair...   \n",
              "23  ['woman sitting', 'hair dark', 'hair brown', '...   \n",
              "\n",
              "                                                 bbox  \n",
              "22  [[168.68898010253906, 108.79108428955078, 568....  \n",
              "23  [[165.5518341064453, 8.726630210876465, 439.41...  "
            ]
          },
          "execution_count": 5,
          "metadata": {},
          "output_type": "execute_result"
        }
      ],
      "source": [
        "df[:2]"
      ]
    },
    {
      "cell_type": "code",
      "execution_count": null,
      "metadata": {
        "id": "YmFER6OR2Zv4"
      },
      "outputs": [],
      "source": [
        "import re\n",
        "df[\"text\"] = df[\"text\"].apply(lambda x: re.sub(\"[\\[{','}\\]]\", ' ', str(x)).strip())#captin text\n",
        "df[\"class_att1\"] = df[\"class_att1\"].apply(lambda x: re.sub(\"[\\[{','}\\]]\", ' ', str(x)).strip())#class-attributes pair\n",
        "df[\"class_names\"] = df[\"object_names\"].apply(lambda x: re.sub(\"[\\[{','}\\]]\", ' ', str(x)).strip())#class names\n",
        "df[\"cbt_class_attribute\"]=df[\"text\"].str.cat(df[\"class_att1\"])#Combined caption and class-attributes pairs\n",
        "df[\"cbt_class\"]=df[\"text\"].str.cat(df[\"class_names\"])#Combined caption and class-attributes pairs\n",
        "#df[:2]\n",
        "#df[\"obj_name\"] = df[\"object_names\"].apply(lambda x: re.sub(\"[\\[{','}\\]]\", ' ', str(x)).strip())\n",
        "#df[\"att_name\"] = df[\"att_name\"].apply(lambda x: re.sub(\"[\\[{','}\\]]\", ' ', str(x)).strip())\n",
        "\n",
        "\n"
      ]
    },
    {
      "cell_type": "code",
      "execution_count": null,
      "metadata": {
        "colab": {
          "base_uri": "https://localhost:8080/"
        },
        "id": "BOX1hTJsZLRB",
        "outputId": "5d674dbe-5908-4a45-b3a5-ac6c7a07098c"
      },
      "outputs": [
        {
          "name": "stderr",
          "output_type": "stream",
          "text": [
            "[nltk_data] Downloading package stopwords to /root/nltk_data...\n",
            "[nltk_data]   Unzipping corpora/stopwords.zip.\n"
          ]
        },
        {
          "data": {
            "text/plain": [
              "True"
            ]
          },
          "execution_count": 24,
          "metadata": {},
          "output_type": "execute_result"
        }
      ],
      "source": [
        "#!install nltk\n",
        "#nltk.download('stopwords')"
      ]
    },
    {
      "cell_type": "code",
      "execution_count": null,
      "metadata": {
        "colab": {
          "base_uri": "https://localhost:8080/",
          "height": 70
        },
        "id": "Cgaz9GTs2Zv4",
        "outputId": "40742fa1-717d-49bd-b18e-fd7a1991ba13"
      },
      "outputs": [
        {
          "data": {
            "application/vnd.google.colaboratory.intrinsic+json": {
              "type": "string"
            },
            "text/plain": [
              "\"\\nimport nltk\\nnltk.download('stopwords')\\nfrom nltk.corpus import stopwords\\nfrom nltk.tokenize import word_tokenize\\nstop_words = set(stopwords.words('english'))\\n\\ndef remove_stop_words(text):\\n    words = word_tokenize(text)\\n    words = [word for word in words if word.lower() not in stop_words]\\n    return ' '.join(words)\\ndf['text']=df['text'].apply(remove_stop_words)\\n\""
            ]
          },
          "execution_count": 28,
          "metadata": {},
          "output_type": "execute_result"
        }
      ],
      "source": [
        "\"\"\"\n",
        "import nltk\n",
        "nltk.download('stopwords')\n",
        "from nltk.corpus import stopwords\n",
        "from nltk.tokenize import word_tokenize\n",
        "stop_words = set(stopwords.words('english'))\n",
        "\n",
        "def remove_stop_words(text):\n",
        "    words = word_tokenize(text)\n",
        "    words = [word for word in words if word.lower() not in stop_words]\n",
        "    return ' '.join(words)\n",
        "df['text']=df['text'].apply(remove_stop_words)\n",
        "\"\"\""
      ]
    },
    {
      "cell_type": "code",
      "execution_count": null,
      "metadata": {
        "id": "s_Y3gPuO2Zv5"
      },
      "outputs": [],
      "source": []
    },
    {
      "cell_type": "code",
      "execution_count": null,
      "metadata": {
        "id": "eWLws67f2Zv5"
      },
      "outputs": [],
      "source": [
        "#df1[\"object_attr_ctext\"]=df1[\"object_names\"].str.cat(df1[\"att_name\"])\n",
        "#df[\"object_attr_text\"]=df[\"class_att\"].str.cat(df[\"text\"])\n",
        "#df[\"cbt\"]=df[\"text\"].str.cat(df[\"class_att1\"])\n",
        "#df[:2]"
      ]
    },
    {
      "cell_type": "code",
      "execution_count": null,
      "metadata": {
        "colab": {
          "base_uri": "https://localhost:8080/"
        },
        "id": "pQHXEnUZ2Zv5",
        "outputId": "b1aadab7-0355-4dd1-e0a5-0712abd55bd0"
      },
      "outputs": [
        {
          "name": "stdout",
          "output_type": "stream",
          "text": [
            "(900, 11) (100, 11)\n"
          ]
        }
      ],
      "source": [
        "\"\"\"\n",
        "from sklearn.model_selection import train_test_split\n",
        "#df1, test_df = train_test_split(df, test_size=0.10,random_state=42)\n",
        "train_df, test_df = train_test_split(df, test_size=0.1)\n",
        "print(train_df.shape,test_df.shape)\n",
        "\"\"\""
      ]
    },
    {
      "cell_type": "code",
      "execution_count": null,
      "metadata": {
        "id": "_tiZ-MRC2Zv6"
      },
      "outputs": [],
      "source": [
        "\"\"\"\n",
        "#Blance data for MVSA-Multiple\n",
        "# Downsample the data by randomly selecting 10% of the rows\n",
        "#downsampled_data = data.sample(frac=0.1)\n",
        "\n",
        "# Upsample the data by duplicating each row two times\n",
        "neg=df1[df1['joint_sentiment']=='negative']\n",
        "upsampled_neg = neg.reindex(neg.index.repeat(5))\n",
        "print(upsampled_neg.shape)\n",
        "nut=df1[df1['joint_sentiment']=='neutral']\n",
        "upsampled_nut = nut.reindex(nut.index.repeat(2))\n",
        "print(upsampled_nut.shape)\n",
        "#downsampled_nut = nut.sample(frac=0.2)\n",
        "#downsampled_nut=pd.concat([downsampled_nut,nut])\n",
        "#print(downsampled_nut.shape)\n",
        "pos=df1[df1['joint_sentiment']=='positive']\n",
        "#downsampled_pos = pos.sample(frac=0.5)\n",
        "print(pos.shape)\n",
        "#concat three sampling\n",
        "train_df=pd.concat([upsampled_nut.iloc[:5000,:],upsampled_neg.iloc[:4500,:],pos.iloc[:4500,:]])\n",
        "#df=pd.concat([downsampled_pos,upsampled_nut,upsampled_neg])\n",
        "#df=pd.concat([downsampled_pos,downsampled_nut,upsampled_neg])\n",
        "#print(df.shape)\n",
        "train_df.joint_sentiment.value_counts()\n",
        "\"\"\""
      ]
    },
    {
      "cell_type": "code",
      "execution_count": null,
      "metadata": {
        "id": "SYOJs4382Zv7"
      },
      "outputs": [],
      "source": [
        "\n"
      ]
    },
    {
      "cell_type": "code",
      "execution_count": null,
      "metadata": {
        "colab": {
          "base_uri": "https://localhost:8080/",
          "height": 70
        },
        "id": "GXmeLwrb2Zv7",
        "outputId": "4ff986c8-6935-43d4-d05b-4c19c7bc00ae"
      },
      "outputs": [
        {
          "data": {
            "application/vnd.google.colaboratory.intrinsic+json": {
              "type": "string"
            },
            "text/plain": [
              "\"\\ndef get_label_code(text):\\n    if text=='positive':\\n        return 2\\n    elif text=='neutral':\\n        return 1\\n    else :\\n        return 0\\n#test_df['jlabel']=test_df['joint_label'].apply(get_label_code)\\ntest_df['jlabel']=test_df['joint_sentiment'].apply(get_label_code)\\n#test_df['jlabel']=test_df['afc'].apply(get_label_code)\\n#test_df['ilabel']=test_df['image_label'].apply(get_label_code)\\n#test_df['tlabel']=test_df['tsentiment'].apply(get_label_code)\\n#test_df[:2]\\n\""
            ]
          },
          "execution_count": 12,
          "metadata": {},
          "output_type": "execute_result"
        }
      ],
      "source": [
        "\"\"\"\n",
        "#y_train=pd.get_dummies(train_df.joint_sentiment)\n",
        "#y_test=pd.get_dummies(test_df.joint_sentiment)\n",
        "#y_train=pd.get_dummies(train_df.image_label)\n",
        "#y_test=pd.get_dummies(test_df.image_label)\n",
        "#y_val=pd.get_dummies(val_df.joint_sentiment)\n",
        "def get_label_code(text):\n",
        "    if text=='positive':\n",
        "        return 2\n",
        "    elif text=='neutral':\n",
        "        return 1\n",
        "    else :\n",
        "        return 0\n",
        "#test_df['jlabel']=test_df['joint_label'].apply(get_label_code)\n",
        "test_df['jlabel']=test_df['joint_sentiment'].apply(get_label_code)\n",
        "#test_df['jlabel']=test_df['afc'].apply(get_label_code)\n",
        "#test_df['ilabel']=test_df['image_label'].apply(get_label_code)\n",
        "#test_df['tlabel']=test_df['tsentiment'].apply(get_label_code)\n",
        "#test_df[:2]\n",
        "\"\"\""
      ]
    },
    {
      "cell_type": "code",
      "execution_count": null,
      "metadata": {
        "id": "F-3VBjGy2Zv8"
      },
      "outputs": [],
      "source": []
    },
    {
      "cell_type": "code",
      "execution_count": null,
      "metadata": {
        "id": "hbYmHs4P2Zv8"
      },
      "outputs": [],
      "source": [
        "import warnings\n",
        "warnings.filterwarnings('ignore')\n",
        "%config Completer.use_jedi = False # if autocompletion doesnot work in kaggle notebook | hit tab"
      ]
    },
    {
      "cell_type": "code",
      "execution_count": null,
      "metadata": {
        "colab": {
          "base_uri": "https://localhost:8080/"
        },
        "id": "cA3_KcHQ2Zv9",
        "outputId": "4f023388-f091-4f56-9552-36d69e138ceb"
      },
      "outputs": [
        {
          "output_type": "stream",
          "name": "stdout",
          "text": [
            "Collecting keras_preprocessing\n",
            "  Downloading Keras_Preprocessing-1.1.2-py2.py3-none-any.whl (42 kB)\n",
            "\u001b[?25l     \u001b[90m━━━━━━━━━━━━━━━━━━━━━━━━━━━━━━━━━━━━━━━━\u001b[0m \u001b[32m0.0/42.6 kB\u001b[0m \u001b[31m?\u001b[0m eta \u001b[36m-:--:--\u001b[0m\r\u001b[2K     \u001b[90m━━━━━━━━━━━━━━━━━━━━━━━━━━━━━━━━━━━━━━━━\u001b[0m \u001b[32m42.6/42.6 kB\u001b[0m \u001b[31m4.8 MB/s\u001b[0m eta \u001b[36m0:00:00\u001b[0m\n",
            "\u001b[?25hRequirement already satisfied: numpy>=1.9.1 in /usr/local/lib/python3.10/dist-packages (from keras_preprocessing) (1.22.4)\n",
            "Requirement already satisfied: six>=1.9.0 in /usr/local/lib/python3.10/dist-packages (from keras_preprocessing) (1.16.0)\n",
            "Installing collected packages: keras_preprocessing\n",
            "Successfully installed keras_preprocessing-1.1.2\n"
          ]
        }
      ],
      "source": [
        "!pip install keras_preprocessing"
      ]
    },
    {
      "cell_type": "code",
      "execution_count": null,
      "metadata": {
        "id": "fG16yEf12Zv9"
      },
      "outputs": [],
      "source": [
        "#Glob tokenizer\n",
        "import tensorflow as tf\n",
        "import matplotlib.pyplot as plt\n",
        "from tensorflow.keras.optimizers import Adam\n",
        "from keras_preprocessing.text import Tokenizer\n",
        "from sklearn.metrics import accuracy_score,precision_score,recall_score,f1_score\n",
        "from keras_preprocessing.sequence import pad_sequences\n",
        "from tensorflow.keras.layers import Conv1D, Conv2D,MaxPooling2D,Bidirectional, LSTM, Dense, Input, Flatten,Dropout,GlobalMaxPool1D,MaxPooling1D,Concatenate\n",
        "from tensorflow.keras.layers import SpatialDropout1D"
      ]
    },
    {
      "cell_type": "code",
      "execution_count": null,
      "metadata": {
        "colab": {
          "base_uri": "https://localhost:8080/",
          "height": 52
        },
        "id": "_APKdiY22Zv-",
        "outputId": "326e6edd-5a22-4747-ebbd-089013ed2dfa"
      },
      "outputs": [
        {
          "data": {
            "application/vnd.google.colaboratory.intrinsic+json": {
              "type": "string"
            },
            "text/plain": [
              "'\\nprint(\"max len of tweets\",max([len(x.split()) for x in train_df.cbt]))\\nprint(\"max len of tweets\",max([len(x.split()) for x in train_df.class_att1]))\\n'"
            ]
          },
          "execution_count": 11,
          "metadata": {},
          "output_type": "execute_result"
        }
      ],
      "source": [
        "\"\"\"\n",
        "print(\"max len of tweets\",max([len(x.split()) for x in train_df.cbt]))\n",
        "print(\"max len of tweets\",max([len(x.split()) for x in train_df.class_att1]))\n",
        "\"\"\""
      ]
    },
    {
      "cell_type": "markdown",
      "metadata": {
        "id": "K5rjr3K52Zv-"
      },
      "source": []
    },
    {
      "cell_type": "code",
      "execution_count": null,
      "metadata": {
        "id": "ZGzQkUt62Zv-"
      },
      "outputs": [],
      "source": [
        "GLOVE_EMB = '/gdrive/MyDrive/sumana_nuig/glove.6B.300d.txt'\n",
        "EMBEDDING_DIM = 300"
      ]
    },
    {
      "cell_type": "markdown",
      "metadata": {
        "id": "h5l2eWiB2Zv-"
      },
      "source": [
        "**Sentiment of Combined text: which is concatenation of image description and Caption Text with that image **"
      ]
    },
    {
      "cell_type": "code",
      "execution_count": null,
      "metadata": {
        "id": "fVrvDwQK2Zv_"
      },
      "outputs": [],
      "source": [
        "#creating text vector, vocab size,and embedding layer\n",
        "def load_tarin_test_dataset(df,col,str_len):\n",
        "    column=col\n",
        "    max_len=str_len\n",
        "    tokenizer = Tokenizer()\n",
        "    tokenizer.fit_on_texts( df[column])\n",
        "    #tokenizer.fit_on_texts(train_df.object_attr1_text)\n",
        "    #tokenizer.fit_on_texts(train_df.text)\n",
        "    #tokenizer1.fit_on_texts(test_data)\n",
        "\n",
        "    word_index = tokenizer.word_index\n",
        "    vocab_size = len(tokenizer.word_index) + 1\n",
        "    #print(\"Vocabulary Size :\", vocab_size)\n",
        "\n",
        "    #jx_train = pad_sequences(tokenizer.texts_to_sequences(train_df.text), maxlen = max_len)\n",
        "    x_df = pad_sequences(tokenizer.texts_to_sequences( df[column]), maxlen = max_len)\n",
        "    #x_val = pad_sequences(tokenizer.texts_to_sequences(val_df.class_att), maxlen = 32)\n",
        "    #jx_test = pad_sequences(tokenizer.texts_to_sequences(test_df.text), maxlen =max_len )\n",
        "    #x_test = pad_sequences(tokenizer.texts_to_sequences( test[column]), maxlen =max_len )\n",
        "    #y_train, y_test = train_test_split(y, test_size=1-TRAIN_SIZE,random_state=7) # Splits Dataset into Training and Testing set\n",
        "    #y_train, y_test = train_test_split(df['POSITIVE'], test_size=1-TRAIN_SIZE,random_state=7)\n",
        "    embeddings_index = {}\n",
        "\n",
        "    f = open(GLOVE_EMB, encoding=\"utf8\")\n",
        "    for line in f :\n",
        "        values = line.split()\n",
        "        word = value = values[0]\n",
        "        coefs = np.asarray(values[1:], dtype='float32')\n",
        "        embeddings_index[word] = coefs\n",
        "    f.close()\n",
        "\n",
        "    print('Found %s word vectors.' %len(embeddings_index))\n",
        "    embedding_matrix = np.zeros((vocab_size, EMBEDDING_DIM))\n",
        "    print(embedding_matrix.shape)\n",
        "    for word, i in word_index.items():\n",
        "        embedding_vector = embeddings_index.get(word)\n",
        "        if embedding_vector is not None:\n",
        "            embedding_matrix[i] = embedding_vector\n",
        "\n",
        "    embedding_layer = tf.keras.layers.Embedding(vocab_size,\n",
        "                                          EMBEDDING_DIM,\n",
        "                                          weights=[embedding_matrix],\n",
        "                                          input_length=max_len,#MAX_SEQUENCE_LENGTH,\n",
        "                                          trainable=False)\n",
        "    return x_df,vocab_size,embedding_layer\n",
        "\n"
      ]
    },
    {
      "cell_type": "code",
      "source": [
        "def bilstm_model(tx_df,embeding_layer):\n",
        "\n",
        "    embedding_sequences = embedding_layer(tx_df)\n",
        "    #embedding_sequences = embedding_layer(sequence_input)\n",
        "    txt = SpatialDropout1D(0.1)(embedding_sequences)\n",
        "    #txt=Conv1D(100, 4,activation='relu')(txt)#(tembedding_sequences)#(x)\n",
        "    txt = Bidirectional(LSTM(512, dropout=0.2, recurrent_dropout=0.2))(txt)#(tembedding_sequences)\n",
        "    #ttxtb = Dense(256, activation='tanh')(txtb)\n",
        "    txt = Dense(512, activation='relu')(txt)\n",
        "    return txt"
      ],
      "metadata": {
        "id": "OrApjfIYDT_p"
      },
      "execution_count": null,
      "outputs": []
    },
    {
      "cell_type": "code",
      "source": [
        "def tbilstm_model(tx_df,embeding_layer):\n",
        "\n",
        "    embedding_sequences = embedding_layer(tx_df)\n",
        "    #embedding_sequences = embedding_layer(sequence_input)\n",
        "    txt = SpatialDropout1D(0.1)(embedding_sequences)\n",
        "    #txt=Conv1D(100, 4,activation='relu')(txt)#(tembedding_sequences)#(x)\n",
        "    txt = Bidirectional(LSTM(512, dropout=0.2, recurrent_dropout=0.2))(txt)#(tembedding_sequences)\n",
        "    ttxtb = Dense(256, activation='tanh')(txt)\n",
        "    #txt = Dense(512, activation='relu')(txt)\n",
        "    return ttxtb\n",
        "tclass_features=tbilstm_model(class_df,embedding_layer)\n",
        "print((np.array(tclass_features)).shape)\n"
      ],
      "metadata": {
        "id": "dEEFK8eNFXTs",
        "colab": {
          "base_uri": "https://localhost:8080/"
        },
        "outputId": "c4994b32-bf9a-403a-db42-6176db86a508"
      },
      "execution_count": null,
      "outputs": [
        {
          "output_type": "stream",
          "name": "stderr",
          "text": [
            "WARNING:tensorflow:Layer lstm_9 will not use cuDNN kernels since it doesn't meet the criteria. It will use a generic GPU kernel as fallback when running on GPU.\n",
            "WARNING:tensorflow:Layer lstm_9 will not use cuDNN kernels since it doesn't meet the criteria. It will use a generic GPU kernel as fallback when running on GPU.\n",
            "WARNING:tensorflow:Layer lstm_9 will not use cuDNN kernels since it doesn't meet the criteria. It will use a generic GPU kernel as fallback when running on GPU.\n"
          ]
        },
        {
          "output_type": "stream",
          "name": "stdout",
          "text": [
            "(17013, 256)\n"
          ]
        }
      ]
    },
    {
      "cell_type": "code",
      "execution_count": null,
      "metadata": {
        "id": "ukwdFxZR2ZwN"
      },
      "outputs": [],
      "source": [
        "\n",
        "\"\"\"\n",
        "#module for extracting text features\n",
        "def cnn_model_for_text(num_filters,kernel_size,tx_df,embeding_layer):\n",
        "\n",
        "    num_filters=num_filters\n",
        "    kernel_size=kernel_size\n",
        "\n",
        "    #jsequence_input = Input(shape=(maxlen,), dtype='int32')\n",
        "    #sequence_input = Input(shape=(max_len,), dtype='int32')\n",
        "    #embedding_sequences = embedding_layer(sequence_input)\n",
        "    embedding_sequences = embedding_layer(tx_df)\n",
        "    x = SpatialDropout1D(0.2)(embedding_sequences)\n",
        "    conv_layers = []\n",
        "    for num_filters,kernel_size in zip(num_filters,kernel_size):\n",
        "        conv_layer = Conv1D(filters=num_filters, kernel_size=kernel_size, activation='relu')(x)#(jembedding_sequences)\n",
        "        pool_layer = MaxPooling1D(pool_size=max_len - kernel_size + 1)(conv_layer)\n",
        "        #pool_layer = MaxPooling1D()(conv_layer)\n",
        "        #pool_layer = tf.keras.layers.Reshape((1, -1))(pool_layer)\n",
        "        conv_layers.append(pool_layer)\n",
        "\n",
        "    #Concatenate all convolutional layers\n",
        "    concatenate_layer = tf.keras.layers.Concatenate()(conv_layers)\n",
        "    flatten_layer = Flatten()(concatenate_layer)\n",
        "    x = Dropout(0.5)(flatten_layer)#(x)\n",
        "    #txt = Dense(256, activation='tanh')(x)\n",
        "    txt = Dense(256, activation='relu')(x)\n",
        "\n",
        "    return txt\n",
        "#modelse=cnn_model(num_filters,kernel_sizes,max_len,embedding_layer)\n",
        "\"\"\""
      ]
    },
    {
      "cell_type": "code",
      "execution_count": null,
      "metadata": {
        "colab": {
          "base_uri": "https://localhost:8080/"
        },
        "id": "0EFbvdN2dukg",
        "outputId": "2a2979c8-7465-48a1-a30a-9e05f0d210b7"
      },
      "outputs": [
        {
          "output_type": "stream",
          "name": "stdout",
          "text": [
            "Found 400000 word vectors.\n",
            "(32194, 300)\n",
            "Vocabulary Size : 32194\n",
            "Training X Shape: (17013, 19)\n"
          ]
        },
        {
          "output_type": "stream",
          "name": "stderr",
          "text": [
            "WARNING:tensorflow:Layer lstm_3 will not use cuDNN kernels since it doesn't meet the criteria. It will use a generic GPU kernel as fallback when running on GPU.\n",
            "WARNING:tensorflow:Layer lstm_3 will not use cuDNN kernels since it doesn't meet the criteria. It will use a generic GPU kernel as fallback when running on GPU.\n",
            "WARNING:tensorflow:Layer lstm_3 will not use cuDNN kernels since it doesn't meet the criteria. It will use a generic GPU kernel as fallback when running on GPU.\n"
          ]
        },
        {
          "output_type": "stream",
          "name": "stdout",
          "text": [
            "(17013, 512)\n"
          ]
        }
      ],
      "source": [
        "#caption text features collection\n",
        "max_len=max([len(x.split()) for x in df.text])\n",
        "#tx_train,tx_test,vocab_size,embedding_layer=load_tarin_test_dataset(train_df,test_df,'text',max([len(x.split()) for x in train_df.text]))\n",
        "tx_df,vocab_size,embedding_layer=load_tarin_test_dataset(df,'text',max_len)\n",
        "print(\"Vocabulary Size :\", vocab_size)\n",
        "print(\"Training X Shape:\",tx_df.shape)\n",
        "#print(\"Testing X Shape:\",tx_test.shape)\n",
        "\n",
        "#call cnn model\n",
        "kernel_sizes = [3,4,5]\n",
        "num_filters = [16,32,64]\n",
        "\n",
        "#text_features=cnn_model_for_text(num_filters,kernel_sizes,tx_df,embedding_layer)\n",
        "#text_features=np.array(text_features)\n",
        "#print(text_features.shape)\n",
        "#print((np.array(text_features)).shape)\n",
        "bilstm_text_features=bilstm_model(tx_df,embedding_layer)\n",
        "print((np.array(bilstm_text_features)).shape)"
      ]
    },
    {
      "cell_type": "code",
      "execution_count": null,
      "metadata": {
        "colab": {
          "base_uri": "https://localhost:8080/"
        },
        "id": "l017u6zRd-Ca",
        "outputId": "e7e6ccda-2d55-4923-df57-11346b4525f0"
      },
      "outputs": [
        {
          "output_type": "stream",
          "name": "stderr",
          "text": [
            "WARNING:tensorflow:Layer lstm_7 will not use cuDNN kernels since it doesn't meet the criteria. It will use a generic GPU kernel as fallback when running on GPU.\n",
            "WARNING:tensorflow:Layer lstm_7 will not use cuDNN kernels since it doesn't meet the criteria. It will use a generic GPU kernel as fallback when running on GPU.\n",
            "WARNING:tensorflow:Layer lstm_7 will not use cuDNN kernels since it doesn't meet the criteria. It will use a generic GPU kernel as fallback when running on GPU.\n"
          ]
        },
        {
          "output_type": "stream",
          "name": "stdout",
          "text": [
            "Found 400000 word vectors.\n",
            "(972, 300)\n",
            "Vocabulary Size : 972\n",
            "Training X Shape: (17013, 34)\n",
            "(17013, 512)\n"
          ]
        }
      ],
      "source": [
        "#class features collection\n",
        "max_len=max([len(x.split()) for x in df.object_names])\n",
        "#tx_train,tx_test,vocab_size,embedding_layer=load_tarin_test_dataset(train_df,test_df,'text',max([len(x.split()) for x in train_df.text]))\n",
        "class_df,vocab_size,embedding_layer=load_tarin_test_dataset(df,'object_names',max_len)\n",
        "print(\"Vocabulary Size :\", vocab_size)\n",
        "print(\"Training X Shape:\",class_df.shape)\n",
        "#print(\"Testing X Shape:\",tx_test.shape)\n",
        "\n",
        "#call cnn model\n",
        "kernel_sizes = [2,3,4]\n",
        "num_filters = [8,16,32]\n",
        "#class_features=cnn_model_for_text(num_filters,kernel_sizes,class_df,embedding_layer)\n",
        "#print((np.array(class_features)).shape)\n",
        "class_features=bilstm_model(class_df,embedding_layer)\n",
        "print((np.array(class_features)).shape)\n"
      ]
    },
    {
      "cell_type": "markdown",
      "metadata": {
        "id": "72txLePQ2ZwF"
      },
      "source": [
        "**Extract Class-attributes features **"
      ]
    },
    {
      "cell_type": "code",
      "execution_count": null,
      "metadata": {
        "colab": {
          "base_uri": "https://localhost:8080/"
        },
        "id": "S0EiHhpu2ZwF",
        "outputId": "ed4e76a7-a432-4647-fbd0-0e07e0f1912d"
      },
      "outputs": [
        {
          "output_type": "stream",
          "name": "stderr",
          "text": [
            "WARNING:tensorflow:Layer lstm_4 will not use cuDNN kernels since it doesn't meet the criteria. It will use a generic GPU kernel as fallback when running on GPU.\n",
            "WARNING:tensorflow:Layer lstm_4 will not use cuDNN kernels since it doesn't meet the criteria. It will use a generic GPU kernel as fallback when running on GPU.\n",
            "WARNING:tensorflow:Layer lstm_4 will not use cuDNN kernels since it doesn't meet the criteria. It will use a generic GPU kernel as fallback when running on GPU.\n"
          ]
        },
        {
          "output_type": "stream",
          "name": "stdout",
          "text": [
            "Found 400000 word vectors.\n",
            "(1029, 300)\n",
            "Vocabulary Size : 1029\n",
            "Training X Shape: (17013, 30)\n",
            "(17013, 512)\n"
          ]
        }
      ],
      "source": [
        "\n",
        "#class attributes features\n",
        "max_len=max([len(x.split()) for x in df.class_att1])\n",
        "#tx_train,tx_test,vocab_size,embedding_layer=load_tarin_test_dataset(train_df,test_df,'text',max([len(x.split()) for x in train_df.text]))\n",
        "classatt_df,vocab_size,embedding_layer=load_tarin_test_dataset(df,'class_att1',max_len)\n",
        "print(\"Vocabulary Size :\", vocab_size)\n",
        "print(\"Training X Shape:\",classatt_df.shape)\n",
        "#print(\"Testing X Shape:\",jx_test.shape)\n",
        "#call cnn\n",
        "kernel_sizes = [2,3,4]\n",
        "num_filters = [8,16,32]\n",
        "#class_attributes_features=cnn_model_for_text(num_filters,kernel_sizes,classatt_df,embedding_layer)\n",
        "#print((np.array(class_attributes_features)).shape)\n",
        "class_attributes_features=bilstm_model(classatt_df,embedding_layer)\n",
        "print((np.array(class_attributes_features)).shape)\n"
      ]
    },
    {
      "cell_type": "code",
      "execution_count": null,
      "metadata": {
        "colab": {
          "base_uri": "https://localhost:8080/"
        },
        "id": "kejBPLvfrvZ4",
        "outputId": "5c3ce7cf-d166-42b0-8d9d-5afa5d981474"
      },
      "outputs": [
        {
          "output_type": "stream",
          "name": "stdout",
          "text": [
            "Found 400000 word vectors.\n",
            "(39416, 300)\n",
            "Vocabulary Size : 39416\n",
            "Training X Shape: (17013, 45)\n"
          ]
        },
        {
          "output_type": "stream",
          "name": "stderr",
          "text": [
            "WARNING:tensorflow:Layer lstm_5 will not use cuDNN kernels since it doesn't meet the criteria. It will use a generic GPU kernel as fallback when running on GPU.\n",
            "WARNING:tensorflow:Layer lstm_5 will not use cuDNN kernels since it doesn't meet the criteria. It will use a generic GPU kernel as fallback when running on GPU.\n",
            "WARNING:tensorflow:Layer lstm_5 will not use cuDNN kernels since it doesn't meet the criteria. It will use a generic GPU kernel as fallback when running on GPU.\n"
          ]
        },
        {
          "output_type": "stream",
          "name": "stdout",
          "text": [
            "(17013, 512)\n"
          ]
        }
      ],
      "source": [
        "#combined-text-features with class collection\n",
        "max_len=max([len(x.split()) for x in df.cbt_class])\n",
        "#tx_train,tx_test,vocab_size,embedding_layer=load_tarin_test_dataset(train_df,test_df,'text',max([len(x.split()) for x in train_df.text]))\n",
        "combined_text_class,vocab_size,embedding_layer=load_tarin_test_dataset(df,'cbt_class',max_len)\n",
        "print(\"Vocabulary Size :\", vocab_size)\n",
        "print(\"Training X Shape:\",combined_text_class.shape)\n",
        "#print(\"Testing X Shape:\",jx_test.shape)\n",
        "#call cnn\n",
        "#kernel_sizes = [3,4,5]\n",
        "#num_filters = [16,32,64]\n",
        "#cbt_class_features=cnn_model_for_text(num_filters,kernel_sizes,combined_text_class,embedding_layer)\n",
        "#print((np.array(cbt_class_features)).shape)\n",
        "cbt_class_features=bilstm_model(combined_text_class,embedding_layer)\n",
        "print((np.array(cbt_class_features)).shape)\n"
      ]
    },
    {
      "cell_type": "code",
      "execution_count": null,
      "metadata": {
        "colab": {
          "base_uri": "https://localhost:8080/"
        },
        "id": "iLaRoQMMYYjr",
        "outputId": "5df34d13-a6be-4302-f13f-6074043daeea"
      },
      "outputs": [
        {
          "output_type": "stream",
          "name": "stdout",
          "text": [
            "Found 400000 word vectors.\n",
            "(39470, 300)\n",
            "Vocabulary Size : 39470\n",
            "Training X Shape: (17013, 43)\n"
          ]
        },
        {
          "output_type": "stream",
          "name": "stderr",
          "text": [
            "WARNING:tensorflow:Layer lstm_6 will not use cuDNN kernels since it doesn't meet the criteria. It will use a generic GPU kernel as fallback when running on GPU.\n",
            "WARNING:tensorflow:Layer lstm_6 will not use cuDNN kernels since it doesn't meet the criteria. It will use a generic GPU kernel as fallback when running on GPU.\n",
            "WARNING:tensorflow:Layer lstm_6 will not use cuDNN kernels since it doesn't meet the criteria. It will use a generic GPU kernel as fallback when running on GPU.\n"
          ]
        },
        {
          "output_type": "stream",
          "name": "stdout",
          "text": [
            "(17013, 512)\n"
          ]
        }
      ],
      "source": [
        "#combined-text-features with class-attributes collection\n",
        "max_len=max([len(x.split()) for x in df.cbt_class_attribute])\n",
        "#tx_train,tx_test,vocab_size,embedding_layer=load_tarin_test_dataset(train_df,test_df,'text',max([len(x.split()) for x in train_df.text]))\n",
        "combined_text_att,vocab_size,embedding_layer=load_tarin_test_dataset(df,'cbt_class_attribute',max_len)\n",
        "print(\"Vocabulary Size :\", vocab_size)\n",
        "print(\"Training X Shape:\",combined_text_att.shape)\n",
        "#print(\"Testing X Shape:\",jx_test.shape)\n",
        "#call cnn\n",
        "kernel_sizes = [3,4,5]\n",
        "num_filters = [16,32,64]\n",
        "#cbt_class_attributes_features=cnn_model_for_text(num_filters,kernel_sizes,combined_text_att,embedding_layer)\n",
        "#print((np.array(cbt_class_attributes_features)).shape)\n",
        "bilstm_cbt_class_attributes_features=bilstm_model(combined_text_att,embedding_layer)\n",
        "print((np.array(bilstm_cbt_class_attributes_features)).shape)"
      ]
    },
    {
      "cell_type": "markdown",
      "metadata": {
        "id": "6o1AowbK2ZwG"
      },
      "source": []
    },
    {
      "cell_type": "markdown",
      "metadata": {
        "id": "YJIHjhIc2ZwI"
      },
      "source": [
        "**Visual Features Extraction**"
      ]
    },
    {
      "cell_type": "code",
      "execution_count": null,
      "metadata": {
        "id": "RNsNE7Y_2ZwJ"
      },
      "outputs": [],
      "source": [
        "from tensorflow.keras.applications import VGG16,VGG19,ResNet50\n",
        "from tensorflow.keras.preprocessing.image import ImageDataGenerator\n",
        "from tensorflow.keras.applications.vgg16 import preprocess_input\n",
        "from tensorflow.keras.preprocessing.image import img_to_array\n",
        "from keras.layers import Input,Dense, Dropout, Flatten,BatchNormalization,concatenate,Bidirectional,LSTM\n",
        "from keras.layers import BatchNormalization\n",
        "import matplotlib.pyplot as plt"
      ]
    },
    {
      "cell_type": "code",
      "source": [
        "# Instantiate convolutional base mode for whole image\n",
        "image_input = Input(shape=(224, 224, 3), name='image')\n",
        "resnet = ResNet50(weights='imagenet',\n",
        "                  include_top=False,\n",
        "                  input_shape=(224, 224, 3))#(image_input)\n",
        "for layer in resnet.layers:\n",
        "    layer.trainable=False\n",
        "#res_layer = Dense(256, activation='tanh')(resnet)\n",
        "res_layer=Flatten()(resnet.output)\n",
        "global_features = Dense(512, activation='relu')(res_layer)\n",
        "#res_layer1 = Dense(256, activation='relu')(res_layer)\n",
        "#res_layer = Dense(256, activation='relu')(resnet.output)\n",
        "#res_layer = Flatten()(resnet.output) #(vgg16)#\n",
        "#res_layer_32=Dense(32, activation='relu')(res_layer)\n",
        "###rmodel = tf.keras.Model(inputs=resnet.input, outputs=vprediction)"
      ],
      "metadata": {
        "id": "8XorNGjvan_6"
      },
      "execution_count": null,
      "outputs": []
    },
    {
      "cell_type": "markdown",
      "metadata": {
        "id": "fn6Jl5h02ZwK"
      },
      "source": [
        "**Object visual featutes**"
      ]
    },
    {
      "cell_type": "code",
      "execution_count": null,
      "metadata": {
        "id": "dIY4wbnrfNYG"
      },
      "outputs": [],
      "source": [
        "#print((np.array(img_file)).shape) #a\n",
        "#print((np.array(global_features)).shape)#b\n",
        "#print((np.array(local_object_features)).shape)#c\n",
        "#np.savez('my_arrays.npz', a=arr1, b=arr2)\n",
        "np.savez('/gdrive/MyDrive/sumana_nuig/mvsa/mvsa_single_300_sample.npz',a=np.array(img_file) ,b=np.array(global_features),c=np.array(local_object_features))"
      ]
    },
    {
      "cell_type": "code",
      "execution_count": null,
      "metadata": {
        "colab": {
          "base_uri": "https://localhost:8080/"
        },
        "id": "Gs44KawP3Yyy",
        "outputId": "0321fff1-5b02-479e-e661-3239c446a88f"
      },
      "outputs": [
        {
          "name": "stdout",
          "output_type": "stream",
          "text": [
            "(17013, 256) (17013, 256)\n"
          ]
        }
      ],
      "source": [
        "data = np.load('/gdrive/MyDrive/sumana_nuig/mvsa/mvsa_multiple.npz')\n",
        "\n",
        "# Access the variables inside the npz file\n",
        "img_file = data['a']\n",
        "global_features = data['b']\n",
        "local_object_features = data['c']\n",
        "print(global_features.shape,local_object_features.shape)"
      ]
    },
    {
      "cell_type": "code",
      "execution_count": null,
      "metadata": {
        "colab": {
          "base_uri": "https://localhost:8080/"
        },
        "id": "b8gnrTt88xcH",
        "outputId": "3b4957d2-9577-40a2-9779-1fb258669c2d"
      },
      "outputs": [
        {
          "name": "stdout",
          "output_type": "stream",
          "text": [
            "(17013,)\n",
            "(17013, 256)\n",
            "(17013, 256)\n",
            "(17013, 256)\n",
            "(17013, 256)\n",
            "(17013, 256)\n",
            "(17013, 256)\n",
            "(17013, 256)\n",
            "(17013,)\n"
          ]
        }
      ],
      "source": [
        "img_file=df['img_path'].tolist()\n",
        "target_labels=df['joint_sentiment'].tolist()\n",
        "#image features\n",
        "print((np.array(img_file)).shape)#a\n",
        "print((np.array(global_features)).shape)#b\n",
        "print((np.array(local_object_features)).shape)#c\n",
        "#text features\n",
        "print((np.array(text_features)).shape)#d\n",
        "print((np.array(class_features)).shape)#e\n",
        "print((np.array(class_attributes_features)).shape)#f\n",
        "print((np.array(cbt_class_features)).shape)#g\n",
        "print((np.array(cbt_class_attributes_features)).shape)#h\n",
        "print((np.array(target_labels)).shape)"
      ]
    },
    {
      "cell_type": "code",
      "execution_count": null,
      "metadata": {
        "id": "WJSsCMH-99Tg"
      },
      "outputs": [],
      "source": [
        "np.savez('/gdrive/MyDrive/sumana_nuig/mvsa/mvsa_multiple_allfeatures.npz',\n",
        "            img_file=np.array(img_file),\n",
        "            global_features=np.array(global_features),\n",
        "            local_object_features=np.array(local_object_features),\n",
        "            text_features=np.array(text_features),\n",
        "            class_features=np.array(class_features),\n",
        "            class_attributes_features=np.array(class_attributes_features),\n",
        "            cbt_class_features=np.array(cbt_class_features),\n",
        "            cbt_class_attributes_features=np.array(cbt_class_attributes_features),\n",
        "            target_labels=np.array(target_labels))"
      ]
    },
    {
      "cell_type": "code",
      "execution_count": null,
      "metadata": {
        "colab": {
          "base_uri": "https://localhost:8080/"
        },
        "id": "6O7xxp3ddHxu",
        "outputId": "de106ab8-7abd-4eeb-dff8-89282c96bcef"
      },
      "outputs": [
        {
          "output_type": "stream",
          "name": "stdout",
          "text": [
            "(17013, 256) (17013, 256) (17013,)\n"
          ]
        }
      ],
      "source": [
        "#data = np.load('/gdrive/MyDrive/sumana_nuig/mvsa/mvsa_single_allfeatures.npz')\n",
        "data = np.load('/gdrive/MyDrive/sumana_nuig/mvsa/mvsa_multiple_allfeatures.npz')\n",
        "\n",
        "\n",
        "# Access the variables inside the npz file\n",
        "img_file = data['img_file']\n",
        "global_features = data['global_features']\n",
        "local_object_features = data['local_object_features']\n",
        "#text_features=data['text_features']\n",
        "#class_features=data['class_features']\n",
        "#class_attributes_features=data['class_attributes_features']\n",
        "#cbt_class_features=data['cbt_class_features']\n",
        "#cbt_class_attributes_features=data['cbt_class_attributes_features']\n",
        "target_labels=data['target_labels']\n",
        "print(global_features.shape,local_object_features.shape,target_labels.shape)"
      ]
    },
    {
      "cell_type": "code",
      "execution_count": null,
      "metadata": {
        "id": "93fTKi4A5WT3"
      },
      "outputs": [],
      "source": [
        "\"\"\"\n",
        "data = np.load('/gdrive/MyDrive/sumana_nuig/mvsa/mvsa_single_allfeatures.npz')\n",
        "#data = np.load('/gdrive/MyDrive/sumana_nuig/mvsa/mvsa_multiple_allfeatures.npz')\n",
        "\n",
        "\n",
        "# Access the variables inside the npz file\n",
        "img_file = data['img_file']\n",
        "global_features = data['global_features']\n",
        "local_object_features = data['local_object_features']\n",
        "target_labels=data['target_labels']\n",
        "\"\"\""
      ]
    },
    {
      "cell_type": "code",
      "execution_count": null,
      "metadata": {
        "id": "gSc0vsgfoVPO"
      },
      "outputs": [],
      "source": [
        "\"\"\"\n",
        "img_file=df['img_path'].tolist()\n",
        "#image features\n",
        "print((np.array(img_file)).shape)#a\n",
        "print((np.array(global_features)).shape)#b\n",
        "print((np.array(local_object_features)).shape)#c\n",
        "#text features\n",
        "print((np.array(text_features)).shape)#d\n",
        "print((np.array(class_features)).shape)#e\n",
        "print((np.array(class_attributes_features)).shape)#f\n",
        "print((np.array(combined_text_class_features)).shape)#g\n",
        "print((np.array(combined_text_att_features)).shape)#h\n",
        "#np.savez('my_arrays.npz', a=arr1, b=arr2)\n",
        "np.savez('/kaggle/working/mvsa_single_df1.npz',\n",
        "            a=np.array(img_file),\n",
        "            b=np.array(global_features),\n",
        "            c=np.array(local_object_features),\n",
        "            d=np.array(text_features),\n",
        "            e=np.array(class_features),\n",
        "            f=np.array(class_attributes_features),\n",
        "            g=np.array(combined_text_class_features),\n",
        "            h=np.array(combined_text_att_features))#h\n",
        "\"\"\""
      ]
    },
    {
      "cell_type": "markdown",
      "metadata": {
        "id": "VcVUn5TTzyYh"
      },
      "source": []
    },
    {
      "cell_type": "code",
      "execution_count": null,
      "metadata": {
        "colab": {
          "base_uri": "https://localhost:8080/"
        },
        "id": "7fUuns17fSOl",
        "outputId": "b1c4994a-3949-45a0-cc0b-2499918a75f3"
      },
      "outputs": [
        {
          "output_type": "stream",
          "name": "stdout",
          "text": [
            "(17013, 256)\n",
            "(17013, 256)\n",
            "torch.Size([17013, 256, 1])\n",
            "torch.Size([17013, 256, 1])\n",
            "torch.Size([17013, 512])\n",
            "(17013, 512)\n"
          ]
        }
      ],
      "source": [
        "#Cross attention of object_features and class_features with batch size\n",
        "import torch\n",
        "import torch.nn as nn\n",
        "import numpy as np\n",
        "#train_classat_features, rtrain_object_features, rtrain_object_features)\n",
        "text=np.array(tclass_features)#class features\n",
        "#text=np.array(class_attributes_features)\n",
        "#text=np.array(text_features) #class-attributes pair features\n",
        "print(text.shape)\n",
        "image=np.array(local_object_features)\n",
        "#image=image_features_arr\n",
        "#image=np.array(global_features)\n",
        "print(image.shape)\n",
        "# Convert numpy arrays to torch tensors\n",
        "text_tensor = torch.from_numpy(text)\n",
        "text_tensor=text_tensor.unsqueeze(2)\n",
        "#text_tensor=text_tensor.permute(0, 1)\n",
        "image_tensor = torch.from_numpy(image)\n",
        "image_tensor=image_tensor.unsqueeze(2)\n",
        "#image_tensor=image_tensor.permute(0, 1)\n",
        "\n",
        "# Define a cross-attention model\n",
        "class CrossAttention(nn.Module):\n",
        "    def __init__(self, text_dim, image_dim):\n",
        "        super(CrossAttention, self).__init__()\n",
        "        self.text_dim = text_dim\n",
        "        self.image_dim = image_dim\n",
        "        #self.linear_text = nn.Linear(text_dim, image_dim)\n",
        "        #self.linear_image = nn.Linear(image_dim, text_dim)\n",
        "\n",
        "    def forward(self, text_tensor, image_tensor):\n",
        "        # Compute attention weights\n",
        "\n",
        "        self.text_tensor = text_tensor\n",
        "        self.image_tensor = image_tensor\n",
        "\n",
        "        # Compute attended features\n",
        "\n",
        "        attention_score = torch.bmm(image_tensor.transpose(1, 2), text_tensor)\n",
        "\n",
        "        attention_score = torch.softmax(attention_score, dim=1)\n",
        "        #attention_score = attention_score.unsqueeze(2) # transpose back to [batch_size, sequence_length, feature_dim]\n",
        "        context = (torch.bmm(image_tensor,attention_score.transpose(1,2)))\n",
        "        #image_attended = torch.matmul(text_att.transpose(0, 1), image)\n",
        "        #image_attended = image_attended.transpose(0, 1)\n",
        "        print(context.shape)\n",
        "        print(image_tensor.shape)\n",
        "        # Concatenate attended features\n",
        "        attended_features = torch.cat([context, image_tensor], dim=1)\n",
        "\n",
        "        return attended_features\n",
        "\n",
        "# Instantiate the cross-attention model\n",
        "cross_att = CrossAttention(text_dim=text.shape[1], image_dim=image.shape[1])\n",
        "#cross_att = CrossAttention(text_dim=(text.shape), image_dim=(image.shape))\n",
        "\n",
        "# Perform cross-attention\n",
        "attended_features1 = cross_att(text_tensor.float(), image_tensor.float())\n",
        "attended_features = attended_features1.squeeze(2)\n",
        "print(attended_features.shape)\n",
        "# Convert the attended features back to numpy array\n",
        "object_class_features = attended_features.detach().numpy()\n",
        "print(object_class_features.shape)\n",
        "\n"
      ]
    },
    {
      "cell_type": "code",
      "source": [
        "#Cross attention of object_features and class_features with batch size\n",
        "import torch\n",
        "import torch.nn as nn\n",
        "import numpy as np\n",
        "#train_classat_features, rtrain_object_features, rtrain_object_features)\n",
        "text=np.array(tclass_features)#class features\n",
        "#text=np.array(class_attributes_features)\n",
        "#text=np.array(bilstm_text_features) #class-attributes pair features\n",
        "#text=np.array(text_features)\n",
        "print(text.shape)\n",
        "#image=np.array(local_object_features)\n",
        "#image=image_features_arr\n",
        "image=np.array(global_features)\n",
        "print(image.shape)\n",
        "# Convert numpy arrays to torch tensors\n",
        "text_tensor = torch.from_numpy(text)\n",
        "text_tensor=text_tensor.unsqueeze(2)\n",
        "#text_tensor=text_tensor.permute(0, 1)\n",
        "image_tensor = torch.from_numpy(image)\n",
        "image_tensor=image_tensor.unsqueeze(2)\n",
        "#image_tensor=image_tensor.permute(0, 1)\n",
        "\n",
        "# Define a cross-attention model\n",
        "class CrossAttention(nn.Module):\n",
        "    def __init__(self, text_dim, image_dim):\n",
        "        super(CrossAttention, self).__init__()\n",
        "        self.text_dim = text_dim\n",
        "        self.image_dim = image_dim\n",
        "        #self.linear_text = nn.Linear(text_dim, image_dim)\n",
        "        #self.linear_image = nn.Linear(image_dim, text_dim)\n",
        "\n",
        "    def forward(self, text_tensor, image_tensor):\n",
        "        # Compute attention weights\n",
        "\n",
        "        self.text_tensor = text_tensor\n",
        "        self.image_tensor = image_tensor\n",
        "\n",
        "        # Compute attended features\n",
        "\n",
        "        attention_score = torch.bmm(image_tensor.transpose(1, 2), text_tensor)\n",
        "\n",
        "        attention_score = torch.softmax(attention_score, dim=1)\n",
        "        #attention_score = attention_score.unsqueeze(2) # transpose back to [batch_size, sequence_length, feature_dim]\n",
        "        context = (torch.bmm(image_tensor,attention_score.transpose(1,2)))\n",
        "        #image_attended = torch.matmul(text_att.transpose(0, 1), image)\n",
        "        #image_attended = image_attended.transpose(0, 1)\n",
        "        print(context.shape)\n",
        "        print(image_tensor.shape)\n",
        "        # Concatenate attended features\n",
        "        attended_features = torch.cat([context, image_tensor], dim=1)\n",
        "\n",
        "        return attended_features\n",
        "\n",
        "# Instantiate the cross-attention model\n",
        "cross_att = CrossAttention(text_dim=text.shape[1], image_dim=image.shape[1])\n",
        "#cross_att = CrossAttention(text_dim=(text.shape), image_dim=(image.shape))\n",
        "\n",
        "# Perform cross-attention\n",
        "attended_features2 = cross_att(text_tensor.float(), image_tensor.float())\n",
        "attended_features2 = attended_features2.squeeze(2)\n",
        "print(attended_features2.shape)\n",
        "# Convert the attended features back to numpy array\n",
        "object_class_features2 = attended_features2.detach().numpy()\n",
        "print(object_class_features2.shape)\n",
        "\n"
      ],
      "metadata": {
        "colab": {
          "base_uri": "https://localhost:8080/"
        },
        "id": "N8WfiEpUGveX",
        "outputId": "e72986cc-bac7-4e78-e423-e4960fc80126"
      },
      "execution_count": null,
      "outputs": [
        {
          "output_type": "stream",
          "name": "stdout",
          "text": [
            "(17013, 256)\n",
            "(17013, 256)\n",
            "torch.Size([17013, 256, 1])\n",
            "torch.Size([17013, 256, 1])\n",
            "torch.Size([17013, 512])\n",
            "(17013, 512)\n"
          ]
        }
      ]
    },
    {
      "cell_type": "code",
      "source": [
        "#Cross attention of object_features and class_features with batch size\n",
        "import torch\n",
        "import torch.nn as nn\n",
        "import numpy as np\n",
        "#train_classat_features, rtrain_object_features, rtrain_object_features)\n",
        "#text=np.array(class_features)#class features\n",
        "#text=np.array(class_attributes_features)\n",
        "text=np.array(combined_features2) #class-attributes pair features\n",
        "#text=np.array(text_features)\n",
        "print(text.shape)\n",
        "#image=np.array(local_object_features)\n",
        "image=np.array(combined_features1)\n",
        "#image=np.array(global_features)\n",
        "print(image.shape)\n",
        "# Convert numpy arrays to torch tensors\n",
        "text_tensor = torch.from_numpy(text)\n",
        "text_tensor=text_tensor.unsqueeze(2)\n",
        "#text_tensor=text_tensor.permute(0, 1)\n",
        "image_tensor = torch.from_numpy(image)\n",
        "image_tensor=image_tensor.unsqueeze(2)\n",
        "#image_tensor=image_tensor.permute(0, 1)\n",
        "\n",
        "# Define a cross-attention model\n",
        "class CrossAttention(nn.Module):\n",
        "    def __init__(self, text_dim, image_dim):\n",
        "        super(CrossAttention, self).__init__()\n",
        "        self.text_dim = text_dim\n",
        "        self.image_dim = image_dim\n",
        "        #self.linear_text = nn.Linear(text_dim, image_dim)\n",
        "        #self.linear_image = nn.Linear(image_dim, text_dim)\n",
        "\n",
        "    def forward(self, text_tensor, image_tensor):\n",
        "        # Compute attention weights\n",
        "\n",
        "        self.text_tensor = text_tensor\n",
        "        self.image_tensor = image_tensor\n",
        "\n",
        "        # Compute attended features\n",
        "\n",
        "        attention_score = torch.bmm(image_tensor.transpose(1, 2), text_tensor)\n",
        "\n",
        "        attention_score = torch.softmax(attention_score, dim=1)\n",
        "        #attention_score = attention_score.unsqueeze(2) # transpose back to [batch_size, sequence_length, feature_dim]\n",
        "        context = (torch.bmm(image_tensor,attention_score.transpose(1,2)))\n",
        "        #image_attended = torch.matmul(text_att.transpose(0, 1), image)\n",
        "        #image_attended = image_attended.transpose(0, 1)\n",
        "        print(context.shape)\n",
        "        print(image_tensor.shape)\n",
        "        # Concatenate attended features\n",
        "        attended_features = torch.cat([context, image_tensor], dim=1)\n",
        "\n",
        "        return attended_features\n",
        "\n",
        "# Instantiate the cross-attention model\n",
        "cross_att = CrossAttention(text_dim=text.shape[1], image_dim=image.shape[1])\n",
        "#cross_att = CrossAttention(text_dim=(text.shape), image_dim=(image.shape))\n",
        "\n",
        "# Perform cross-attention\n",
        "attended_features3 = cross_att(text_tensor.float(), image_tensor.float())\n",
        "attended_features3 = attended_features3.squeeze(2)\n",
        "print(attended_features3.shape)\n",
        "# Convert the attended features back to numpy array\n",
        "object_class_features3 = attended_features3.detach().numpy()\n",
        "print(object_class_features3.shape)\n",
        "\n"
      ],
      "metadata": {
        "colab": {
          "base_uri": "https://localhost:8080/"
        },
        "id": "M57KRXX_CDJl",
        "outputId": "b541b849-2145-4a29-e608-231fcce495d5"
      },
      "execution_count": null,
      "outputs": [
        {
          "output_type": "stream",
          "name": "stdout",
          "text": [
            "(17013, 1024)\n",
            "(17013, 1024)\n",
            "torch.Size([17013, 1024, 1])\n",
            "torch.Size([17013, 1024, 1])\n",
            "torch.Size([17013, 2048])\n",
            "(17013, 2048)\n"
          ]
        }
      ]
    },
    {
      "cell_type": "code",
      "source": [
        "combined_features1 = np.concatenate([object_class_features,object_class_features2], axis=1)\n"
      ],
      "metadata": {
        "id": "4rbfLaVdGfXP"
      },
      "execution_count": null,
      "outputs": []
    },
    {
      "cell_type": "code",
      "source": [
        "print(combined_features1.shape,combined_features2.shape)"
      ],
      "metadata": {
        "colab": {
          "base_uri": "https://localhost:8080/"
        },
        "id": "mvrxbxXk_b_P",
        "outputId": "f7a028c7-34d6-4bc2-c3f5-cd6ab7689231"
      },
      "execution_count": null,
      "outputs": [
        {
          "output_type": "stream",
          "name": "stdout",
          "text": [
            "(17013, 1024) (17013, 1024)\n"
          ]
        }
      ]
    },
    {
      "cell_type": "code",
      "source": [
        "#combined_features2 = np.concatenate([text_features,class_attributes_features], axis=1)\n",
        "combined_features2 = np.concatenate([bilstm_text_features,class_attributes_features], axis=1)\n",
        "print(combined_features2.shape)\n"
      ],
      "metadata": {
        "colab": {
          "base_uri": "https://localhost:8080/"
        },
        "id": "nZVgwq_jAGU_",
        "outputId": "13aef6fc-6729-4eff-85d0-77c31cabc8f4"
      },
      "execution_count": null,
      "outputs": [
        {
          "output_type": "stream",
          "name": "stdout",
          "text": [
            "(17013, 1024)\n"
          ]
        }
      ]
    },
    {
      "cell_type": "code",
      "source": [
        "def bilstm_features(input):\n",
        "    bilstm = Bidirectional(LSTM(512, dropout=0.1, recurrent_dropout=0.1))(input)\n",
        "    #bilstm = LSTM(512,dropout=0.1, recurrent_dropout=0.1)(input)\n",
        "    bilstm = Dense(512, activation='relu')(bilstm)\n",
        "    return bilstm\n",
        "\n",
        "input_shape = (combined_features2.shape[1], 1)  # Assuming combined_features1 is a 2D array\n",
        "#combined_features1 = combined_features1.reshape((combined_features1.shape[0], combined_features1.shape[1], 1))\n",
        "combined_features2 = combined_features2.reshape((combined_features2.shape[0], combined_features2.shape[1], 1))\n",
        "bilstm = bilstm_features(combined_features2)"
      ],
      "metadata": {
        "colab": {
          "base_uri": "https://localhost:8080/"
        },
        "id": "mWvDmm5FMJuI",
        "outputId": "fa0821c3-8c31-4d12-a63f-003d76046eea"
      },
      "execution_count": null,
      "outputs": [
        {
          "output_type": "stream",
          "name": "stderr",
          "text": [
            "WARNING:tensorflow:Layer lstm_10 will not use cuDNN kernels since it doesn't meet the criteria. It will use a generic GPU kernel as fallback when running on GPU.\n",
            "WARNING:tensorflow:Layer lstm_10 will not use cuDNN kernels since it doesn't meet the criteria. It will use a generic GPU kernel as fallback when running on GPU.\n",
            "WARNING:tensorflow:Layer lstm_10 will not use cuDNN kernels since it doesn't meet the criteria. It will use a generic GPU kernel as fallback when running on GPU.\n"
          ]
        }
      ]
    },
    {
      "cell_type": "code",
      "source": [
        "bilstmar=np.array(bilstm)\n",
        "print(bilstmar.shape)"
      ],
      "metadata": {
        "id": "fDgMimjEMsUl",
        "colab": {
          "base_uri": "https://localhost:8080/"
        },
        "outputId": "78e904fb-d44f-4b22-8321-e2d7db3ed53a"
      },
      "execution_count": null,
      "outputs": [
        {
          "output_type": "stream",
          "name": "stdout",
          "text": [
            "(17013, 512)\n"
          ]
        }
      ]
    },
    {
      "cell_type": "markdown",
      "metadata": {
        "id": "H5cruHw6P2A8"
      },
      "source": [
        "**End**"
      ]
    },
    {
      "cell_type": "code",
      "execution_count": null,
      "metadata": {
        "colab": {
          "base_uri": "https://localhost:8080/"
        },
        "id": "IsWanxyShraU",
        "outputId": "7d740ea2-524c-4cb7-ba61-d1e847fb8b40"
      },
      "outputs": [
        {
          "output_type": "stream",
          "name": "stdout",
          "text": [
            "(15311, 2048) (1702, 2048) (15311,) (1702,)\n"
          ]
        }
      ],
      "source": [
        "from sklearn.model_selection import train_test_split\n",
        "#combined_features = np.concatenate([global_features,text_features,object_class_features3], axis=1)\n",
        "#combined_features = np.concatenate([bilstmar,cbt_class_attributes_features], axis=1)\n",
        "#combined_features = np.concatenate([class_features,global_features,text_features], axis=1)\n",
        "#combined_features = np.concatenate([text_features,global_features,object_class_features], axis=1)\n",
        "#combined_features = np.concatenate([object_class_features,object_class_features2,bilstm_text_features], axis=1)\n",
        "#combined_features = np.concatenate([combined_features1,combined_features2,global_features], axis=1)\n",
        "#combined_features = np.concatenate([global_features,text_features,object_class_features], axis=1)\n",
        "#combined_features = np.concatenate([global_features,object_class_features,cbt_class_attributes_features], axis=1)\n",
        "#combined_features = np.concatenate([text_features,global_features,local_object_features,class_features], axis=1)\n",
        "#combined_features = np.concatenate([global_features,text_features,local_object_features,object_class_features,object_class_features2,object_class_features2], axis=1)\n",
        "#combined_features = np.concatenate([object_class_features,class_attributes_features], axis=1)\n",
        "# assuming X is the concatenated feature vector and y is the label for each data point\n",
        "X_train, X_test, y_train, y_test = train_test_split(object_class_features3, df.joint_label, test_size=0.1)\n",
        "#X_train, X_test, y_train, y_test = train_test_split(combined_global_local_text_features, df.joint_sentiment, test_size=0.1, random_state=42)\n",
        "#X_train, X_test, y_train, y_test = train_test_split(combined_features, target_labels, test_size=0.1)\n",
        "print(X_train.shape,X_test.shape,y_train.shape,y_test.shape)\n"
      ]
    },
    {
      "cell_type": "code",
      "source": [
        "print(combined_features.shape)"
      ],
      "metadata": {
        "id": "r9V1fRLrxEvZ",
        "colab": {
          "base_uri": "https://localhost:8080/"
        },
        "outputId": "fea9ccf9-69d4-4a4d-b23c-1a33ccfde045"
      },
      "execution_count": null,
      "outputs": [
        {
          "output_type": "stream",
          "name": "stdout",
          "text": [
            "(17013, 768)\n"
          ]
        }
      ]
    },
    {
      "cell_type": "code",
      "execution_count": null,
      "metadata": {
        "id": "2Ki3DH2qiqIi"
      },
      "outputs": [],
      "source": [
        "y_train = pd.get_dummies(y_train)\n",
        "def get_label_code(text):\n",
        "    if text=='positive':\n",
        "        return 2\n",
        "    elif text=='neutral':\n",
        "        return 1\n",
        "    else :\n",
        "        return 0\n",
        "#vectorize function\n",
        "my_vectorized_function = np.vectorize(get_label_code)\n",
        "y_test = my_vectorized_function(y_test)\n",
        "#y_test=y_test.apply(get_label_code)"
      ]
    },
    {
      "cell_type": "code",
      "execution_count": null,
      "metadata": {
        "colab": {
          "base_uri": "https://localhost:8080/",
          "height": 1000
        },
        "id": "QFSInZRH_K0M",
        "outputId": "d4aa464a-0cbd-489b-f4a4-5a3c7a291ce4"
      },
      "outputs": [
        {
          "output_type": "stream",
          "name": "stdout",
          "text": [
            "Epoch 1/50\n",
            "108/108 [==============================] - 1s 4ms/step - loss: 0.9827 - accuracy: 0.6201 - val_loss: 0.8185 - val_accuracy: 0.6351\n",
            "Epoch 2/50\n",
            "108/108 [==============================] - 0s 3ms/step - loss: 0.7964 - accuracy: 0.6667 - val_loss: 0.7837 - val_accuracy: 0.6449\n",
            "Epoch 3/50\n",
            "108/108 [==============================] - 0s 3ms/step - loss: 0.7721 - accuracy: 0.6693 - val_loss: 0.8330 - val_accuracy: 0.6547\n",
            "Epoch 4/50\n",
            "108/108 [==============================] - 0s 3ms/step - loss: 0.7614 - accuracy: 0.6701 - val_loss: 0.7994 - val_accuracy: 0.6260\n",
            "Epoch 5/50\n",
            "108/108 [==============================] - 0s 3ms/step - loss: 0.7453 - accuracy: 0.6786 - val_loss: 0.7960 - val_accuracy: 0.6625\n",
            "Epoch 6/50\n",
            "108/108 [==============================] - 0s 3ms/step - loss: 0.7393 - accuracy: 0.6775 - val_loss: 0.8040 - val_accuracy: 0.6567\n",
            "Epoch 7/50\n",
            "108/108 [==============================] - 0s 3ms/step - loss: 0.7437 - accuracy: 0.6778 - val_loss: 0.7793 - val_accuracy: 0.6514\n",
            "Epoch 8/50\n",
            "108/108 [==============================] - 0s 3ms/step - loss: 0.7613 - accuracy: 0.6667 - val_loss: 0.7830 - val_accuracy: 0.6567\n",
            "Epoch 9/50\n",
            "108/108 [==============================] - 0s 3ms/step - loss: 0.7466 - accuracy: 0.6753 - val_loss: 0.7883 - val_accuracy: 0.6475\n",
            "Epoch 10/50\n",
            "108/108 [==============================] - 0s 3ms/step - loss: 0.7369 - accuracy: 0.6825 - val_loss: 0.7886 - val_accuracy: 0.6475\n",
            "Epoch 11/50\n",
            "108/108 [==============================] - 0s 3ms/step - loss: 0.7329 - accuracy: 0.6812 - val_loss: 0.7784 - val_accuracy: 0.6658\n",
            "Epoch 12/50\n",
            "108/108 [==============================] - 0s 3ms/step - loss: 0.7471 - accuracy: 0.6740 - val_loss: 0.8005 - val_accuracy: 0.6332\n",
            "Epoch 13/50\n",
            "108/108 [==============================] - 0s 3ms/step - loss: 0.7286 - accuracy: 0.6831 - val_loss: 0.7974 - val_accuracy: 0.6573\n",
            "Epoch 14/50\n",
            "108/108 [==============================] - 0s 3ms/step - loss: 0.7331 - accuracy: 0.6802 - val_loss: 0.7854 - val_accuracy: 0.6527\n",
            "Epoch 15/50\n",
            "108/108 [==============================] - 0s 3ms/step - loss: 0.7342 - accuracy: 0.6804 - val_loss: 0.7772 - val_accuracy: 0.6540\n",
            "Epoch 16/50\n",
            "108/108 [==============================] - 0s 3ms/step - loss: 0.7321 - accuracy: 0.6849 - val_loss: 0.8121 - val_accuracy: 0.6188\n",
            "Epoch 17/50\n",
            "108/108 [==============================] - 0s 3ms/step - loss: 0.7392 - accuracy: 0.6834 - val_loss: 0.8108 - val_accuracy: 0.6312\n",
            "Epoch 18/50\n",
            "108/108 [==============================] - 0s 3ms/step - loss: 0.7337 - accuracy: 0.6770 - val_loss: 0.7895 - val_accuracy: 0.6625\n",
            "Epoch 19/50\n",
            "108/108 [==============================] - 0s 3ms/step - loss: 0.7359 - accuracy: 0.6777 - val_loss: 0.7955 - val_accuracy: 0.6645\n",
            "Epoch 20/50\n",
            "108/108 [==============================] - 0s 3ms/step - loss: 0.7415 - accuracy: 0.6748 - val_loss: 0.8032 - val_accuracy: 0.6273\n",
            "Epoch 21/50\n",
            "108/108 [==============================] - 0s 3ms/step - loss: 0.7391 - accuracy: 0.6772 - val_loss: 0.7928 - val_accuracy: 0.6612\n",
            "Epoch 22/50\n",
            "108/108 [==============================] - 0s 4ms/step - loss: 0.7382 - accuracy: 0.6775 - val_loss: 0.8516 - val_accuracy: 0.5809\n",
            "Epoch 23/50\n",
            "108/108 [==============================] - 0s 3ms/step - loss: 0.7394 - accuracy: 0.6765 - val_loss: 0.8011 - val_accuracy: 0.6671\n",
            "Epoch 24/50\n",
            "108/108 [==============================] - 0s 3ms/step - loss: 0.7267 - accuracy: 0.6826 - val_loss: 0.8074 - val_accuracy: 0.6580\n",
            "Epoch 25/50\n",
            "108/108 [==============================] - 0s 3ms/step - loss: 0.7314 - accuracy: 0.6811 - val_loss: 0.8008 - val_accuracy: 0.6397\n",
            "Epoch 26/50\n",
            "108/108 [==============================] - 0s 3ms/step - loss: 0.7456 - accuracy: 0.6781 - val_loss: 0.8187 - val_accuracy: 0.6175\n",
            "Epoch 27/50\n",
            "108/108 [==============================] - 0s 3ms/step - loss: 0.7355 - accuracy: 0.6777 - val_loss: 0.7829 - val_accuracy: 0.6586\n",
            "Epoch 28/50\n",
            "108/108 [==============================] - 0s 4ms/step - loss: 0.7295 - accuracy: 0.6791 - val_loss: 0.7900 - val_accuracy: 0.6501\n",
            "Epoch 29/50\n",
            "108/108 [==============================] - 0s 3ms/step - loss: 0.7235 - accuracy: 0.6844 - val_loss: 0.8399 - val_accuracy: 0.5907\n",
            "Epoch 30/50\n",
            "108/108 [==============================] - 0s 3ms/step - loss: 0.7306 - accuracy: 0.6800 - val_loss: 0.8368 - val_accuracy: 0.6155\n",
            "Epoch 31/50\n",
            "108/108 [==============================] - 0s 4ms/step - loss: 0.7387 - accuracy: 0.6761 - val_loss: 0.7827 - val_accuracy: 0.6632\n",
            "Epoch 32/50\n",
            "108/108 [==============================] - 0s 4ms/step - loss: 0.7370 - accuracy: 0.6747 - val_loss: 0.8216 - val_accuracy: 0.6651\n",
            "Epoch 33/50\n",
            "108/108 [==============================] - 0s 3ms/step - loss: 0.7248 - accuracy: 0.6839 - val_loss: 0.7870 - val_accuracy: 0.6567\n",
            "Epoch 34/50\n",
            "108/108 [==============================] - 0s 3ms/step - loss: 0.7302 - accuracy: 0.6801 - val_loss: 0.7915 - val_accuracy: 0.6651\n",
            "Epoch 35/50\n",
            "108/108 [==============================] - 0s 4ms/step - loss: 0.7277 - accuracy: 0.6813 - val_loss: 0.8169 - val_accuracy: 0.6325\n",
            "Epoch 36/50\n",
            "108/108 [==============================] - 0s 4ms/step - loss: 0.7242 - accuracy: 0.6881 - val_loss: 0.7982 - val_accuracy: 0.6599\n",
            "Epoch 37/50\n",
            "108/108 [==============================] - 0s 4ms/step - loss: 0.7228 - accuracy: 0.6849 - val_loss: 0.7999 - val_accuracy: 0.6390\n",
            "Epoch 38/50\n",
            "108/108 [==============================] - 0s 3ms/step - loss: 0.7342 - accuracy: 0.6786 - val_loss: 0.7985 - val_accuracy: 0.6638\n",
            "Epoch 39/50\n",
            "108/108 [==============================] - 0s 3ms/step - loss: 0.7276 - accuracy: 0.6834 - val_loss: 0.7940 - val_accuracy: 0.6540\n",
            "Epoch 40/50\n",
            "108/108 [==============================] - 0s 3ms/step - loss: 0.7281 - accuracy: 0.6819 - val_loss: 0.8228 - val_accuracy: 0.6593\n",
            "Epoch 41/50\n",
            "108/108 [==============================] - 0s 3ms/step - loss: 0.7294 - accuracy: 0.6815 - val_loss: 0.7885 - val_accuracy: 0.6632\n",
            "Epoch 42/50\n",
            "108/108 [==============================] - 0s 3ms/step - loss: 0.7278 - accuracy: 0.6854 - val_loss: 0.8252 - val_accuracy: 0.6012\n",
            "Epoch 43/50\n",
            "108/108 [==============================] - 0s 3ms/step - loss: 0.7272 - accuracy: 0.6822 - val_loss: 0.8014 - val_accuracy: 0.6691\n",
            "Epoch 44/50\n",
            "108/108 [==============================] - 0s 3ms/step - loss: 0.7320 - accuracy: 0.6801 - val_loss: 0.8284 - val_accuracy: 0.6077\n",
            "Epoch 45/50\n",
            "108/108 [==============================] - 0s 3ms/step - loss: 0.7312 - accuracy: 0.6820 - val_loss: 0.7925 - val_accuracy: 0.6482\n",
            "Epoch 46/50\n",
            "108/108 [==============================] - 0s 3ms/step - loss: 0.7325 - accuracy: 0.6765 - val_loss: 0.7973 - val_accuracy: 0.6658\n",
            "Epoch 47/50\n",
            "108/108 [==============================] - 0s 3ms/step - loss: 0.7297 - accuracy: 0.6786 - val_loss: 0.8316 - val_accuracy: 0.6136\n",
            "Epoch 48/50\n",
            "108/108 [==============================] - 0s 3ms/step - loss: 0.7317 - accuracy: 0.6829 - val_loss: 0.7930 - val_accuracy: 0.6678\n",
            "Epoch 49/50\n",
            "108/108 [==============================] - 0s 3ms/step - loss: 0.7387 - accuracy: 0.6725 - val_loss: 0.8821 - val_accuracy: 0.6573\n",
            "Epoch 50/50\n",
            "108/108 [==============================] - 0s 3ms/step - loss: 0.7274 - accuracy: 0.6826 - val_loss: 0.7814 - val_accuracy: 0.6743\n",
            "54/54 [==============================] - 0s 1ms/step\n",
            "Results of Fusion model\n",
            "              precision    recall  f1-score   support\n",
            "\n",
            "           0     0.3415    0.1228    0.1806       114\n",
            "           1     0.4880    0.1776    0.2605       456\n",
            "           2     0.6970    0.9205    0.7933      1132\n",
            "\n",
            "    accuracy                         0.6680      1702\n",
            "   macro avg     0.5088    0.4070    0.4115      1702\n",
            "weighted avg     0.6172    0.6680    0.6095      1702\n",
            "\n"
          ]
        },
        {
          "output_type": "display_data",
          "data": {
            "text/plain": [
              "<Figure size 640x480 with 2 Axes>"
            ],
            "image/png": "[encoded data removed]"
          },
          "metadata": {}
        }
      ],
      "source": [
        "###Design Fusion Model\n",
        "with tf.device('/device:GPU:0'): #when GPU is used\n",
        "\n",
        "  #print(combined_global_local_text_features.shape)\n",
        "  fusion_model = tf.keras.models.Sequential([\n",
        "      #tf.keras.layers.Dense(512, activation='relu', input_shape=(combined_features.shape[1],)),\n",
        "      tf.keras.layers.Dense(3, activation='softmax', input_shape=(combined_features.shape[1],))\n",
        "      #tf.keras.layers.Dropout(0.5),\n",
        "      #tf.keras.layers.Dense(100, activation='relu',kernel_regularizer=tf.keras.regularizers.l2(0.01)),\n",
        "      #tf.keras.layers.Dropout(0.2),\n",
        "      #tf.keras.layers.Dense(128, activation='relu'),\n",
        "      #tf.keras.layers.Dense(3,kernel_regularizer=tf.keras.regularizers.l1(0.01), activation='softmax')\n",
        "      #tf.keras.layers.Dense(3, activation='softmax')\n",
        "  ])\n",
        "  # assuming X is the concatenated feature vector and y is the label for each data point\n",
        "  fusion_model.compile(optimizer=tf.keras.optimizers.Adam(learning_rate=0.001), loss='categorical_crossentropy',\n",
        "                metrics=['accuracy'])\n",
        "  #fusion_model.compile(optimizer=optimizer, loss='categorical_crossentropy', metrics=['accuracy'])\n",
        "  #fusion_model.fit(test_combined_global_local_text_features, y_test, epochs=5)\n",
        "  com_history=fusion_model.fit(x=X_train,validation_split=0.1,y= y_train,batch_size=128, epochs=200)\n",
        "  #com_history=fusion_modelfit(x=X_train, y_train, epochs=20,batch_size=128, validation_split=0.1,validation_data=(X_test, y_test))\n",
        "\n",
        "  #accuracy vs loss function\n",
        "  s, (at, al) = plt.subplots(2,1)\n",
        "  at.plot(com_history.history['accuracy'], c= 'b')\n",
        "  at.plot(com_history.history['val_accuracy'], c='r')\n",
        "  at.set_title('model accuracy')\n",
        "  at.set_ylabel('accuracy')\n",
        "  at.set_xlabel('epoch')\n",
        "  at.legend(['Fusion_train', 'Fusion_val'], loc='upper left')\n",
        "\n",
        "  al.plot(com_history.history['loss'], c='m')\n",
        "  al.plot(com_history.history['val_loss'], c='c')\n",
        "  al.set_title('model loss')\n",
        "  al.set_ylabel('loss')\n",
        "  al.set_xlabel('epoch')\n",
        "  al.legend(['train', 'val'], loc = 'upper left')\n",
        "  f1predicted = fusion_model.predict(X_test)\n",
        "  #com_score=fusion_model.evaluate(y_test)\n",
        "  #print('Test Loss:', com_score[0])\n",
        "  #print('Test accuracy:', com_score[1])\n",
        "  f1ypredicted = np.argmax(f1predicted,axis=1)\n",
        "  #y_predicted = np.where(predicted>0.5,1,0)\n",
        "  print('Results of Fusion model')\n",
        "  from sklearn.metrics import classification_report\n",
        "  print(classification_report(y_test,f1ypredicted,digits=4))"
      ]
    },
    {
      "cell_type": "code",
      "source": [
        "# define the BiLSTM model\n",
        "from keras.models import Sequential\n",
        "# assume X_train, y_train, X_test, y_test are NumPy arrays containing the training and test data\n",
        "input_shape = (object_class_features3.shape[1], 1)\n",
        "lstm_model = Sequential()\n",
        "#lstm_model.add(Bidirectional(LSTM(64,dropout=0.2,recurrent_dropout=0.2), input_shape=input_shape))\n",
        "lstm_model.add(LSTM(512, input_shape=input_shape))\n",
        "#lstm_model.add(Bidirectional(LSTM(128, return_sequences=True), input_shape=input_shape))\n",
        "#lstm_model.add(Bidirectional(LSTM(64)))\n",
        "lstm_model.add(Dense(3,kernel_regularizer=tf.keras.regularizers.l2(0.01), activation='softmax'))\n",
        "#lstm_model.compile(optimizer='adam', loss='categorical_crossentropy',metrics=['categorical_accuracy'])\n",
        "lstm_model.compile(optimizer=tf.keras.optimizers.Adam(learning_rate=0.0001), loss='categorical_crossentropy',\n",
        "            metrics=['categorical_accuracy'])\n",
        "\n",
        "with tf.device('/device:GPU:0'): #when GPU is used\n",
        "  #Excecute Bilstm\n",
        "  lstm_history=lstm_model.fit(x=X_train, y=y_train,validation_split=0.1,batch_size=128,  epochs=10)\n",
        "  #com_history=fusion_modelfit(x=X_train, y_train, epochs=10,batch_size=128, validation_split=0.1,validation_data=(X_test, y_test))\n",
        "\n",
        "  #accuracy vs loss function\n",
        "  s, (at, al) = plt.subplots(2,1)\n",
        "  at.plot(lstm_history.history['categorical_accuracy'], c= 'b')\n",
        "  at.plot(lstm_history.history['val_categorical_accuracy'], c='r')\n",
        "  at.set_title('model accuracy')\n",
        "  at.set_ylabel('accuracy')\n",
        "  at.set_xlabel('epoch')\n",
        "  at.legend(['Fusion_bilstm_train', 'Fusion_bilstm_val'], loc='upper left')\n",
        "\n",
        "  al.plot(lstm_history.history['loss'], c='m')\n",
        "  al.plot(lstm_history.history['val_loss'], c='c')\n",
        "  al.set_title('model loss')\n",
        "  al.set_ylabel('loss')\n",
        "  al.set_xlabel('epoch')\n",
        "  al.legend(['train', 'val'], loc = 'upper left')\n",
        "  cpredicted = lstm_model.predict(X_test)\n",
        "  #com_score=fusion_model.evaluate(y_test)\n",
        "  #print('Test Loss:', com_score[0])\n",
        "  #print('Test accuracy:', com_score[1])\n",
        "  cypredicted = np.argmax(cpredicted,axis=1)\n",
        "  #y_predicted = np.where(predicted>0.5,1,0)\n",
        "  print('Results of Bilstm model')\n",
        "  from sklearn.metrics import classification_report\n",
        "  print(classification_report(y_test,cypredicted,digits=4))"
      ],
      "metadata": {
        "colab": {
          "base_uri": "https://localhost:8080/",
          "height": 1000
        },
        "id": "1L4UPLUbduk2",
        "outputId": "b9f61dc2-8425-42d3-9637-192b4d6ba169"
      },
      "execution_count": null,
      "outputs": [
        {
          "output_type": "stream",
          "name": "stdout",
          "text": [
            "Epoch 1/10\n",
            "108/108 [==============================] - 81s 738ms/step - loss: 0.9070 - categorical_accuracy: 0.6519 - val_loss: 0.8546 - val_categorical_accuracy: 0.6704\n",
            "Epoch 2/10\n",
            "108/108 [==============================] - 79s 728ms/step - loss: 0.8636 - categorical_accuracy: 0.6633 - val_loss: 0.8498 - val_categorical_accuracy: 0.6704\n",
            "Epoch 3/10\n",
            "108/108 [==============================] - 78s 725ms/step - loss: 0.8561 - categorical_accuracy: 0.6633 - val_loss: 0.8428 - val_categorical_accuracy: 0.6704\n",
            "Epoch 4/10\n",
            "108/108 [==============================] - 78s 723ms/step - loss: 0.8512 - categorical_accuracy: 0.6633 - val_loss: 0.8346 - val_categorical_accuracy: 0.6704\n",
            "Epoch 5/10\n",
            "108/108 [==============================] - 77s 717ms/step - loss: 0.8450 - categorical_accuracy: 0.6633 - val_loss: 0.8334 - val_categorical_accuracy: 0.6704\n",
            "Epoch 6/10\n",
            "108/108 [==============================] - 78s 722ms/step - loss: 0.8408 - categorical_accuracy: 0.6633 - val_loss: 0.8343 - val_categorical_accuracy: 0.6704\n",
            "Epoch 7/10\n",
            "108/108 [==============================] - 78s 720ms/step - loss: 0.8387 - categorical_accuracy: 0.6633 - val_loss: 0.8267 - val_categorical_accuracy: 0.6704\n",
            "Epoch 8/10\n",
            "108/108 [==============================] - 79s 728ms/step - loss: 0.8338 - categorical_accuracy: 0.6633 - val_loss: 0.8205 - val_categorical_accuracy: 0.6704\n",
            "Epoch 9/10\n",
            "108/108 [==============================] - 78s 726ms/step - loss: 0.8319 - categorical_accuracy: 0.6633 - val_loss: 0.8173 - val_categorical_accuracy: 0.6704\n",
            "Epoch 10/10\n",
            "108/108 [==============================] - 78s 726ms/step - loss: 0.8300 - categorical_accuracy: 0.6633 - val_loss: 0.8169 - val_categorical_accuracy: 0.6704\n",
            "54/54 [==============================] - 6s 100ms/step\n",
            "Results of Bilstm model\n",
            "              precision    recall  f1-score   support\n",
            "\n",
            "           0     0.0000    0.0000    0.0000       118\n",
            "           1     0.0000    0.0000    0.0000       438\n",
            "           2     0.6733    1.0000    0.8048      1146\n",
            "\n",
            "    accuracy                         0.6733      1702\n",
            "   macro avg     0.2244    0.3333    0.2683      1702\n",
            "weighted avg     0.4534    0.6733    0.5419      1702\n",
            "\n"
          ]
        },
        {
          "output_type": "stream",
          "name": "stderr",
          "text": [
            "/usr/local/lib/python3.10/dist-packages/sklearn/metrics/_classification.py:1344: UndefinedMetricWarning: Precision and F-score are ill-defined and being set to 0.0 in labels with no predicted samples. Use `zero_division` parameter to control this behavior.\n",
            "  _warn_prf(average, modifier, msg_start, len(result))\n",
            "/usr/local/lib/python3.10/dist-packages/sklearn/metrics/_classification.py:1344: UndefinedMetricWarning: Precision and F-score are ill-defined and being set to 0.0 in labels with no predicted samples. Use `zero_division` parameter to control this behavior.\n",
            "  _warn_prf(average, modifier, msg_start, len(result))\n",
            "/usr/local/lib/python3.10/dist-packages/sklearn/metrics/_classification.py:1344: UndefinedMetricWarning: Precision and F-score are ill-defined and being set to 0.0 in labels with no predicted samples. Use `zero_division` parameter to control this behavior.\n",
            "  _warn_prf(average, modifier, msg_start, len(result))\n"
          ]
        },
        {
          "output_type": "display_data",
          "data": {
            "text/plain": [
              "<Figure size 640x480 with 2 Axes>"
            ],
            "image/png": "[encoded data removed]"
          },
          "metadata": {}
        }
      ]
    },
    {
      "cell_type": "code",
      "source": [
        "#y_test = pd.get_dummies(y_test)\n",
        "#f1ypredicted1 = pd.get_dummies(f1ypredicted)\n",
        "print(f1ypredicted.shape,y_test.shape)"
      ],
      "metadata": {
        "colab": {
          "base_uri": "https://localhost:8080/"
        },
        "id": "O4LGS2aWQpQC",
        "outputId": "7c2766f0-063d-4ab3-a5ca-9ed2f93967f5"
      },
      "execution_count": null,
      "outputs": [
        {
          "output_type": "stream",
          "name": "stdout",
          "text": [
            "(1702,) (1702,)\n"
          ]
        }
      ]
    },
    {
      "cell_type": "code",
      "source": [
        "y_test"
      ],
      "metadata": {
        "colab": {
          "base_uri": "https://localhost:8080/"
        },
        "id": "HgkAxZ3NSaey",
        "outputId": "189bebc6-b467-49d2-cccd-e13e0c02520d"
      },
      "execution_count": null,
      "outputs": [
        {
          "output_type": "execute_result",
          "data": {
            "text/plain": [
              "array([2, 2, 2, ..., 1, 2, 2])"
            ]
          },
          "metadata": {},
          "execution_count": 167
        }
      ]
    },
    {
      "cell_type": "code",
      "source": [
        "import scipy.stats as stats\n",
        "\n",
        "# Predicted sentiment scores\n",
        "#predicted_scores = [3.2, 4.1, 2.9, 3.7, 4.5]\n",
        "# Ground truth sentiment scores\n",
        "#ground_truth_scores = [3.5, 3.9, 2.8, 4.0, 4.2]\n",
        "\n",
        "# Perform paired t-test\n",
        "t_statistic, p_value = stats.ttest_rel(f1ypredicted, y_test)\n",
        "\n",
        "# Check significance level (alpha)\n",
        "alpha = 0.05\n",
        "if p_value < alpha:\n",
        "    print(\"There is a significant difference between predicted and ground truth sentiment scores.\")\n",
        "else:\n",
        "    print(\"There is no significant difference between predicted and ground truth sentiment scores.\")\n"
      ],
      "metadata": {
        "colab": {
          "base_uri": "https://localhost:8080/"
        },
        "id": "ZKryE4Yb6reR",
        "outputId": "52b1f899-5a86-4bb8-fd93-4a0077909cfc"
      },
      "execution_count": null,
      "outputs": [
        {
          "output_type": "stream",
          "name": "stdout",
          "text": [
            "There is a significant difference between predicted and ground truth sentiment scores.\n"
          ]
        }
      ]
    },
    {
      "cell_type": "code",
      "source": [
        "# Perform Wilcoxon signed-rank test\n",
        "z_statistic, p_value = stats.wilcoxon(f1ypredicted, y_test)\n",
        "\n",
        "# Check significance level (alpha)\n",
        "alpha = 0.05\n",
        "if p_value < alpha:\n",
        "    print(\"There is a significant difference between predicted and ground truth sentiment scores.\")\n",
        "else:\n",
        "    print(\"There is no significant difference between predicted and ground truth sentiment scores.\")\n"
      ],
      "metadata": {
        "colab": {
          "base_uri": "https://localhost:8080/"
        },
        "id": "3K79funZ6-wB",
        "outputId": "2f8f483f-dd39-4a9e-9af0-46444db21a98"
      },
      "execution_count": null,
      "outputs": [
        {
          "output_type": "stream",
          "name": "stdout",
          "text": [
            "There is a significant difference between predicted and ground truth sentiment scores.\n"
          ]
        }
      ]
    }
  ],
  "metadata": {
    "accelerator": "GPU",
    "colab": {
      "machine_shape": "hm",
      "provenance": [],
      "include_colab_link": true
    },
    "gpuClass": "standard",
    "kernelspec": {
      "display_name": "Python 3",
      "language": "python",
      "name": "python3"
    },
    "language_info": {
      "codemirror_mode": {
        "name": "ipython",
        "version": 3
      },
      "file_extension": ".py",
      "mimetype": "text/x-python",
      "name": "python",
      "nbconvert_exporter": "python",
      "pygments_lexer": "ipython3",
      "version": "3.6.4"
    }
  },
  "nbformat": 4,
  "nbformat_minor": 0
}