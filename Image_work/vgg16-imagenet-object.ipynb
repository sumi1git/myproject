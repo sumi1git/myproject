{
 "cells": [
  {
   "cell_type": "code",
   "execution_count": 1,
   "id": "d7f6694a",
   "metadata": {
    "execution": {
     "iopub.execute_input": "2022-05-18T10:26:09.666650Z",
     "iopub.status.busy": "2022-05-18T10:26:09.666230Z",
     "iopub.status.idle": "2022-05-18T10:26:15.475238Z",
     "shell.execute_reply": "2022-05-18T10:26:15.474380Z"
    },
    "id": "SV1uet3xURSk",
    "outputId": "f2253199-1aa3-412c-f219-7d06ced7c259",
    "papermill": {
     "duration": 5.830039,
     "end_time": "2022-05-18T10:26:15.477613",
     "exception": false,
     "start_time": "2022-05-18T10:26:09.647574",
     "status": "completed"
    },
    "tags": []
   },
   "outputs": [],
   "source": [
    "# import the necessary packages\n",
    "import tensorflow as tf\n",
    "from keras.preprocessing import image as image_utils\n",
    "from keras.applications.imagenet_utils import decode_predictions\n",
    "from keras.applications.imagenet_utils import preprocess_input\n",
    "from tensorflow.keras.applications.vgg16 import VGG16\n",
    "from tensorflow.keras.applications.vgg19 import VGG19\n",
    "from tensorflow.keras.preprocessing import image\n",
    "from tensorflow.keras.applications.vgg16 import preprocess_input\n",
    "from tensorflow.keras.applications.resnet50 import ResNet50\n",
    "#from tensorflow.keras.applications.resnet101 import ResNet101\n",
    "import matplotlib.pyplot as plt\n",
    "import numpy as np\n",
    "import pandas as pd\n",
    "from PIL import Image\n",
    "import argparse\n",
    "import cv2\n"
   ]
  },
  {
   "cell_type": "code",
   "execution_count": 2,
   "id": "f518f151",
   "metadata": {
    "execution": {
     "iopub.execute_input": "2022-05-18T10:26:15.496739Z",
     "iopub.status.busy": "2022-05-18T10:26:15.496515Z",
     "iopub.status.idle": "2022-05-18T10:26:15.546651Z",
     "shell.execute_reply": "2022-05-18T10:26:15.545947Z"
    },
    "papermill": {
     "duration": 0.06252,
     "end_time": "2022-05-18T10:26:15.549493",
     "exception": false,
     "start_time": "2022-05-18T10:26:15.486973",
     "status": "completed"
    },
    "tags": []
   },
   "outputs": [
    {
     "name": "stdout",
     "output_type": "stream",
     "text": [
      "   Unnamed: 0            Image_Path  Visual_Sentiment  Textual_Sentiment  \\\n",
      "0           0  Dataset/img00001.jpg                 0                  2   \n",
      "1           1  Dataset/img00002.jpg                 2                  2   \n",
      "2           2  Dataset/img00003.jpg                 0                  1   \n",
      "3           3  Dataset/img00004.jpg                 1                  2   \n",
      "4           4  Dataset/img00005.jpg                 2                  2   \n",
      "\n",
      "   Overall_Sentiment  Unnamed: 4 sentiment visual_label text_label joint_label  \n",
      "0                  2         NaN  positive     negative   positive    positive  \n",
      "1                  2         NaN  positive     positive   positive    positive  \n",
      "2                  0         NaN  negative     negative    neutral    negative  \n",
      "3                  2         NaN  positive      neutral   positive    positive  \n",
      "4                  2         NaN  positive     positive   positive    positive  \n",
      "Shape of new dataframes - 9247 , 9247\n"
     ]
    }
   ],
   "source": [
    "#simpsonfile with image dataset and sentiment\n",
    "df=pd.read_csv('../input/simpson-original-data/image_sentiment1.csv')\n",
    "print(df.head(5))\n",
    "img_pathlist=df['Image_Path'].tolist()\n",
    "visual_sentiment=df['visual_label'].tolist()\n",
    "print(\"Shape of new dataframes - {} , {}\".format(len(img_pathlist), len(visual_sentiment)))"
   ]
  },
  {
   "cell_type": "code",
   "execution_count": 3,
   "id": "c1230ead",
   "metadata": {
    "execution": {
     "iopub.execute_input": "2022-05-18T10:26:15.570583Z",
     "iopub.status.busy": "2022-05-18T10:26:15.569831Z",
     "iopub.status.idle": "2022-05-18T10:26:23.579974Z",
     "shell.execute_reply": "2022-05-18T10:26:23.579122Z"
    },
    "papermill": {
     "duration": 8.022481,
     "end_time": "2022-05-18T10:26:23.582071",
     "exception": false,
     "start_time": "2022-05-18T10:26:15.559590",
     "status": "completed"
    },
    "tags": []
   },
   "outputs": [
    {
     "name": "stdout",
     "output_type": "stream",
     "text": [
      "[INFO] loading network...\n"
     ]
    },
    {
     "name": "stderr",
     "output_type": "stream",
     "text": [
      "2022-05-18 10:26:15.671077: I tensorflow/stream_executor/cuda/cuda_gpu_executor.cc:937] successful NUMA node read from SysFS had negative value (-1), but there must be at least one NUMA node, so returning NUMA node zero\n",
      "2022-05-18 10:26:15.787034: I tensorflow/stream_executor/cuda/cuda_gpu_executor.cc:937] successful NUMA node read from SysFS had negative value (-1), but there must be at least one NUMA node, so returning NUMA node zero\n",
      "2022-05-18 10:26:15.787857: I tensorflow/stream_executor/cuda/cuda_gpu_executor.cc:937] successful NUMA node read from SysFS had negative value (-1), but there must be at least one NUMA node, so returning NUMA node zero\n",
      "2022-05-18 10:26:15.790114: I tensorflow/core/platform/cpu_feature_guard.cc:142] This TensorFlow binary is optimized with oneAPI Deep Neural Network Library (oneDNN) to use the following CPU instructions in performance-critical operations:  AVX2 AVX512F FMA\n",
      "To enable them in other operations, rebuild TensorFlow with the appropriate compiler flags.\n",
      "2022-05-18 10:26:15.790459: I tensorflow/stream_executor/cuda/cuda_gpu_executor.cc:937] successful NUMA node read from SysFS had negative value (-1), but there must be at least one NUMA node, so returning NUMA node zero\n",
      "2022-05-18 10:26:15.791442: I tensorflow/stream_executor/cuda/cuda_gpu_executor.cc:937] successful NUMA node read from SysFS had negative value (-1), but there must be at least one NUMA node, so returning NUMA node zero\n",
      "2022-05-18 10:26:15.792509: I tensorflow/stream_executor/cuda/cuda_gpu_executor.cc:937] successful NUMA node read from SysFS had negative value (-1), but there must be at least one NUMA node, so returning NUMA node zero\n",
      "2022-05-18 10:26:17.927179: I tensorflow/stream_executor/cuda/cuda_gpu_executor.cc:937] successful NUMA node read from SysFS had negative value (-1), but there must be at least one NUMA node, so returning NUMA node zero\n",
      "2022-05-18 10:26:17.928028: I tensorflow/stream_executor/cuda/cuda_gpu_executor.cc:937] successful NUMA node read from SysFS had negative value (-1), but there must be at least one NUMA node, so returning NUMA node zero\n",
      "2022-05-18 10:26:17.928685: I tensorflow/stream_executor/cuda/cuda_gpu_executor.cc:937] successful NUMA node read from SysFS had negative value (-1), but there must be at least one NUMA node, so returning NUMA node zero\n",
      "2022-05-18 10:26:17.930001: I tensorflow/core/common_runtime/gpu/gpu_device.cc:1510] Created device /job:localhost/replica:0/task:0/device:GPU:0 with 15403 MB memory:  -> device: 0, name: Tesla P100-PCIE-16GB, pci bus id: 0000:00:04.0, compute capability: 6.0\n"
     ]
    },
    {
     "name": "stdout",
     "output_type": "stream",
     "text": [
      "Downloading data from https://storage.googleapis.com/tensorflow/keras-applications/vgg16/vgg16_weights_tf_dim_ordering_tf_kernels.h5\n",
      "553467904/553467096 [==============================] - 4s 0us/step\n",
      "553476096/553467096 [==============================] - 4s 0us/step\n"
     ]
    }
   ],
   "source": [
    "# load the VGG16 network pre-trained on the ImageNet dataset\n",
    "print(\"[INFO] loading network...\")\n",
    "model = VGG16(weights=\"imagenet\")"
   ]
  },
  {
   "cell_type": "code",
   "execution_count": 4,
   "id": "02f1ee9d",
   "metadata": {
    "execution": {
     "iopub.execute_input": "2022-05-18T10:26:23.642165Z",
     "iopub.status.busy": "2022-05-18T10:26:23.641901Z",
     "iopub.status.idle": "2022-05-18T10:39:28.721759Z",
     "shell.execute_reply": "2022-05-18T10:39:28.720892Z"
    },
    "papermill": {
     "duration": 785.112859,
     "end_time": "2022-05-18T10:39:28.724527",
     "exception": false,
     "start_time": "2022-05-18T10:26:23.611668",
     "status": "completed"
    },
    "tags": []
   },
   "outputs": [
    {
     "name": "stderr",
     "output_type": "stream",
     "text": [
      "2022-05-18 10:26:23.770322: I tensorflow/compiler/mlir/mlir_graph_optimization_pass.cc:185] None of the MLIR Optimization Passes are enabled (registered 2)\n",
      "2022-05-18 10:26:24.739672: I tensorflow/stream_executor/cuda/cuda_dnn.cc:369] Loaded cuDNN version 8005\n"
     ]
    },
    {
     "name": "stdout",
     "output_type": "stream",
     "text": [
      "Downloading data from https://storage.googleapis.com/download.tensorflow.org/data/imagenet_class_index.json\n",
      "40960/35363 [==================================] - 0s 0us/step\n",
      "49152/35363 [=========================================] - 0s 0us/step\n",
      "Error\n",
      "Error\n",
      "Error\n",
      "Error\n",
      "Error\n",
      "Error\n",
      "Error\n",
      "Error\n",
      "Error\n",
      "Error\n",
      "Error\n",
      "Error\n",
      "Error\n",
      "Error\n",
      "Error\n",
      "Error\n",
      "Error\n",
      "Error\n",
      "Error\n",
      "Error\n",
      "Error\n",
      "Error\n",
      "Error\n",
      "Error\n",
      "Error\n",
      "Error\n",
      "Error\n",
      "Error\n",
      "Error\n",
      "Error\n",
      "Error\n",
      "Error\n",
      "Error\n",
      "Error\n",
      "Error\n",
      "Error\n",
      "Error\n",
      "Error\n",
      "Error\n",
      "Error\n",
      "Error\n",
      "Error\n",
      "Error\n",
      "Error\n",
      "Error\n",
      "Error\n",
      "Error\n",
      "Error\n",
      "Error\n",
      "Error\n",
      "Error\n",
      "Error\n",
      "Error\n",
      "Error\n",
      "Error\n",
      "Error\n",
      "Error\n",
      "Error\n",
      "Error\n",
      "Error\n",
      "Error\n",
      "Error\n",
      "Error\n",
      "Error\n",
      "Error\n",
      "Error\n",
      "Error\n",
      "Error\n",
      "Error\n",
      "Error\n",
      "Error\n",
      "Error\n",
      "Error\n",
      "                    img                                        object_list  \\\n",
      "0  Dataset/img00001.jpg  [book_jacket, sweatshirt, poncho, stage, scuba...   \n",
      "1  Dataset/img00002.jpg  [mortarboard, kimono, academic_gown, sarong, m...   \n",
      "2  Dataset/img00003.jpg  [horizontal_bar, television, academic_gown, pa...   \n",
      "3  Dataset/img00004.jpg  [umbrella, sombrero, mortarboard, street_sign,...   \n",
      "4  Dataset/img00005.jpg  [bathing_cap, ice_lolly, shower_cap, wig, bras...   \n",
      "5  Dataset/img00006.jpg  [book_jacket, jersey, street_sign, sweatshirt,...   \n",
      "6  Dataset/img00007.jpg      [geyser, fountain, fireboat, ski, snowmobile]   \n",
      "7  Dataset/img00008.jpg           [volcano, geyser, caldron, wok, missile]   \n",
      "8  Dataset/img00009.jpg   [chain_saw, castle, fur_coat, chain_mail, cliff]   \n",
      "9  Dataset/img00010.jpg   [ski_mask, abaya, mask, breastplate, sweatshirt]   \n",
      "\n",
      "                        object_score  number_of_classes sentiment  \n",
      "0   [16.71, 13.37, 4.87, 3.19, 3.17]                  5  negative  \n",
      "1   [14.96, 12.42, 6.70, 5.28, 4.91]                  5  positive  \n",
      "2  [13.88, 13.16, 12.14, 9.91, 6.96]                  5  negative  \n",
      "3    [66.24, 3.80, 3.42, 3.35, 2.01]                  5   neutral  \n",
      "4    [24.23, 3.79, 3.19, 2.85, 2.66]                  5  positive  \n",
      "5    [64.87, 7.96, 4.25, 3.33, 1.34]                  5   neutral  \n",
      "6   [89.50, 10.40, 0.04, 0.01, 0.01]                  5  negative  \n",
      "7    [87.00, 5.72, 1.42, 0.99, 0.71]                  5  negative  \n",
      "8   [14.74, 13.30, 3.96, 2.60, 2.55]                  5  negative  \n",
      "9  [36.45, 20.49, 16.27, 2.11, 1.70]                  5  negative  \n",
      "(9174, 5)\n"
     ]
    }
   ],
   "source": [
    "#Object collection from images of Simpson dataset \n",
    "# import the modules\n",
    "import os\n",
    "from os import listdir\n",
    "#create create dictionries of simpson info list\n",
    "simpson_info={\n",
    "    'img':[],\n",
    "    'object_list': [],\n",
    "    'object_score': [],\n",
    "    #'bbox': [],\n",
    "    #'classes':[],\n",
    "    #'number_of_bbox':[],\n",
    "    'number_of_classes':[],\n",
    "    'sentiment':[]\n",
    "}\n",
    "\n",
    "#c=0\n",
    "#sentiment=[]\n",
    "dir_path = '../input/simpson-original-data/Dataset/'\n",
    "#folder_path=\"/gdrive/MyDrive/sumana_nuig/all_dataset/SIMPSoN/negative/\"\n",
    "for images,sentiment in zip(img_pathlist,visual_sentiment):\n",
    "    #c+=1\n",
    "    # define the expected input shape for the model\n",
    "    # define our new photo\n",
    "   \n",
    "    classes=[]\n",
    "    clasn=[]\n",
    "    obj_score=[]\n",
    "    try:\n",
    "        photo_filename = dir_path+images\n",
    "        im=plt.imread(photo_filename)\n",
    "        # load and prepare image\n",
    "        img=cv2.resize(im,(224,224))\n",
    "        imgar=np.array(img)\n",
    "        #print(imgar.shape)\n",
    "        #plt.imshow(img)\n",
    "        # our image is now represented by a NumPy array of shape (224, 224, 3),\n",
    "        # assuming TensorFlow \"channels last\" ordering of course, but we need\n",
    "        # to expand the dimensions to be (1, 3, 224, 224) so we can pass it\n",
    "        # through the network -- we'll also preprocess the image by subtracting\n",
    "        # the mean RGB pixel intensity from the ImageNet dataset\n",
    "        image = np.expand_dims(imgar, axis=0)\n",
    "        image = preprocess_input(image)\n",
    "        preds = model.predict(image)\n",
    "        #print(\"[INFO] classifying image...\")\n",
    "        P = decode_predictions(preds)\n",
    "         #bbox=[]\n",
    "        # loop over the predictions and display the rank-5 predictions +\n",
    "        # probabilities to our terminal\n",
    "        for (i, (imagenetID, label, prob)) in enumerate(P[0]):\n",
    "            #print(\"{}. {}: {:.2f}%\".format(i + 1, label, prob * 100))\n",
    "            classes.append(label)\n",
    "            obj_score.append('{:.2f}'.format(prob * 100))\n",
    "        for x in classes:\n",
    "            # check if exists in unique_list or not\n",
    "             if x not in clasn:\n",
    "                clasn.append(x)\n",
    "         \n",
    "        simpson_info['img'].append(images)\n",
    "        simpson_info['object_list'].append(clasn)\n",
    "        simpson_info['object_score'].append(obj_score)\n",
    "        #simpson_info['bbox'].append(bbox)\n",
    "        #simpson_info['classes'].append(clasn)\n",
    "        #simpson_info['number_of_bbox'].append(len(v_boxes))\n",
    "        simpson_info['number_of_classes'].append(len(clasn))\n",
    "        simpson_info['sentiment'].append(sentiment)           \n",
    "    except:\n",
    "        print('Error')                   \n",
    "        #if c>101:\n",
    "           # break  \n",
    "    \n",
    "# turn dictionary to dataframe\n",
    "image_info=pd.DataFrame.from_dict(simpson_info)\n",
    "#image_info_df = pd.DataFrame.from_dict(image_text_train_test)\n",
    "print(image_info.head(10))\n",
    "print(image_info.shape)\n",
    "\n",
    "# save to CSV\n",
    "#image_info_df.to_csv(\"/gdrive/MyDrive/sumana_nuig/all_dataset/SIMPSoN//image_train_test.csv\",index=False)\n",
    "image_info.to_csv(\"./simpson_info_imagenet.csv\",index=False)"
   ]
  },
  {
   "cell_type": "code",
   "execution_count": null,
   "id": "a852c4bb",
   "metadata": {
    "papermill": {
     "duration": 0.092849,
     "end_time": "2022-05-18T10:39:28.922099",
     "exception": false,
     "start_time": "2022-05-18T10:39:28.829250",
     "status": "completed"
    },
    "tags": []
   },
   "outputs": [],
   "source": []
  },
  {
   "cell_type": "markdown",
   "id": "48a95183",
   "metadata": {
    "id": "FM3WpxPCZhWG",
    "papermill": {
     "duration": 0.089623,
     "end_time": "2022-05-18T10:39:29.104764",
     "exception": false,
     "start_time": "2022-05-18T10:39:29.015141",
     "status": "completed"
    },
    "tags": []
   },
   "source": []
  },
  {
   "cell_type": "code",
   "execution_count": 5,
   "id": "12c2fdc2",
   "metadata": {
    "execution": {
     "iopub.execute_input": "2022-05-18T10:39:29.289584Z",
     "iopub.status.busy": "2022-05-18T10:39:29.289259Z",
     "iopub.status.idle": "2022-05-18T10:39:29.293649Z",
     "shell.execute_reply": "2022-05-18T10:39:29.293034Z"
    },
    "id": "dK7XFwRUVMQz",
    "outputId": "34f42d08-7c3a-4e22-b72b-b978454ae1ea",
    "papermill": {
     "duration": 0.100719,
     "end_time": "2022-05-18T10:39:29.297281",
     "exception": false,
     "start_time": "2022-05-18T10:39:29.196562",
     "status": "completed"
    },
    "tags": []
   },
   "outputs": [],
   "source": [
    "#path='../input/simpson-original-data/Dataset/Dataset/img00002.jpg'\n",
    "#img=cv2.imread(path)\n",
    "#img=cv2.resize(img,(224,224))\n",
    "#imgar=np.array(img)\n",
    "#print(imgar.shape)\n",
    "#plt.imshow(img)\n",
    "# our image is now represented by a NumPy array of shape (224, 224, 3),\n",
    "# assuming TensorFlow \"channels last\" ordering of course, but we need\n",
    "# to expand the dimensions to be (1, 3, 224, 224) so we can pass it\n",
    "# through the network -- we'll also preprocess the image by subtracting\n",
    "# the mean RGB pixel intensity from the ImageNet dataset\n",
    "#image = np.expand_dims(imgar, axis=0)\n",
    "#image = preprocess_input(image)\n",
    "#print(image.shape)\n",
    "#plt.imshow(image)"
   ]
  },
  {
   "cell_type": "code",
   "execution_count": 6,
   "id": "42288c3f",
   "metadata": {
    "execution": {
     "iopub.execute_input": "2022-05-18T10:39:29.481820Z",
     "iopub.status.busy": "2022-05-18T10:39:29.481486Z",
     "iopub.status.idle": "2022-05-18T10:39:29.486604Z",
     "shell.execute_reply": "2022-05-18T10:39:29.485924Z"
    },
    "papermill": {
     "duration": 0.106398,
     "end_time": "2022-05-18T10:39:29.491801",
     "exception": false,
     "start_time": "2022-05-18T10:39:29.385403",
     "status": "completed"
    },
    "tags": []
   },
   "outputs": [],
   "source": [
    "# load the vgg19 network pre-trained on the ImageNet dataset\n",
    "#print(\"[INFO] loading network...\")\n",
    "#model = VGG19(weights=\"imagenet\")\n",
    "#model = ResNet50(weights=\"imagenet\")\n",
    "#preds = model.predict(image)\n",
    "# classify the image using imagenet\n",
    "#print(\"[INFO] classifying image...\")\n",
    "#preds = model.predict(image)\n",
    "#preds = model.predict(imgar)\n",
    "#P = decode_predictions(preds)\n",
    "#print(P)\n",
    "# loop over the predictions and display the rank-5 predictions +\n",
    "# probabilities to our terminal\n",
    "#for (i, (imagenetID, label, prob)) in enumerate(P[0]):\n",
    "#\tprint(\"{}. {}: {:.2f}%\".format(i + 1, label, prob * 100))\n",
    "# load the image via OpenCV, draw the top prediction on the image,\n",
    "# and display the image to our screen\n",
    "#orig = cv2.imread(args[\"image\"])\n",
    "#(imagenetID, label, prob) = P[0][0]\n",
    "#cv2.putText(img, \"Label: {}, {:.2f}%\".format(label, prob * 100),\n",
    "#\t(10, 30), cv2.FONT_HERSHEY_SIMPLEX, 0.8, (0, 255, 0), 2)\n",
    "#cv2.imshow(\"Classification\", img)\n",
    "#plt.imshow(img)"
   ]
  },
  {
   "cell_type": "code",
   "execution_count": null,
   "id": "b9d9cb93",
   "metadata": {
    "papermill": {
     "duration": 0.115063,
     "end_time": "2022-05-18T10:39:29.706099",
     "exception": false,
     "start_time": "2022-05-18T10:39:29.591036",
     "status": "completed"
    },
    "tags": []
   },
   "outputs": [],
   "source": []
  }
 ],
 "metadata": {
  "kernelspec": {
   "display_name": "Python 3",
   "language": "python",
   "name": "python3"
  },
  "language_info": {
   "codemirror_mode": {
    "name": "ipython",
    "version": 3
   },
   "file_extension": ".py",
   "mimetype": "text/x-python",
   "name": "python",
   "nbconvert_exporter": "python",
   "pygments_lexer": "ipython3",
   "version": "3.7.12"
  },
  "papermill": {
   "default_parameters": {},
   "duration": 811.879725,
   "end_time": "2022-05-18T10:39:32.830522",
   "environment_variables": {},
   "exception": null,
   "input_path": "__notebook__.ipynb",
   "output_path": "__notebook__.ipynb",
   "parameters": {},
   "start_time": "2022-05-18T10:26:00.950797",
   "version": "2.3.4"
  }
 },
 "nbformat": 4,
 "nbformat_minor": 5
}
